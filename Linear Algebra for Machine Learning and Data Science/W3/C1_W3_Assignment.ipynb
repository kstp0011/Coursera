{
  "cells": [
    {
      "cell_type": "markdown",
      "metadata": {
        "id": "view-in-github",
        "colab_type": "text"
      },
      "source": [
        "<a href=\"https://colab.research.google.com/github/kstp0011/Coursera/blob/main/Linear%20Algebra%20for%20Machine%20Learning%20and%20Data%20Science/W3/C1_W3_Assignment.ipynb\" target=\"_parent\"><img src=\"https://colab.research.google.com/assets/colab-badge.svg\" alt=\"Open In Colab\"/></a>"
      ]
    },
    {
      "cell_type": "markdown",
      "metadata": {
        "id": "EAt-K2qgcIou"
      },
      "source": [
        "# Single Perceptron Neural Networks for Linear Regression"
      ]
    },
    {
      "cell_type": "markdown",
      "metadata": {
        "id": "FZYK-0rin5x7"
      },
      "source": [
        "Welcome to your week 3 programming assignment. Now you are ready to apply matrix multiplication by building your first neural network with a single perceptron.\n",
        "\n",
        "**After this assignment you will be able to:**\n",
        "- Implement a neural network with a single perceptron and one input node for simple linear regression\n",
        "- Implement forward propagation using matrix multiplication\n",
        "- Implement a neural network with a single perceptron and two input nodes for multiple linear regression\n",
        "\n",
        "*Note*: Backward propagation with the parameters update requires understanding of Calculus. It is discussed in details in the Course \"Calculus\" (Course 2 in the Specialization \"Mathematics for Machine Learning\"). In this assignment backward propagation and parameters update functions are hidden."
      ]
    },
    {
      "cell_type": "markdown",
      "metadata": {
        "id": "K1VDZf3LaooS"
      },
      "source": [
        "# Table of Contents\n",
        "\n",
        "- [ 1 - Simple Linear Regression](#1)\n",
        "  - [ 1.1 - Simple Linear Regression Model](#1.1)\n",
        "  - [ 1.2 - Neural Network Model with a Single Perceptron and One Input Node](#1.2)\n",
        "  - [ 1.3 - Dataset](#1.3)\n",
        "    - [ Exercise 1](#ex01)\n",
        "- [ 2 - Implementation of the Neural Network Model for Linear Regression](#2)\n",
        "  - [ 2.1 - Defining the Neural Network Structure](#2.1)\n",
        "    - [ Exercise 2](#ex02)\n",
        "  - [ 2.2 - Initialize the Model's Parameters](#2.2)\n",
        "    - [ Exercise 3](#ex03)\n",
        "  - [ 2.3 - The Loop](#2.3)\n",
        "    - [ Exercise 4](#ex04)\n",
        "  - [ 2.4 - Integrate parts 2.1, 2.2 and 2.3 in nn_model()](#2.4)\n",
        "    - [ Exercise 5](#ex05)\n",
        "- [ 3 - Multiple Linear Regression](#3)\n",
        "  - [ 3.1 - Multipe Linear Regression Model](#3.1)\n",
        "  - [ 3.2 - Neural Network Model with a Single Perceptron and Two Input Nodes](#3.2)\n",
        "  - [ 3.3 - Dataset](#3.3)\n",
        "  - [ 3.4 - Performance of the Neural Network Model for Multiple Linear Regression](#3.4)\n",
        "    - [ Exercise 6](#ex06)"
      ]
    },
    {
      "cell_type": "markdown",
      "metadata": {
        "id": "XI8PBrk_2Z4V"
      },
      "source": [
        "## Packages\n",
        "\n",
        "Let's first import all the packages that you will need during this assignment."
      ]
    },
    {
      "cell_type": "code",
      "execution_count": 3,
      "metadata": {
        "tags": [
          "graded"
        ],
        "id": "pN55HoMCaooU"
      },
      "outputs": [],
      "source": [
        "import numpy as np\n",
        "import matplotlib.pyplot as plt\n",
        "# A function to create a dataset.\n",
        "from sklearn.datasets import make_regression\n",
        "# A library for data manipulation and analysis.\n",
        "import pandas as pd\n",
        "# Some functions defined specifically for this notebook.\n",
        "import w3_tools\n",
        "\n",
        "# Output of plotting commands is displayed inline within the Jupyter notebook.\n",
        "%matplotlib inline\n",
        "\n",
        "# Set a seed so that the results are consistent.\n",
        "np.random.seed(3)"
      ]
    },
    {
      "cell_type": "markdown",
      "metadata": {
        "id": "NhA8oAoiaooV"
      },
      "source": [
        "Load the unit tests defined for this notebook."
      ]
    },
    {
      "cell_type": "code",
      "execution_count": 4,
      "metadata": {
        "id": "-07zzqx9aooW"
      },
      "outputs": [],
      "source": [
        "import w3_unittest"
      ]
    },
    {
      "cell_type": "markdown",
      "metadata": {
        "id": "t7TBhT0paooW"
      },
      "source": [
        "<a name='1'></a>\n",
        "## 1 - Simple Linear Regression\n",
        "\n",
        "**Linear regression** is a linear approach for modelling the relationship between a scalar response (**dependent variable**) and one or more explanatory variables (**independent variables**). The case of one independent variable is called **simple linear regression**; for more than one, it is called **multiple linear regression**."
      ]
    },
    {
      "cell_type": "markdown",
      "metadata": {
        "id": "gGLuLzcaaooX"
      },
      "source": [
        "<a name='1.1'></a>\n",
        "### 1.1 - Simple Linear Regression Model\n",
        "\n",
        "Simple linear regression model can be written as\n",
        "\n",
        "$$\\hat{y} = wx + b,\\tag{1}$$\n",
        "\n",
        "where $\\hat{y}$ is a prediction of dependent variable $y$ based on independent variable $x$ using a line equation with the slope $w$ and intercept $b$.\n",
        "\n",
        "Given a set of training data points $(x_1, y_1)$, ..., $(x_m, y_m)$, the aim is to find the \"best\" fitting line - such parameters $w$ and $b$ that the differences between original values $y_i$ and predicted values $\\hat{y}_i = wx_i + b$ are minimum.\n",
        "\n",
        "You can use a simple neural network model to do that. Vector algebra will be used in the core of the model!"
      ]
    },
    {
      "cell_type": "markdown",
      "metadata": {
        "id": "GrHO7RqPaooX"
      },
      "source": [
        "<a name='1.2'></a>\n",
        "### 1.2 - Neural Network Model with a Single Perceptron and One Input Node\n",
        "\n",
        "The simplest neural network model has only one **perceptron**. It takes some inputs and calculates the output value.\n",
        "\n",
        "The perceptron components are shown in the following scheme:\n",
        "\n",
        "<img src=\"images/nn_model_linear_regression_simple.png\" style=\"width:400px;\">\n",
        "\n",
        "The smallest construction block of neural networks is called a **node**. Some nodes store numbers from the input and others store the calculated values. **Input nodes** (here there is only one input node $x$) contain the input to the network which consists of your data. These nodes are set as an **input layer** of the network.\n",
        "\n",
        "**Weight** ($w$) and **bias** ($b$) are the parameters which will get updated when you will **train** the model. They are initialized to some random value or set to 0 and updated as the training progresses. The bias is analogous to a weight independent of any input node. It makes the model more flexible.\n",
        "\n",
        "The perceptron output calculation is straightforward: first compute the product of $x$ and weight $w$ and the add the bias:\n",
        "\n",
        "$$z = w x + b\\tag{2}$$\n",
        "\n",
        "The **output layer** of the single perceptron has only one node $\\hat{y} = z$.\n",
        "\n",
        "Putting it all together, mathematically the single perceptron neural network model can be expressed as:\n",
        "\n",
        "\\begin{align}\n",
        "z^{(i)} &=  w x^{(i)} + b,\\\\\n",
        "\\hat{y}^{(i)} &= z^{(i)},\n",
        "\\tag{3}\\end{align}\n",
        "\n",
        "where $x^{(i)}$ represents the $i$-th training example and $\\hat{y}^{(i)}$ will be the prediction based on that example, $i = 1, \\dots, m$.\n",
        "\n",
        "If you have $m$ training examples, vector operations will give you a chance to perform the calculations simultaniously for all of them! Organise all training examples as a vector $X$ of size ($1 \\times m$). Then perform scalar multiplication of $X$ ($1 \\times m$) by a scalar $w$, adding $b$, which will be broadcasted to the vector of size ($1 \\times m$):\n",
        "\n",
        "\\begin{align}\n",
        "Z &=  w X + b,\\\\\n",
        "\\hat{Y} &= Z,\n",
        "\\tag{4}\\end{align}\n",
        "\n",
        "This significantly speeds up the calculations for the larger training sets! This set of calculations is called **forward propagation**."
      ]
    },
    {
      "cell_type": "markdown",
      "metadata": {
        "id": "Lica5cFUaooY"
      },
      "source": [
        "Now, you can compare the resulting vector of the predictions $\\hat{Y}$ ($1 \\times m$) with the original vector of data $Y$. This can be done with the so called **cost function** that measures how close your vector of predictions to the training data. It evaluates how well the parameters $w$ and $b$ work to solve the problem. There are many different cost functions available depending on the nature of your problem. For your simple neural network you can calculate it as:\n",
        "\n",
        "$$\\mathcal{L}\\left(w, b\\right)  = \\frac{1}{2m}\\sum_{i=1}^{m} \\left(\\hat{y}^{(i)} - y^{(i)}\\right)^2.\\tag{5}$$\n",
        "\n",
        "The aim is to minimize the cost function during the training, which will minimize the differences between original values $y_i$ and predicted values $\\hat{y}_i$ (division by $2m$ is taken just for scaling purposes).\n",
        "\n",
        "When your weights were just initialized with some random values, and no training was done yet, you can't expect good results.\n",
        "\n",
        "The next step is to adjust the weights and bias, in order to minimize the cost function. This process is called **backward propagation** and is done iteratively: you update the parameters with a small change and repeat the process.\n",
        "\n",
        "*Note*: Backward propagation is not covered in this Course - it will be discussed in the next Course of this Specialization.\n",
        "\n",
        "The general **methodology** to build a neural network is to:\n",
        "1. Define the neural network structure ( # of input units,  # of hidden units, etc).\n",
        "2. Initialize the model's parameters\n",
        "3. Loop:\n",
        "    - Implement forward propagation (calculate the perceptron output),\n",
        "    - Implement backward propagation (to get the required corrections for the parameters),\n",
        "    - Update parameters.\n",
        "4. Make predictions.\n",
        "\n",
        "You often build helper functions to compute steps 1-3 and then merge them into one function you call `nn_model()`. Once you've built `nn_model()` and learnt the right parameters, you can make predictions on new data."
      ]
    },
    {
      "cell_type": "markdown",
      "metadata": {
        "id": "OITHgBYoaooY"
      },
      "source": [
        "<a name='1.3'></a>\n",
        "### 1.3 - Dataset\n",
        "\n",
        "First, let's get the dataset you will work on. The following code will create $m=30$ data points $(x_1, y_1)$, ..., $(x_m, y_m)$ and save them in `NumPy` arrays `X` and `Y` of a shape $(1 \\times m)$."
      ]
    },
    {
      "cell_type": "code",
      "execution_count": 5,
      "metadata": {
        "tags": [
          "graded"
        ],
        "colab": {
          "base_uri": "https://localhost:8080/"
        },
        "id": "Zd1zNANaaooZ",
        "outputId": "0fc59fdf-9c33-4f49-bc28-59cbb3fbf193"
      },
      "outputs": [
        {
          "output_type": "stream",
          "name": "stdout",
          "text": [
            "Training dataset X:\n",
            "[[ 0.3190391  -1.07296862  0.86540763 -0.17242821  1.14472371  0.50249434\n",
            "  -2.3015387  -0.68372786 -0.38405435 -0.87785842 -2.06014071 -1.10061918\n",
            "  -1.09989127  1.13376944  1.74481176 -0.12289023 -0.93576943  1.62434536\n",
            "   1.46210794  0.90159072 -0.7612069   0.53035547 -0.52817175 -0.26788808\n",
            "   0.58281521  0.04221375  0.90085595 -0.24937038 -0.61175641 -0.3224172 ]]\n",
            "Training dataset Y\n",
            "[[ -3.01854669 -65.65047675  26.96755728   8.70562603  57.94332628\n",
            "   -0.69293498 -78.66594473 -12.73881492 -13.26721663 -24.80488085\n",
            "  -74.24484385 -39.99533724 -22.70174437  73.46766345  55.7257405\n",
            "   23.80417646 -13.45481508  25.57952246  75.91238321  50.91155323\n",
            "  -43.7191551   -1.7025559  -16.44931235 -33.54041234  20.4505961\n",
            "   18.35949302  37.69029586  -1.04801683  -4.47915933 -20.89431647]]\n"
          ]
        }
      ],
      "source": [
        "m = 30\n",
        "\n",
        "X, Y = make_regression(n_samples=m, n_features=1, noise=20, random_state=1)\n",
        "\n",
        "X = X.reshape((1, m))\n",
        "Y = Y.reshape((1, m))\n",
        "\n",
        "print('Training dataset X:')\n",
        "print(X)\n",
        "print('Training dataset Y')\n",
        "print(Y)"
      ]
    },
    {
      "cell_type": "markdown",
      "metadata": {
        "id": "aD7goFlTaooa"
      },
      "source": [
        "Plot the dataset:"
      ]
    },
    {
      "cell_type": "code",
      "execution_count": 6,
      "metadata": {
        "tags": [
          "graded"
        ],
        "colab": {
          "base_uri": "https://localhost:8080/",
          "height": 466
        },
        "id": "XbfMeDFraooa",
        "outputId": "338eca5b-e902-49f9-e665-098f14a1af6a"
      },
      "outputs": [
        {
          "output_type": "execute_result",
          "data": {
            "text/plain": [
              "Text(0, 0.5, '$y$')"
            ]
          },
          "metadata": {},
          "execution_count": 6
        },
        {
          "output_type": "display_data",
          "data": {
            "text/plain": [
              "<Figure size 640x480 with 1 Axes>"
            ],
            "image/png": "[encoded data removed]"
          },
          "metadata": {}
        }
      ],
      "source": [
        "plt.scatter(X,  Y, c=\"black\")\n",
        "\n",
        "plt.xlabel(\"$x$\")\n",
        "plt.ylabel(\"$y$\")"
      ]
    },
    {
      "cell_type": "markdown",
      "metadata": {
        "id": "F61Tpe3Kaooa"
      },
      "source": [
        "<a name='ex01'></a>\n",
        "### Exercise 1\n",
        "\n",
        "What is the `shape` of the variables `X` and `Y`? In addition, how many training examples do you have?"
      ]
    },
    {
      "cell_type": "markdown",
      "metadata": {
        "id": "VY_10jybaoob"
      },
      "source": [
        "<details>    \n",
        "<summary>\n",
        "    <font size=\"3\" color=\"darkgreen\"><b>Hint</b></font>\n",
        "</summary>\n",
        "<p>\n",
        "<ul>\n",
        "    <li>How do you get the shape of a NumPy array?</li>\n",
        "    <li>The coordinates x1, x2 were saved in the columns of the array X</li>\n",
        "</ul>\n",
        "</p>"
      ]
    },
    {
      "cell_type": "code",
      "execution_count": 7,
      "metadata": {
        "tags": [
          "graded"
        ],
        "colab": {
          "base_uri": "https://localhost:8080/"
        },
        "id": "-j8-hWvRaoob",
        "outputId": "19eea3b6-1985-4b65-9de7-2cfc3f213b6c"
      },
      "outputs": [
        {
          "output_type": "stream",
          "name": "stdout",
          "text": [
            "The shape of X: (1, 30)\n",
            "The shape of Y: (1, 30)\n",
            "I have m = 30 training examples!\n"
          ]
        }
      ],
      "source": [
        "### START CODE HERE ### (~ 3 lines of code)\n",
        "# Shape of variable X.\n",
        "shape_X = X.shape\n",
        "# Shape of variable Y.\n",
        "shape_Y = Y.shape\n",
        "# Training set size.\n",
        "m = X.shape[1]\n",
        "### END CODE HERE ###\n",
        "\n",
        "print ('The shape of X: ' + str(shape_X))\n",
        "print ('The shape of Y: ' + str(shape_Y))\n",
        "print ('I have m = %d training examples!' % (m))\n"
      ]
    },
    {
      "cell_type": "markdown",
      "metadata": {
        "id": "khGtazydaoob"
      },
      "source": [
        "##### __Expected Output__\n",
        "\n",
        "```Python\n",
        "The shape of X: (1, 30)\n",
        "The shape of Y: (1, 30)\n",
        "I have m = 30 training examples!\n",
        "```"
      ]
    },
    {
      "cell_type": "code",
      "execution_count": 8,
      "metadata": {
        "colab": {
          "base_uri": "https://localhost:8080/"
        },
        "id": "DS8CsL_0aoob",
        "outputId": "3c9988f9-62b5-4d2f-9ca7-94238350e26e"
      },
      "outputs": [
        {
          "output_type": "stream",
          "name": "stdout",
          "text": [
            "\u001b[92m All tests passed\n"
          ]
        }
      ],
      "source": [
        "w3_unittest.test_shapes(shape_X, shape_Y, m)"
      ]
    },
    {
      "cell_type": "markdown",
      "metadata": {
        "id": "y_Mo7b6Maoob"
      },
      "source": [
        "<a name='2'></a>\n",
        "## 2 - Implementation of the Neural Network Model for Linear Regression\n",
        "\n",
        "Let's setup the neural network in a way which will allow to extend this simple case of a model to more complicated structures later."
      ]
    },
    {
      "cell_type": "markdown",
      "metadata": {
        "id": "pb3o1cKgaooc"
      },
      "source": [
        "<a name='2.1'></a>\n",
        "### 2.1 - Defining the Neural Network Structure"
      ]
    },
    {
      "cell_type": "markdown",
      "metadata": {
        "id": "fhHAEj-Haooc"
      },
      "source": [
        "<a name='ex02'></a>\n",
        "### Exercise 2\n",
        "\n",
        "Define two variables:\n",
        "- `n_x`: the size of the input layer\n",
        "- `n_y`: the size of the output layer"
      ]
    },
    {
      "cell_type": "markdown",
      "metadata": {
        "id": "s-SRthYwaooc"
      },
      "source": [
        "<details>    \n",
        "<summary>\n",
        "    <font size=\"3\" color=\"darkgreen\"><b>Hint</b></font>\n",
        "</summary>\n",
        "<p>\n",
        "<ul>\n",
        "    Use shapes of X and Y to find n_x and n_y:\n",
        "    <li>the size of the input layer n_x equals to the size of the input vectors placed in the columns of the array X,</li>\n",
        "    <li>the outpus for each of the data point will be saved in the columns of the the array Y.</li>\n",
        "</ul>\n",
        "</p>"
      ]
    },
    {
      "cell_type": "code",
      "execution_count": 9,
      "metadata": {
        "tags": [
          "graded"
        ],
        "id": "kZxOgir1aooc"
      },
      "outputs": [],
      "source": [
        "# GRADED FUNCTION: layer_sizes\n",
        "\n",
        "def layer_sizes(X, Y):\n",
        "    \"\"\"\n",
        "    Arguments:\n",
        "    X -- input dataset of shape (input size, number of examples)\n",
        "    Y -- labels of shape (output size, number of examples)\n",
        "\n",
        "    Returns:\n",
        "    n_x -- the size of the input layer\n",
        "    n_y -- the size of the output layer\n",
        "    \"\"\"\n",
        "    ### START CODE HERE ### (~ 2 lines of code)\n",
        "    # Size of input layer.\n",
        "    n_x = X.shape[0]\n",
        "    # Size of output layer.\n",
        "    n_y = Y.shape[0]\n",
        "    ### END CODE HERE ###\n",
        "    return (n_x, n_y)\n"
      ]
    },
    {
      "cell_type": "code",
      "execution_count": 10,
      "metadata": {
        "tags": [
          "graded"
        ],
        "colab": {
          "base_uri": "https://localhost:8080/"
        },
        "id": "SrffqYPqaood",
        "outputId": "1d3419be-4c9a-4c70-979d-59c99899e8d1"
      },
      "outputs": [
        {
          "output_type": "stream",
          "name": "stdout",
          "text": [
            "The size of the input layer is: n_x = 1\n",
            "The size of the output layer is: n_y = 1\n"
          ]
        }
      ],
      "source": [
        "(n_x, n_y) = layer_sizes(X, Y)\n",
        "print(\"The size of the input layer is: n_x = \" + str(n_x))\n",
        "print(\"The size of the output layer is: n_y = \" + str(n_y))"
      ]
    },
    {
      "cell_type": "markdown",
      "metadata": {
        "id": "g3Uy9WSCaood"
      },
      "source": [
        "##### __Expected Output__\n",
        "\n",
        "```Python\n",
        "The size of the input layer is: n_x = 1\n",
        "The size of the output layer is: n_y = 1\n",
        "```"
      ]
    },
    {
      "cell_type": "code",
      "execution_count": 11,
      "metadata": {
        "colab": {
          "base_uri": "https://localhost:8080/"
        },
        "id": "FEcE37ZWaood",
        "outputId": "1456596a-9422-4e3a-865b-d9a29125b024"
      },
      "outputs": [
        {
          "output_type": "stream",
          "name": "stdout",
          "text": [
            "\u001b[92m All tests passed\n"
          ]
        }
      ],
      "source": [
        "w3_unittest.test_layer_sizes(layer_sizes)"
      ]
    },
    {
      "cell_type": "markdown",
      "metadata": {
        "id": "LvDUXW5Kaooe"
      },
      "source": [
        "<a name='2.2'></a>\n",
        "### 2.2 - Initialize the Model's Parameters"
      ]
    },
    {
      "cell_type": "markdown",
      "metadata": {
        "id": "8Ficnds1aooe"
      },
      "source": [
        "<a name='ex03'></a>\n",
        "### Exercise 3\n",
        "\n",
        "Implement the function `initialize_parameters()`.\n",
        "\n",
        "**Instructions**:\n",
        "- Make sure your parameters' sizes are right. Refer to the neural network figure above if needed.\n",
        "- You will initialize the weights matrix with random values.\n",
        "    - Use: `np.random.randn(a,b) * 0.01` to randomly initialize a matrix of shape (a,b).\n",
        "- You will initialize the bias vector as zeros.\n",
        "    - Use: `np.zeros((a,b))` to initialize a matrix of shape (a,b) with zeros."
      ]
    },
    {
      "cell_type": "code",
      "execution_count": 12,
      "metadata": {
        "tags": [
          "graded"
        ],
        "id": "nIco5ubqaooe"
      },
      "outputs": [],
      "source": [
        "# GRADED FUNCTION: initialize_parameters\n",
        "\n",
        "def initialize_parameters(n_x, n_y):\n",
        "    \"\"\"\n",
        "    Returns:\n",
        "    params -- python dictionary containing your parameters:\n",
        "                    W -- weight matrix of shape (n_y, n_x)\n",
        "                    b -- bias value set as a vector of shape (n_y, 1)\n",
        "    \"\"\"\n",
        "\n",
        "    ### START CODE HERE ### (~ 2 lines of code)\n",
        "    W = np.random.randn(n_y, n_x) * 0.01\n",
        "    b = np.zeros((n_y, 1))\n",
        "\n",
        "    ### END CODE HERE ###\n",
        "\n",
        "    assert (W.shape == (n_y, n_x))\n",
        "    assert (b.shape == (n_y, 1))\n",
        "\n",
        "    parameters = {\"W\": W,\n",
        "                  \"b\": b}\n",
        "\n",
        "    return parameters\n"
      ]
    },
    {
      "cell_type": "code",
      "execution_count": 23,
      "metadata": {
        "tags": [
          "graded"
        ],
        "colab": {
          "base_uri": "https://localhost:8080/"
        },
        "id": "-y9M7-UQaoof",
        "outputId": "3a5fa3b4-2542-4678-decc-ec888a09023b"
      },
      "outputs": [
        {
          "output_type": "stream",
          "name": "stdout",
          "text": [
            "W = [[-0.01313865]]\n",
            "b = [[0.]]\n"
          ]
        }
      ],
      "source": [
        "parameters = initialize_parameters(n_x, n_y)\n",
        "print(\"W = \" + str(parameters[\"W\"]))\n",
        "print(\"b = \" + str(parameters[\"b\"]))"
      ]
    },
    {
      "cell_type": "markdown",
      "metadata": {
        "id": "DZRb8pLQaoog"
      },
      "source": [
        "##### __Expected Output__\n",
        "Note: the elements of the array W maybe be different due to random initialization. You can try to restart the kernel to get the same values.\n",
        "\n",
        "```Python\n",
        "W = [[0.01788628]]\n",
        "b = [[0.]]\n",
        "```"
      ]
    },
    {
      "cell_type": "code",
      "execution_count": 24,
      "metadata": {
        "colab": {
          "base_uri": "https://localhost:8080/"
        },
        "id": "8DBzItKwaoog",
        "outputId": "6d4d5c7f-754c-451d-fc92-f3de1ec4c4eb"
      },
      "outputs": [
        {
          "output_type": "stream",
          "name": "stdout",
          "text": [
            "\u001b[92m All tests passed\n"
          ]
        }
      ],
      "source": [
        "# Note:\n",
        "# Actual values are not checked here in the unit tests (due to random initialization).\n",
        "w3_unittest.test_initialize_parameters(initialize_parameters)"
      ]
    },
    {
      "cell_type": "markdown",
      "metadata": {
        "id": "yOltrK-haoog"
      },
      "source": [
        "<a name='2.3'></a>\n",
        "### 2.3 - The Loop"
      ]
    },
    {
      "cell_type": "markdown",
      "metadata": {
        "id": "2wBCZQSnaoog"
      },
      "source": [
        "<a name='ex04'></a>\n",
        "### Exercise 4\n",
        "\n",
        "Implement `forward_propagation()`.\n",
        "\n",
        "**Instructions**:\n",
        "- Look at the mathematical representation of your model $(4)$ in the section [1.2](#1.2):\n",
        "\\begin{align}\n",
        "Z &=  w X + b\\\\\n",
        "\\hat{Y} &= Z,\n",
        "\\end{align}\n",
        "- The steps you have to implement are:\n",
        "    1. Retrieve each parameter from the dictionary \"parameters\" (which is the output of `initialize_parameters()`) by using `parameters[\"..\"]`.\n",
        "    2. Implement Forward Propagation. Compute `Z` multiplying arrays `w`, `X` and adding vector `b`. Set the prediction array $A$ equal to $Z$.  \n"
      ]
    },
    {
      "cell_type": "code",
      "execution_count": 28,
      "metadata": {
        "tags": [
          "graded"
        ],
        "id": "AihFaWbzaoog"
      },
      "outputs": [],
      "source": [
        "# GRADED FUNCTION: forward_propagation\n",
        "\n",
        "def forward_propagation(X, parameters):\n",
        "    \"\"\"\n",
        "    Argument:\n",
        "    X -- input data of size (n_x, m)\n",
        "    parameters -- python dictionary containing your parameters (output of initialization function)\n",
        "\n",
        "    Returns:\n",
        "    Y_hat -- The output\n",
        "    \"\"\"\n",
        "    # Retrieve each parameter from the dictionary \"parameters\".\n",
        "    ### START CODE HERE ### (~ 2 lines of code)\n",
        "    W = parameters[\"W\"]\n",
        "    b = parameters[\"b\"]\n",
        "    ### END CODE HERE ###\n",
        "\n",
        "    # Implement Forward Propagation to calculate Z.\n",
        "    ### START CODE HERE ### (~ 2 lines of code)\n",
        "\n",
        "    Z = np.matmul(W, X) + b\n",
        "    Y_hat = Z\n",
        "    ### END CODE HERE ###\n",
        "\n",
        "    assert(Y_hat.shape == (n_x, X.shape[1]))\n",
        "\n",
        "    return Y_hat"
      ]
    },
    {
      "cell_type": "code",
      "execution_count": 30,
      "metadata": {
        "tags": [
          "graded"
        ],
        "colab": {
          "base_uri": "https://localhost:8080/"
        },
        "id": "UcPoLizvaooh",
        "outputId": "dad5fe9f-a60d-4b3f-9197-343edd646753"
      },
      "outputs": [
        {
          "output_type": "stream",
          "name": "stdout",
          "text": [
            "[[-0.00419174  0.01409736 -0.01137029  0.00226547 -0.01504012 -0.0066021\n",
            "   0.03023911  0.00898326  0.00504595  0.01153387  0.02706746  0.01446065\n",
            "   0.01445108 -0.0148962  -0.02292447  0.00161461  0.01229474 -0.0213417\n",
            "  -0.01921012 -0.01184568  0.01000123 -0.00696815  0.00693946  0.00351969\n",
            "  -0.0076574  -0.00055463 -0.01183603  0.00327639  0.00803765  0.00423613]]\n"
          ]
        }
      ],
      "source": [
        "Y_hat = forward_propagation(X, parameters)\n",
        "\n",
        "print(Y_hat)"
      ]
    },
    {
      "cell_type": "markdown",
      "metadata": {
        "id": "07IWghmlaooh"
      },
      "source": [
        "##### __Expected Output__\n",
        "Note: the elements of the array Y_hat maybe be different depending on the initial parameters. If you would like to get exactly the same output, try to restart the Kernel and rerun the notebook.\n",
        "\n",
        "```Python\n",
        "[[ 0.00570642 -0.01919142  0.01547893 -0.0030841   0.02047485  0.00898776\n",
        "  -0.04116598 -0.01222935 -0.00686931 -0.01570163 -0.03684826 -0.01968599\n",
        "  -0.01967297  0.02027892  0.0312082  -0.00219805 -0.01673744  0.0290535\n",
        "   0.02615168  0.01612611 -0.01361516  0.00948609 -0.00944703 -0.00479152\n",
        "   0.0104244   0.00075505  0.01611297 -0.00446031 -0.01094205 -0.00576685]]\n",
        "```"
      ]
    },
    {
      "cell_type": "code",
      "execution_count": 31,
      "metadata": {
        "colab": {
          "base_uri": "https://localhost:8080/"
        },
        "id": "aaJxcsZxaoos",
        "outputId": "6518510c-817a-4086-9378-9b1bc7622700"
      },
      "outputs": [
        {
          "output_type": "stream",
          "name": "stdout",
          "text": [
            "\u001b[92m All tests passed\n"
          ]
        }
      ],
      "source": [
        "w3_unittest.test_forward_propagation(forward_propagation)"
      ]
    },
    {
      "cell_type": "markdown",
      "metadata": {
        "id": "7oHMm0MFaoos"
      },
      "source": [
        "Remember that your weights were just initialized with some random values, so the model has not been trained yet.\n",
        "\n",
        "Define a cost function $(5)$ which will be used to train the model:\n",
        "\n",
        "$$\\mathcal{L}\\left(w, b\\right)  = \\frac{1}{2m}\\sum_{i=1}^{m} \\left(\\hat{y}^{(i)} - y^{(i)}\\right)^2$$"
      ]
    },
    {
      "cell_type": "code",
      "execution_count": 32,
      "metadata": {
        "tags": [
          "graded"
        ],
        "id": "im4FkEIfaoot"
      },
      "outputs": [],
      "source": [
        "def compute_cost(Y_hat,Y):\n",
        "    \"\"\"\n",
        "    Computes the cost function as a sum of squares\n",
        "\n",
        "    Arguments:\n",
        "    Y_hat -- The output of the neural network of shape (n_y, number of examples)\n",
        "    Y -- \"true\" labels vector of shape (n_y, number of examples)\n",
        "\n",
        "    Returns:\n",
        "    cost -- sum of squares scaled by 1/(2*number of examples)\n",
        "\n",
        "    \"\"\"\n",
        "    # Number of examples.\n",
        "    m = Y.shape[1]\n",
        "\n",
        "    # Compute the cost function.\n",
        "    cost = np.sum((Y_hat - Y)**2)/(2*m)\n",
        "\n",
        "    return cost"
      ]
    },
    {
      "cell_type": "code",
      "execution_count": 33,
      "metadata": {
        "tags": [
          "graded"
        ],
        "colab": {
          "base_uri": "https://localhost:8080/"
        },
        "id": "TFGKAmbFaoot",
        "outputId": "c82aca02-3574-41c5-868c-273df8777f6c"
      },
      "outputs": [
        {
          "output_type": "stream",
          "name": "stdout",
          "text": [
            "cost = 791.3470802801479\n"
          ]
        }
      ],
      "source": [
        "print(\"cost = \" + str(compute_cost(Y_hat, Y)))"
      ]
    },
    {
      "cell_type": "markdown",
      "metadata": {
        "id": "-W6JXgfzaoot"
      },
      "source": [
        "You want to minimize the cost value, bringing it as close as possible to $0$, making your vector of predictions as similar to the training data as possible.\n",
        "\n",
        "To achieve this, backward propagation needs to be performed. It is covered in details in the Course \"Calculus\" (Course 2 in the Specialization \"Mathematics for Machine Learning\"). For now you can use a function `train_nn()` from the uploaded toolbox to get the updated parameters in each step of the loop."
      ]
    },
    {
      "cell_type": "code",
      "execution_count": 34,
      "metadata": {
        "tags": [
          "graded"
        ],
        "colab": {
          "base_uri": "https://localhost:8080/"
        },
        "id": "bhoPsn15aoot",
        "outputId": "3c6ef23d-29e4-4451-daa6-81eeb8955f5f"
      },
      "outputs": [
        {
          "output_type": "stream",
          "name": "stdout",
          "text": [
            "W = [[43.6406875]]\n",
            "b = [[0.17703296]]\n"
          ]
        }
      ],
      "source": [
        "parameters = w3_tools.train_nn(parameters, Y_hat, X, Y)\n",
        "\n",
        "print(\"W = \" + str(parameters[\"W\"]))\n",
        "print(\"b = \" + str(parameters[\"b\"]))"
      ]
    },
    {
      "cell_type": "markdown",
      "metadata": {
        "id": "GzHym1ITaoot"
      },
      "source": [
        "<a name='2.4'></a>\n",
        "### 2.4 - Integrate parts 2.1, 2.2 and 2.3 in nn_model()"
      ]
    },
    {
      "cell_type": "markdown",
      "metadata": {
        "id": "ZxVweTxGaoot"
      },
      "source": [
        "<a name='ex05'></a>\n",
        "### Exercise 5\n",
        "\n",
        "Build your neural network model in `nn_model()`.\n",
        "\n",
        "**Instructions**: The neural network model has to use the previous functions in the right order."
      ]
    },
    {
      "cell_type": "code",
      "execution_count": 35,
      "metadata": {
        "tags": [
          "graded"
        ],
        "id": "YHgt_e5Waoou"
      },
      "outputs": [],
      "source": [
        "# GRADED FUNCTION: nn_model\n",
        "\n",
        "def nn_model(X, Y, num_iterations=10, print_cost=False):\n",
        "    \"\"\"\n",
        "    Arguments:\n",
        "    X -- dataset of shape (n_x, number of examples)\n",
        "    Y -- labels of shape (n_y, number of examples)\n",
        "    num_iterations -- number of iterations in the loop\n",
        "    print_cost -- if True, print the cost every iteration\n",
        "\n",
        "    Returns:\n",
        "    parameters -- parameters learnt by the model. They can then be used to make predictions.\n",
        "    \"\"\"\n",
        "\n",
        "    n_x = layer_sizes(X, Y)[0]\n",
        "    n_y = layer_sizes(X, Y)[1]\n",
        "    # Initialize parameters\n",
        "    ### START CODE HERE ### (~ 1 line of code)\n",
        "    parameters = initialize_parameters(n_x, n_y)\n",
        "    ### END CODE HERE ###\n",
        "\n",
        "    # Loop\n",
        "    for i in range(0, num_iterations):\n",
        "\n",
        "        ### START CODE HERE ### (~ 2 lines of code)\n",
        "        # Forward propagation. Inputs: \"X, parameters\". Outputs: \"Y_hat\".\n",
        "        Y_hat = forward_propagation(X, parameters)\n",
        "\n",
        "        # Cost function. Inputs: \"Y_hat, Y\". Outputs: \"cost\".\n",
        "        cost = compute_cost(Y_hat, Y)\n",
        "        ### END CODE HERE ###\n",
        "\n",
        "\n",
        "        # Parameters update.\n",
        "        parameters = w3_tools.train_nn(parameters, Y_hat, X, Y)\n",
        "\n",
        "        # Print the cost every iteration.\n",
        "        if print_cost:\n",
        "            print (\"Cost after iteration %i: %f\" %(i, cost))\n",
        "\n",
        "    return parameters\n",
        "\n"
      ]
    },
    {
      "cell_type": "code",
      "execution_count": 36,
      "metadata": {
        "tags": [
          "graded"
        ],
        "colab": {
          "base_uri": "https://localhost:8080/"
        },
        "id": "DgDRkyTBaoou",
        "outputId": "20abd73a-1ebb-49a6-ac02-980b56adebc0"
      },
      "outputs": [
        {
          "output_type": "stream",
          "name": "stdout",
          "text": [
            "Cost after iteration 0: 790.927580\n",
            "Cost after iteration 1: 176.501641\n",
            "Cost after iteration 2: 143.770185\n",
            "Cost after iteration 3: 141.433441\n",
            "Cost after iteration 4: 141.248730\n",
            "Cost after iteration 5: 141.233727\n",
            "Cost after iteration 6: 141.232500\n",
            "Cost after iteration 7: 141.232400\n",
            "Cost after iteration 8: 141.232391\n",
            "Cost after iteration 9: 141.232391\n",
            "Cost after iteration 10: 141.232391\n",
            "Cost after iteration 11: 141.232391\n",
            "Cost after iteration 12: 141.232391\n",
            "Cost after iteration 13: 141.232391\n",
            "Cost after iteration 14: 141.232391\n",
            "W = [[35.71958208]]\n",
            "b = [[2.2893077]]\n"
          ]
        }
      ],
      "source": [
        "parameters = nn_model(X, Y, num_iterations=15, print_cost=True)\n",
        "print(\"W = \" + str(parameters[\"W\"]))\n",
        "print(\"b = \" + str(parameters[\"b\"]))\n",
        "\n",
        "W_simple = parameters[\"W\"]\n",
        "b_simple = parameters[\"b\"]"
      ]
    },
    {
      "cell_type": "markdown",
      "metadata": {
        "id": "XDo75_RMaoou"
      },
      "source": [
        "##### __Expected Output__\n",
        "Note: the actual values can be different!\n",
        "\n",
        "```Python\n",
        "Cost after iteration 0: 791.431703\n",
        "Cost after iteration 1: 176.530000\n",
        "Cost after iteration 2: 143.772255\n",
        "Cost after iteration 3: 141.433606\n",
        "Cost after iteration 4: 141.248744\n",
        "Cost after iteration 5: 141.233728\n",
        "Cost after iteration 6: 141.232500\n",
        "Cost after iteration 7: 141.232400\n",
        "Cost after iteration 8: 141.232391\n",
        "Cost after iteration 9: 141.232391\n",
        "Cost after iteration 10: 141.232391\n",
        "Cost after iteration 11: 141.232391\n",
        "Cost after iteration 12: 141.232391\n",
        "Cost after iteration 13: 141.232391\n",
        "Cost after iteration 14: 141.232391\n",
        "W = [[35.71958208]]\n",
        "b = [[2.2893077]]\n",
        "```"
      ]
    },
    {
      "cell_type": "code",
      "execution_count": null,
      "metadata": {
        "id": "9iYA0kpPaoou",
        "outputId": "afc0e364-b762-471a-cbfc-2bd727208a46"
      },
      "outputs": [
        {
          "name": "stdout",
          "output_type": "stream",
          "text": [
            "\u001b[92m All tests passed\n"
          ]
        }
      ],
      "source": [
        "# Note:\n",
        "# Actual values are not checked here in the unit tests (due to random initialization).\n",
        "w3_unittest.test_nn_model(nn_model)"
      ]
    },
    {
      "cell_type": "markdown",
      "metadata": {
        "id": "x8kKeTY9aoov"
      },
      "source": [
        "You can see that after a few iterations the cost function does not change anymore (the model converges).\n",
        "\n",
        "*Note*: This is a very simple model. In reality the models do not converge that quickly.\n",
        "\n",
        "The final model parameters can be used for making predictions. Let's plot the linear regression line and some predictions. The regression line is red and the predicted points are blue."
      ]
    },
    {
      "cell_type": "code",
      "execution_count": null,
      "metadata": {
        "tags": [
          "graded"
        ],
        "id": "OZJ_bC8Yaoov",
        "outputId": "d22d010e-23bf-41f5-95fe-a05b25da966e"
      },
      "outputs": [
        {
          "data": {
            "image/png": "[encoded data removed]",
            "text/plain": [
              "<Figure size 432x288 with 1 Axes>"
            ]
          },
          "metadata": {
            "needs_background": "light"
          },
          "output_type": "display_data"
        }
      ],
      "source": [
        "X_pred = np.array([-0.95, 0.2, 1.5])\n",
        "\n",
        "fig, ax = plt.subplots()\n",
        "plt.scatter(X, Y, color = \"black\")\n",
        "\n",
        "plt.xlabel(\"$x$\")\n",
        "plt.ylabel(\"$y$\")\n",
        "\n",
        "X_line = np.arange(np.min(X[0,:]),np.max(X[0,:])*1.1, 0.1)\n",
        "ax.plot(X_line, W_simple[0,0] * X_line + b_simple[0,0], \"r\")\n",
        "ax.plot(X_pred, W_simple[0,0] * X_pred + b_simple[0,0], \"bo\")\n",
        "plt.plot()\n",
        "plt.show()"
      ]
    },
    {
      "cell_type": "markdown",
      "metadata": {
        "id": "9LNZbUcHaoov"
      },
      "source": [
        "Not bad for such a small neural network with just a single perceptron and one input node!"
      ]
    },
    {
      "cell_type": "markdown",
      "metadata": {
        "id": "dAnZmlRIaoov"
      },
      "source": [
        "<a name='3'></a>\n",
        "## 3 - Multiple Linear Regression\n",
        "\n",
        "Models are not always as simple as the one above. In some cases your output is dependent on more than just one variable. Let's look at the case where the output depends on two input variables."
      ]
    },
    {
      "cell_type": "markdown",
      "metadata": {
        "id": "JrZNrnd4aoov"
      },
      "source": [
        "<a name='3.1'></a>\n",
        "### 3.1 - Multipe Linear Regression Model\n",
        "\n",
        "Multiple linear regression model with two independent variables $x_1$, $x_2$ can be written as\n",
        "\n",
        "$$\\hat{y} = w_1x_1 + w_2x_2 + b = Wx + b,\\tag{6}$$\n",
        "\n",
        "where $Wx$ is the dot product of the input vector $x = \\begin{bmatrix} x_1 & x_2\\end{bmatrix}$ and parameters vector $W = \\begin{bmatrix} w_1 & w_2\\end{bmatrix}$, scalar parameter $b$ is the intercept.\n",
        "\n",
        "The goal is the same - find the \"best\" parameters $w_1$, $w_2$ and $b$ such the differences between original values $y_i$ and predicted values $\\hat{y}_i$ are minimum.\n",
        "\n",
        "You can use a slightly more complicated neural network model to do that. Now matrix multiplication will be in the core of the model!"
      ]
    },
    {
      "cell_type": "markdown",
      "metadata": {
        "id": "HAuZFLHoaoow"
      },
      "source": [
        "<a name='3.2'></a>\n",
        "### 3.2 - Neural Network Model with a Single Perceptron and Two Input Nodes\n",
        "\n",
        "Again, you will use only one perceptron, but with two input nodes shown in the following scheme:\n",
        "\n",
        "<img src=\"images/nn_model_linear_regression_multiple.png\" style=\"width:420px;\">\n",
        "\n",
        "The perceptron output calculation for every training example $x^{(i)} = \\begin{bmatrix} x_1^{(i)} & x_2^{(i)}\\end{bmatrix}$ can be written with dot product:\n",
        "\n",
        "$$z^{(i)} = w_1x_1^{(i)} + w_2x_2^{(i)} + b = Wx^{(i)} + b,\\tag{7}$$\n",
        "\n",
        "where weights are in the vector $W = \\begin{bmatrix} w_1 & w_2\\end{bmatrix}$ and bias $b$ is a scalar. The output layer will have the same single node $\\hat{y}^{(i)} = z^{(i)}$.\n",
        "\n",
        "Organise all training examples in a matrix $X$ of a shape ($2 \\times m$), putting $x_1^{(i)}$ and $x_2^{(i)}$ into columns. Then matrix multiplication of $W$ ($1 \\times 2$) and $X$ ($2 \\times m$) will give a ($1 \\times m$) vector\n",
        "\n",
        "$$WX =\n",
        "\\begin{bmatrix} w_1 & w_2\\end{bmatrix}\n",
        "\\begin{bmatrix}\n",
        "x_1^{(1)} & x_1^{(2)} & \\dots & x_1^{(m)} \\\\\n",
        "x_2^{(1)} & x_2^{(2)} & \\dots & x_2^{(m)} \\\\ \\end{bmatrix}\n",
        "=\\begin{bmatrix}\n",
        "w_1x_1^{(1)} + w_2x_2^{(1)} &\n",
        "w_1x_1^{(2)} + w_2x_2^{(2)} & \\dots &\n",
        "w_1x_1^{(m)} + w_2x_2^{(m)}\\end{bmatrix}.$$\n",
        "\n",
        "And the model can be written as\n",
        "\n",
        "\\begin{align}\n",
        "Z &=  W X + b,\\\\\n",
        "\\hat{Y} &= Z,\n",
        "\\tag{8}\\end{align}\n",
        "\n",
        "where $b$ is broadcasted to the vector of a size ($1 \\times m$). These are the calculations to perform in the forward propagation step. Cost function will remain the same, and there will be no change in methodology and training (that will be discussed in the next Course)!"
      ]
    },
    {
      "cell_type": "markdown",
      "metadata": {
        "id": "v_wgzJ-3aoow"
      },
      "source": [
        "<a name='3.3'></a>\n",
        "### 3.3 - Dataset\n",
        "\n",
        "Let's build a linear regression model for a Kaggle dataset [House Prices](https://www.kaggle.com/c/house-prices-advanced-regression-techniques), saved in a file `data/house_prices_train.csv`. You will use two fields - ground living area (`GrLivArea`, square feet) and rates of the overall quality of material and finish (`OverallQual`, 1-10) to predict sales price (`SalePrice`, dollars).\n",
        "\n",
        "To open the dataset you can use `pandas` function `read_csv`:"
      ]
    },
    {
      "cell_type": "code",
      "execution_count": null,
      "metadata": {
        "tags": [
          "graded"
        ],
        "id": "5TvdFumyaoow"
      },
      "outputs": [],
      "source": [
        "df = pd.read_csv('data/house_prices_train.csv')"
      ]
    },
    {
      "cell_type": "markdown",
      "metadata": {
        "id": "iWvHDktoaoox"
      },
      "source": [
        "The data is now saved in the variable `df` as a **DataFrame**, which is the most commonly used `pandas` object. It is a 2-dimensional labeled data structure with columns of potentially different types. You can think of it as a table or a spreadsheet. Full documentation can be found [here](https://pandas.pydata.org/).\n",
        "\n",
        "Select the required fields and save them in the variables `X_multi`, `Y_multi`:"
      ]
    },
    {
      "cell_type": "code",
      "execution_count": null,
      "metadata": {
        "tags": [
          "graded"
        ],
        "id": "bK4FdVwqaoox"
      },
      "outputs": [],
      "source": [
        "X_multi = df[['GrLivArea', 'OverallQual']]\n",
        "Y_multi = df['SalePrice']"
      ]
    },
    {
      "cell_type": "markdown",
      "metadata": {
        "id": "OLydmOBraoox"
      },
      "source": [
        "Have a look at the data:"
      ]
    },
    {
      "cell_type": "code",
      "execution_count": null,
      "metadata": {
        "scrolled": false,
        "tags": [
          "graded"
        ],
        "id": "5HkIuh75aoox",
        "outputId": "ad0eb68d-b4cd-4047-d58e-0bcbb6100997"
      },
      "outputs": [
        {
          "name": "stdout",
          "output_type": "stream",
          "text": [
            "X_multi:\n",
            "      GrLivArea  OverallQual\n",
            "0          1710            7\n",
            "1          1262            6\n",
            "2          1786            7\n",
            "3          1717            7\n",
            "4          2198            8\n",
            "...         ...          ...\n",
            "1455       1647            6\n",
            "1456       2073            6\n",
            "1457       2340            7\n",
            "1458       1078            5\n",
            "1459       1256            5\n",
            "\n",
            "[1460 rows x 2 columns]\n",
            "\n",
            "Y_multi:\n",
            "0       208500\n",
            "1       181500\n",
            "2       223500\n",
            "3       140000\n",
            "4       250000\n",
            "         ...  \n",
            "1455    175000\n",
            "1456    210000\n",
            "1457    266500\n",
            "1458    142125\n",
            "1459    147500\n",
            "Name: SalePrice, Length: 1460, dtype: int64\n",
            "\n"
          ]
        }
      ],
      "source": [
        "print(f\"X_multi:\\n{X_multi}\\n\")\n",
        "print(f\"Y_multi:\\n{Y_multi}\\n\")"
      ]
    },
    {
      "cell_type": "markdown",
      "metadata": {
        "id": "vp6XDEeeaoox"
      },
      "source": [
        "All of the original arrays have different units. To make training of the neural network efficient, you need to bring them to the same units. A common approach to it is called **normalization**: substract the mean value of the array from each of the elements in the array and divide them by standard deviation (a statistical measure of the amount of dispersion of a set of values). If you are not familiar with mean and standard deviation, do not worry about this for now - this is covered in the third Course of Specialization.\n",
        "\n",
        "Normalization is implemented in the following code:"
      ]
    },
    {
      "cell_type": "code",
      "execution_count": null,
      "metadata": {
        "tags": [
          "graded"
        ],
        "id": "bs6ci0jgaooy"
      },
      "outputs": [],
      "source": [
        "X_multi_norm = (X_multi - np.mean(X_multi))/np.std(X_multi)\n",
        "Y_multi_norm = (Y_multi - np.mean(Y_multi))/np.std(Y_multi)"
      ]
    },
    {
      "cell_type": "markdown",
      "metadata": {
        "id": "EyAl74claooy"
      },
      "source": [
        "Convert results to the `NumPy` arrays, transpose `X_multi_norm` to get an array of a shape ($2 \\times m$) and reshape `Y_multi_norm` to bring it to the shape ($1 \\times m$):"
      ]
    },
    {
      "cell_type": "code",
      "execution_count": null,
      "metadata": {
        "tags": [
          "graded"
        ],
        "id": "rRv94UOVaooy",
        "outputId": "dbbb8583-1bfa-4a2a-da8b-c552065257d7"
      },
      "outputs": [
        {
          "name": "stdout",
          "output_type": "stream",
          "text": [
            "The shape of X: (2, 1460)\n",
            "The shape of Y: (1, 1460)\n",
            "I have m = 1460 training examples!\n"
          ]
        }
      ],
      "source": [
        "X_multi_norm = np.array(X_multi_norm).T\n",
        "Y_multi_norm = np.array(Y_multi_norm).reshape((1, len(Y_multi_norm)))\n",
        "\n",
        "print ('The shape of X: ' + str(X_multi_norm.shape))\n",
        "print ('The shape of Y: ' + str(Y_multi_norm.shape))\n",
        "print ('I have m = %d training examples!' % (X_multi_norm.shape[1]))"
      ]
    },
    {
      "cell_type": "markdown",
      "metadata": {
        "id": "YOlKfXBMaooy"
      },
      "source": [
        "### 3.4 - Performance of the Neural Network Model for Multiple Linear Regression\n",
        "\n",
        "The magic is that now you do not need to change anything in your neural network implementation! Go through the code in section [2](#2) and see that if you pass new datasets `X_multi_norm` and `Y_multi_norm`, the input layer size $n_x$ will get equal to $2$ and the rest of the implementation will remain exactly the same. That's the power of the neural networks (and matrix multiplication)!"
      ]
    },
    {
      "cell_type": "markdown",
      "metadata": {
        "id": "UKUk1_6-aooy"
      },
      "source": [
        "<a name='ex06'></a>\n",
        "### Exercise 6\n",
        "\n",
        "Run the constructed above neural network model `nn_model()` for `100` iterations, passing the training dataset saved in the arrays `X_multi_norm` and `Y_multi_norm`."
      ]
    },
    {
      "cell_type": "code",
      "execution_count": null,
      "metadata": {
        "tags": [
          "graded"
        ],
        "id": "2DwaSU_gaooy",
        "outputId": "bdebe369-dcfb-4108-c0ad-1ff7e1d756d8"
      },
      "outputs": [
        {
          "name": "stdout",
          "output_type": "stream",
          "text": [
            "Cost after iteration 0: 0.489797\n",
            "Cost after iteration 1: 0.429192\n",
            "Cost after iteration 2: 0.380299\n",
            "Cost after iteration 3: 0.340051\n",
            "Cost after iteration 4: 0.306705\n",
            "Cost after iteration 5: 0.279020\n",
            "Cost after iteration 6: 0.256020\n",
            "Cost after iteration 7: 0.236908\n",
            "Cost after iteration 8: 0.221025\n",
            "Cost after iteration 9: 0.207827\n",
            "Cost after iteration 10: 0.196858\n",
            "Cost after iteration 11: 0.187743\n",
            "Cost after iteration 12: 0.180169\n",
            "Cost after iteration 13: 0.173874\n",
            "Cost after iteration 14: 0.168642\n",
            "Cost after iteration 15: 0.164295\n",
            "Cost after iteration 16: 0.160682\n",
            "Cost after iteration 17: 0.157680\n",
            "Cost after iteration 18: 0.155185\n",
            "Cost after iteration 19: 0.153111\n",
            "Cost after iteration 20: 0.151388\n",
            "Cost after iteration 21: 0.149956\n",
            "Cost after iteration 22: 0.148766\n",
            "Cost after iteration 23: 0.147777\n",
            "Cost after iteration 24: 0.146955\n",
            "Cost after iteration 25: 0.146272\n",
            "Cost after iteration 26: 0.145705\n",
            "Cost after iteration 27: 0.145233\n",
            "Cost after iteration 28: 0.144841\n",
            "Cost after iteration 29: 0.144515\n",
            "Cost after iteration 30: 0.144245\n",
            "Cost after iteration 31: 0.144020\n",
            "Cost after iteration 32: 0.143833\n",
            "Cost after iteration 33: 0.143677\n",
            "Cost after iteration 34: 0.143548\n",
            "Cost after iteration 35: 0.143441\n",
            "Cost after iteration 36: 0.143352\n",
            "Cost after iteration 37: 0.143278\n",
            "Cost after iteration 38: 0.143216\n",
            "Cost after iteration 39: 0.143165\n",
            "Cost after iteration 40: 0.143123\n",
            "Cost after iteration 41: 0.143087\n",
            "Cost after iteration 42: 0.143058\n",
            "Cost after iteration 43: 0.143033\n",
            "Cost after iteration 44: 0.143013\n",
            "Cost after iteration 45: 0.142996\n",
            "Cost after iteration 46: 0.142982\n",
            "Cost after iteration 47: 0.142971\n",
            "Cost after iteration 48: 0.142961\n",
            "Cost after iteration 49: 0.142953\n",
            "Cost after iteration 50: 0.142946\n",
            "Cost after iteration 51: 0.142941\n",
            "Cost after iteration 52: 0.142936\n",
            "Cost after iteration 53: 0.142932\n",
            "Cost after iteration 54: 0.142929\n",
            "Cost after iteration 55: 0.142926\n",
            "Cost after iteration 56: 0.142924\n",
            "Cost after iteration 57: 0.142922\n",
            "Cost after iteration 58: 0.142921\n",
            "Cost after iteration 59: 0.142920\n",
            "Cost after iteration 60: 0.142919\n",
            "Cost after iteration 61: 0.142918\n",
            "Cost after iteration 62: 0.142917\n",
            "Cost after iteration 63: 0.142916\n",
            "Cost after iteration 64: 0.142916\n",
            "Cost after iteration 65: 0.142915\n",
            "Cost after iteration 66: 0.142915\n",
            "Cost after iteration 67: 0.142915\n",
            "Cost after iteration 68: 0.142915\n",
            "Cost after iteration 69: 0.142914\n",
            "Cost after iteration 70: 0.142914\n",
            "Cost after iteration 71: 0.142914\n",
            "Cost after iteration 72: 0.142914\n",
            "Cost after iteration 73: 0.142914\n",
            "Cost after iteration 74: 0.142914\n",
            "Cost after iteration 75: 0.142914\n",
            "Cost after iteration 76: 0.142914\n",
            "Cost after iteration 77: 0.142914\n",
            "Cost after iteration 78: 0.142914\n",
            "Cost after iteration 79: 0.142914\n",
            "Cost after iteration 80: 0.142914\n",
            "Cost after iteration 81: 0.142913\n",
            "Cost after iteration 82: 0.142913\n",
            "Cost after iteration 83: 0.142913\n",
            "Cost after iteration 84: 0.142913\n",
            "Cost after iteration 85: 0.142913\n",
            "Cost after iteration 86: 0.142913\n",
            "Cost after iteration 87: 0.142913\n",
            "Cost after iteration 88: 0.142913\n",
            "Cost after iteration 89: 0.142913\n",
            "Cost after iteration 90: 0.142913\n",
            "Cost after iteration 91: 0.142913\n",
            "Cost after iteration 92: 0.142913\n",
            "Cost after iteration 93: 0.142913\n",
            "Cost after iteration 94: 0.142913\n",
            "Cost after iteration 95: 0.142913\n",
            "Cost after iteration 96: 0.142913\n",
            "Cost after iteration 97: 0.142913\n",
            "Cost after iteration 98: 0.142913\n",
            "Cost after iteration 99: 0.142913\n",
            "W = [[0.36946186 0.5718172 ]]\n",
            "b = [[1.40891864e-16]]\n"
          ]
        }
      ],
      "source": [
        "\n",
        "\n",
        "### START CODE HERE ### (~ 1 line of code)\n",
        "parameters_multi = nn_model(X_multi_norm, Y_multi_norm, num_iterations=100, print_cost=True)\n",
        "### END CODE HERE ###\n",
        "\n",
        "print(\"W = \" + str(parameters_multi[\"W\"]))\n",
        "print(\"b = \" + str(parameters_multi[\"b\"]))\n",
        "\n",
        "W_multi = parameters_multi[\"W\"]\n",
        "b_multi = parameters_multi[\"b\"]\n",
        "\n"
      ]
    },
    {
      "cell_type": "markdown",
      "metadata": {
        "id": "y9NTkrvUaooz"
      },
      "source": [
        "##### __Expected Output__\n",
        "Note: the actual values can be different!\n",
        "\n",
        "```Python\n",
        "Cost after iteration 0: 0.489797\n",
        "Cost after iteration 1: 0.429192\n",
        "Cost after iteration 2: 0.380299\n",
        "Cost after iteration 3: 0.340051\n",
        "Cost after iteration 4: 0.306705\n",
        "Cost after iteration 5: 0.279020\n",
        "...\n",
        "Cost after iteration 95: 0.142913\n",
        "Cost after iteration 96: 0.142913\n",
        "Cost after iteration 97: 0.142913\n",
        "Cost after iteration 98: 0.142913\n",
        "Cost after iteration 99: 0.142913\n",
        "W = [[0.36946186 0.5718172 ]]\n",
        "b = [[1.35781797e-16]]\n",
        "```"
      ]
    },
    {
      "cell_type": "code",
      "execution_count": null,
      "metadata": {
        "id": "4uMnPzRpaooz",
        "outputId": "15d1f6f2-c4c7-40e8-c0df-06112630bf2a"
      },
      "outputs": [
        {
          "name": "stdout",
          "output_type": "stream",
          "text": [
            "\u001b[92m All tests passed\n"
          ]
        }
      ],
      "source": [
        "# Note:\n",
        "# Actual values are not checked here in the unit tests (due to random initialization).\n",
        "w3_unittest.test_multi(nn_model, X_multi_norm, Y_multi_norm, parameters_multi)"
      ]
    },
    {
      "cell_type": "markdown",
      "metadata": {
        "id": "o3SFLR1faooz"
      },
      "source": [
        "Remember, that the initial datasets were normalized. To make the predictions, you need to normalize the original, calculate predictions with the obtained linear regression coefficients and then **denormalize** the result (perform the reverse process of normalization):"
      ]
    },
    {
      "cell_type": "code",
      "execution_count": null,
      "metadata": {
        "tags": [
          "graded"
        ],
        "id": "-TdnWmGraooz",
        "outputId": "835cc911-cf80-4453-f1a2-21265aa69580"
      },
      "outputs": [
        {
          "name": "stdout",
          "output_type": "stream",
          "text": [
            "Ground living area, square feet:\n",
            "[1710 1200 2200]\n",
            "Rates of the overall quality of material and finish, 1-10:\n",
            "[7 6 8]\n",
            "Predictions of sales price, $:\n",
            "[[221371. 160039. 281587.]]\n"
          ]
        }
      ],
      "source": [
        "X_pred_multi = np.array([[1710, 7], [1200, 6], [2200, 8]]).T\n",
        "\n",
        "# Normalize using the same mean and standard deviation of the original training array X_multi.\n",
        "X_multi_mean = np.array(np.mean(X_multi)).reshape((2,1))\n",
        "X_multi_std = np.array(np.std(X_multi)).reshape((2,1))\n",
        "X_pred_multi_norm = (X_pred_multi - X_multi_mean)/ X_multi_std\n",
        "# Make predictions.\n",
        "Y_pred_multi_norm = np.matmul(W_multi, X_pred_multi_norm) + b_multi\n",
        "# Denormalize using the same mean and standard deviation of the original training array Y_multi.\n",
        "Y_pred_multi = Y_pred_multi_norm * np.std(Y_multi) + np.mean(Y_multi)\n",
        "\n",
        "print(f\"Ground living area, square feet:\\n{X_pred_multi[0]}\")\n",
        "print(f\"Rates of the overall quality of material and finish, 1-10:\\n{X_pred_multi[1]}\")\n",
        "print(f\"Predictions of sales price, $:\\n{np.round(Y_pred_multi)}\")"
      ]
    },
    {
      "cell_type": "markdown",
      "metadata": {
        "id": "DVGwsKkcaooz"
      },
      "source": [
        "Congrats on finishing this programming assignment!"
      ]
    },
    {
      "cell_type": "code",
      "execution_count": null,
      "metadata": {
        "tags": [
          "graded"
        ],
        "id": "O0DAGIf6aoo0"
      },
      "outputs": [],
      "source": []
    }
  ],
  "metadata": {
    "colab": {
      "provenance": [],
      "include_colab_link": true
    },
    "coursera": {
      "schema_names": [
        "AI4MC1-1"
      ]
    },
    "grader_version": "1",
    "kernelspec": {
      "display_name": "Python 3",
      "name": "python3"
    },
    "language_info": {
      "codemirror_mode": {
        "name": "ipython",
        "version": 3
      },
      "file_extension": ".py",
      "mimetype": "text/x-python",
      "name": "python",
      "nbconvert_exporter": "python",
      "pygments_lexer": "ipython3",
      "version": "3.8.8"
    },
    "toc": {
      "base_numbering": 1,
      "nav_menu": {},
      "number_sections": true,
      "sideBar": true,
      "skip_h1_title": false,
      "title_cell": "Table of Contents",
      "title_sidebar": "Contents",
      "toc_cell": false,
      "toc_position": {},
      "toc_section_display": true,
      "toc_window_display": false
    }
  },
  "nbformat": 4,
  "nbformat_minor": 0
}