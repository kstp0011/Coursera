{
  "cells": [
    {
      "cell_type": "markdown",
      "metadata": {
        "id": "view-in-github",
        "colab_type": "text"
      },
      "source": [
        "<a href=\"https://colab.research.google.com/github/kstp0011/Coursera/blob/main/Calculus%20for%20Machine%20Learning%20and%20Data%20Science/W3/C2_W3_Lab_2_Classification_with_Perceptron.ipynb\" target=\"_parent\"><img src=\"https://colab.research.google.com/assets/colab-badge.svg\" alt=\"Open In Colab\"/></a>"
      ]
    },
    {
      "cell_type": "markdown",
      "metadata": {
        "id": "EAt-K2qgcIou"
      },
      "source": [
        "# Classification with Perceptron"
      ]
    },
    {
      "cell_type": "markdown",
      "metadata": {
        "id": "FZYK-0rin5x7"
      },
      "source": [
        "In this lab, you will use a single perceptron neural network model to solve a simple classification problem."
      ]
    },
    {
      "cell_type": "markdown",
      "metadata": {
        "id": "QEuiU5KwBrh2"
      },
      "source": [
        "# Table of Contents\n",
        "\n",
        "- [ 1 - Simple Classification Problem](#1)\n",
        "- [ 2 - Single Perceptron Neural Network with Activation Function](#2)\n",
        "  - [ 2.1 - Neural Network Structure](#2.1)\n",
        "  - [ 2.2 - Dataset](#2.2)\n",
        "  - [ 2.3 - Define Activation Function](#2.3)\n",
        "- [ 3 - Implementation of the Neural Network Model](#3)\n",
        "  - [ 3.1 - Defining the Neural Network Structure](#3.1)\n",
        "  - [ 3.2 - Initialize the Model's Parameters](#3.2)\n",
        "  - [ 3.3 - The Loop](#3.3)\n",
        "  - [ 3.4 - Integrate parts 3.1, 3.2 and 3.3 in nn_model() and make predictions](#3.4)\n",
        "- [ 4 - Performance on a Larger Dataset](#4)"
      ]
    },
    {
      "cell_type": "markdown",
      "metadata": {
        "id": "XI8PBrk_2Z4V"
      },
      "source": [
        "## Packages\n",
        "\n",
        "Let's first import all the packages that you will need during this lab."
      ]
    },
    {
      "cell_type": "code",
      "execution_count": 1,
      "metadata": {
        "tags": [
          "graded"
        ],
        "id": "6rHiIv3EBrh3"
      },
      "outputs": [],
      "source": [
        "import numpy as np\n",
        "import matplotlib.pyplot as plt\n",
        "from matplotlib import colors\n",
        "# A function to create a dataset.\n",
        "from sklearn.datasets import make_blobs\n",
        "\n",
        "# Set a seed so that the results are consistent.\n",
        "np.random.seed(3)"
      ]
    },
    {
      "cell_type": "markdown",
      "metadata": {
        "id": "ytbCZZ4sBrh5"
      },
      "source": [
        "<a name='1'></a>\n",
        "## 1 - Simple Classification Problem\n",
        "\n",
        "**Classification** is the problem of identifying which of a set of categories an observation belongs to. In case of only two categories it is called a **binary classification problem**. Let's see a simple example of it.\n",
        "\n",
        "Imagine that you have a set of sentences which you want to classify as \"happy\" and \"angry\". And you identified that the sentences contain only two words: *aack* and *beep*. For each of the sentences (data point in the given dataset) you count the number of those two words ($x_1$ and $x_2$) and compare them with each other. If there are more \"beep\" ($x_2 > x_1$), the sentence should be classified as \"angry\", if not ($x_2 <= x_1$), it is a \"happy\" sentence. Which means that there will be some straight line separating those two classes.\n",
        "\n",
        "Let's take a very simple set of $4$ sentenses:\n",
        "- \"Beep!\"\n",
        "- \"Aack?\"\n",
        "- \"Beep aack...\"\n",
        "- \"!?\"\n",
        "\n",
        "Here both $x_1$ and $x_2$ will be either $0$ or $1$. You can plot those points in a plane, and see the points (observations) belong to two classes, \"angry\" (red) and \"happy\" (blue), and a straight line can be used as a decision boundary to separate those two classes. An example of such a line is plotted."
      ]
    },
    {
      "cell_type": "code",
      "execution_count": 2,
      "metadata": {
        "tags": [
          "graded"
        ],
        "colab": {
          "base_uri": "https://localhost:8080/",
          "height": 467
        },
        "id": "YVEy9caSBrh6",
        "outputId": "5f93ee47-0134-4663-cc21-b3bf00b3c194"
      },
      "outputs": [
        {
          "output_type": "execute_result",
          "data": {
            "text/plain": [
              "[]"
            ]
          },
          "metadata": {},
          "execution_count": 2
        },
        {
          "output_type": "display_data",
          "data": {
            "text/plain": [
              "<Figure size 640x480 with 1 Axes>"
            ],
            "image/png": "[encoded data removed]"
          },
          "metadata": {}
        }
      ],
      "source": [
        "fig, ax = plt.subplots()\n",
        "xmin, xmax = -0.2, 1.4\n",
        "x_line = np.arange(xmin, xmax, 0.1)\n",
        "# Data points (observations) from two classes.\n",
        "ax.scatter(0, 0, color=\"b\")\n",
        "ax.scatter(0, 1, color=\"r\")\n",
        "ax.scatter(1, 0, color=\"b\")\n",
        "ax.scatter(1, 1, color=\"b\")\n",
        "ax.set_xlim([xmin, xmax])\n",
        "ax.set_ylim([-0.1, 1.1])\n",
        "ax.set_xlabel('$x_1$')\n",
        "ax.set_ylabel('$x_2$')\n",
        "# One of the lines which can be used as a decision boundary to separate two classes.\n",
        "ax.plot(x_line, x_line + 0.5, color=\"black\")\n",
        "plt.plot()"
      ]
    },
    {
      "cell_type": "markdown",
      "metadata": {
        "id": "YqRxgJ32Brh7"
      },
      "source": [
        "This particular line is chosen using common sense, just looking at the visual representation of the observations. Such classification problem is called a problem with **two linearly separable classes**.\n",
        "\n",
        "The line $x_1-x_2+0.5 = 0$ (or $x_2 = x_1 + 0.5$) can be used as a separating line for the problem. All of the points $(x_1, x_2)$ above this line, such that $x_1-x_2+0.5 < 0$ (or $x_2 > x_1 + 0.5$), will be considered belonging to the red class, and below this line $x_1-x_2+0.5 > 0$ ($x_2 < x_1 + 0.5$) - belonging to the blue class. So the problem can be rephrased: in the expression $w_1x_1+w_2x_2+b=0$ find the values for the parameters $w_1$, $w_2$ and the threshold $b$, so that the line can serve as a decision boundary.\n",
        "\n",
        "In this simple example you could solve the problem of finding the decision boundary just looking at the plot: $w_1 = 1$, $w_2 = -1$, $b = 0.5$. But what if the problem is more complicated? You can use a simple neural network model to do that! Let's implement it for this example and then try it for more complicated problem."
      ]
    },
    {
      "cell_type": "markdown",
      "metadata": {
        "id": "5LhqkT2LBrh7"
      },
      "source": [
        "<a name='2'></a>\n",
        "## 2 - Single Perceptron Neural Network with Activation Function\n",
        "\n",
        "You already have constructed and trained a neural network model with one **perceptron**. Here a similar model can be used, but with an activation function. Then a single perceptron basically works as a threshold function."
      ]
    },
    {
      "cell_type": "markdown",
      "metadata": {
        "id": "p1zIMC96Brh8"
      },
      "source": [
        "<a name='2.1'></a>\n",
        "### 2.1 - Neural Network Structure"
      ]
    },
    {
      "cell_type": "markdown",
      "metadata": {
        "id": "mS_GZQdNBrh8"
      },
      "source": [
        "The neural network components are shown in the following scheme:\n",
        "\n",
        "<img src=\"images/nn_model_classification_1_layer.png\" style=\"width:600px;\">\n",
        "\n",
        "Similarly to the previous lab, the input layer contains two nodes $x_1$ and $x_2$. Weight vector $W = \\begin{bmatrix} w_1 & w_2\\end{bmatrix}$ and bias ($b$) are the parameters to be updated during the model training. First step in the forward propagation is the same as in the previous lab. For every training example $x^{(i)} = \\begin{bmatrix} x_1^{(i)} & x_2^{(i)}\\end{bmatrix}$:\n",
        "\n",
        "$$z^{(i)} = w_1x_1^{(i)} + w_2x_2^{(i)} + b = Wx^{(i)} + b.\\tag{1}$$\n"
      ]
    },
    {
      "cell_type": "markdown",
      "metadata": {
        "id": "Sr-L-NccBrh8"
      },
      "source": [
        "But now you cannot take a real number $z^{(i)}$ into the output as you need to perform classification. It could be done with a discrete approach: compare the result with zero, and classify as $0$ (blue) if it is below zero and $1$ (red) if it is above zero. Then define cost function as a percentage of incorrectly identified classes and perform backward propagation.\n",
        "\n",
        "This extra step in the forward propagation is actually an application of an **activation function**. It would be possible to implement the discrete approach described above (with unit step function) for this problem, but it turns out that there is a continuous approach that works better and is commonly used in more complicated neural networks. So you will implement it here: single perceptron with sigmoid activation function."
      ]
    },
    {
      "cell_type": "markdown",
      "metadata": {
        "id": "okEIIuxhBrh-"
      },
      "source": [
        "Sigmoid activation function is defined as\n",
        "\n",
        "$$a = \\sigma\\left(z\\right) = \\frac{1}{1+e^{-z}}.\\tag{2}$$\n",
        "\n",
        "Then a threshold value of $0.5$ can be used for predictions: $1$ (red) if  $a > 0.5$ and $0$ (blue) otherwise. Putting it all together, mathematically the single perceptron neural network with sigmoid activation function can be expressed as:\n",
        "\n",
        "\\begin{align}\n",
        "z^{(i)} &=  W x^{(i)} + b,\\\\\n",
        "a^{(i)} &= \\sigma\\left(z^{(i)}\\right).\\\\\\tag{3}\n",
        "\\end{align}"
      ]
    },
    {
      "cell_type": "markdown",
      "metadata": {
        "id": "bbd33S_SBrh-"
      },
      "source": [
        "If you have $m$ training examples organised in the columns of ($2 \\times m$) matrix $X$, you can apply the activation function element-wise. So the model can be written as:\n",
        "\n",
        "\\begin{align}\n",
        "Z &=  W X + b,\\\\\n",
        "A &= \\sigma\\left(Z\\right),\\\\\\tag{4}\n",
        "\\end{align}\n",
        "\n",
        "where $b$ is broadcasted to the vector of a size ($1 \\times m$).\n",
        "\n",
        "When dealing with classification problems, the most commonly used cost function is the **log loss**, which is described by the following equation:\n",
        "\n",
        "$$\\mathcal{L}\\left(W, b\\right) = \\frac{1}{m}\\sum_{i=1}^{m} L\\left(W, b\\right) = \\frac{1}{m}\\sum_{i=1}^{m}  \\large\\left(\\small -y^{(i)}\\log\\left(a^{(i)}\\right) - (1-y^{(i)})\\log\\left(1- a^{(i)}\\right)  \\large  \\right) \\small,\\tag{5}$$\n",
        "\n",
        "where $y^{(i)} \\in \\{0,1\\}$ are the original labels and $a^{(i)}$ are the continuous output values of the forward propagation step (elements of array $A$)."
      ]
    },
    {
      "cell_type": "markdown",
      "metadata": {
        "id": "vpPGaMGVBrh-"
      },
      "source": [
        "You want to minimize the cost function during the training. To implement gradient descent, calculate partial derivatives using chain rule:\n",
        "\n",
        "\\begin{align}\n",
        "\\frac{\\partial \\mathcal{L} }{ \\partial w_1 } &=\n",
        "\\frac{1}{m}\\sum_{i=1}^{m} \\frac{\\partial L }{ \\partial a^{(i)}}\n",
        "\\frac{\\partial a^{(i)} }{ \\partial z^{(i)}}\\frac{\\partial z^{(i)} }{ \\partial w_1},\\\\\n",
        "\\frac{\\partial \\mathcal{L} }{ \\partial w_2 } &=\n",
        "\\frac{1}{m}\\sum_{i=1}^{m} \\frac{\\partial L }{ \\partial a^{(i)}}\n",
        "\\frac{\\partial a^{(i)} }{ \\partial z^{(i)}}\\frac{\\partial z^{(i)} }{ \\partial w_2},\\tag{6}\\\\\n",
        "\\frac{\\partial \\mathcal{L} }{ \\partial b } &=\n",
        "\\frac{1}{m}\\sum_{i=1}^{m} \\frac{\\partial L }{ \\partial a^{(i)}}\n",
        "\\frac{\\partial a^{(i)} }{ \\partial z^{(i)}}\\frac{\\partial z^{(i)} }{ \\partial b}.\n",
        "\\end{align}\n",
        "\n",
        "As discussed in the videos, $\\frac{\\partial L }{ \\partial a^{(i)}}\n",
        "\\frac{\\partial a^{(i)} }{ \\partial z^{(i)}} = \\left(a^{(i)} - y^{(i)}\\right)$, $\\frac{\\partial z^{(i)}}{ \\partial w_1} = x_1^{(i)}$, $\\frac{\\partial z^{(i)}}{ \\partial w_2} = x_2^{(i)}$ and $\\frac{\\partial z^{(i)}}{ \\partial b} = 1$. Then $(6)$ can be rewritten as:\n",
        "\n",
        "\\begin{align}\n",
        "\\frac{\\partial \\mathcal{L} }{ \\partial w_1 } &=\n",
        "\\frac{1}{m}\\sum_{i=1}^{m} \\left(a^{(i)} - y^{(i)}\\right)x_1^{(i)},\\\\\n",
        "\\frac{\\partial \\mathcal{L} }{ \\partial w_2 } &=\n",
        "\\frac{1}{m}\\sum_{i=1}^{m} \\left(a^{(i)} - y^{(i)}\\right)x_2^{(i)},\\tag{7}\\\\\n",
        "\\frac{\\partial \\mathcal{L} }{ \\partial b } &=\n",
        "\\frac{1}{m}\\sum_{i=1}^{m} \\left(a^{(i)} - y^{(i)}\\right).\n",
        "\\end{align}\n",
        "\n",
        "Note that the obtained expressions $(7)$ are exactly the same as in the section $3.2$ of the previous lab, when multiple linear regression model was discussed. Thus, they can be rewritten in a matrix form:\n",
        "\n",
        "\\begin{align}\n",
        "\\frac{\\partial \\mathcal{L} }{ \\partial W } &=\n",
        "\\begin{bmatrix} \\frac{\\partial \\mathcal{L} }{ \\partial w_1 } &\n",
        "\\frac{\\partial \\mathcal{L} }{ \\partial w_2 }\\end{bmatrix} = \\frac{1}{m}\\left(A - Y\\right)X^T,\\\\\n",
        "\\frac{\\partial \\mathcal{L} }{ \\partial b } &= \\frac{1}{m}\\left(A - Y\\right)\\mathbf{1}.\n",
        "\\tag{8}\n",
        "\\end{align}\n",
        "\n",
        "where $\\left(A - Y\\right)$ is an array of a shape ($1 \\times m$), $X^T$ is an array of a shape ($m \\times 2$) and $\\mathbf{1}$ is just a ($m \\times 1$) vector of ones.\n",
        "\n"
      ]
    },
    {
      "cell_type": "markdown",
      "metadata": {
        "id": "FY1ydu7wBrh_"
      },
      "source": [
        "Then you can update the parameters:\n",
        "\n",
        "\\begin{align}\n",
        "W &= W - \\alpha \\frac{\\partial \\mathcal{L} }{ \\partial W },\\\\\n",
        "b &= b - \\alpha \\frac{\\partial \\mathcal{L} }{ \\partial b },\n",
        "\\tag{9}\\end{align}\n",
        "\n",
        "where $\\alpha$ is the learning rate. Repeat the process in a loop until the cost function stops decreasing."
      ]
    },
    {
      "cell_type": "markdown",
      "metadata": {
        "id": "H-O9w2yRBrh_"
      },
      "source": [
        "Finally, the predictions for some example $x$ can be made taking the output $a$ and calculating $\\hat{y}$ as"
      ]
    },
    {
      "cell_type": "markdown",
      "metadata": {
        "id": "Wuv_L34bBrh_"
      },
      "source": [
        "$$\\hat{y} = \\begin{cases} 1 & \\mbox{if } a > 0.5 \\\\ 0 & \\mbox{otherwise } \\end{cases}\\tag{10}$$"
      ]
    },
    {
      "cell_type": "markdown",
      "metadata": {
        "id": "rf-yQ3MiBrh_"
      },
      "source": [
        "<a name='2.2'></a>\n",
        "### 2.2 - Dataset\n",
        "\n",
        "Let's get the dataset you will work on. The following code will create $m=30$ data points $(x_1, x_2)$, where $x_1, x_2 \\in \\{0,1\\}$ and save them in the `NumPy` array `X` of a shape $(2 \\times m)$ (in the columns of the array). The labels ($0$: blue, $1$: red) will be calculated so that $y = 1$ if $x_1 = 0$ and $x_2 = 1$, in the rest of the cases $y=0$. The labels will be saved in the array `Y` of a shape $(1 \\times m)$."
      ]
    },
    {
      "cell_type": "code",
      "execution_count": 3,
      "metadata": {
        "tags": [
          "graded"
        ],
        "colab": {
          "base_uri": "https://localhost:8080/"
        },
        "id": "-9IFfwj6Brh_",
        "outputId": "d2e90875-e161-4781-f3aa-c9eebf9699f6"
      },
      "outputs": [
        {
          "output_type": "stream",
          "name": "stdout",
          "text": [
            "Training dataset X containing (x1, x2) coordinates in the columns:\n",
            "[[0 0 1 1 0 0 0 1 1 1 0 1 1 1 0 1 1 0 0 0 0 1 1 0 0 0 1 0 0 0]\n",
            " [0 1 0 1 1 0 1 0 0 1 1 0 0 1 0 1 0 1 1 1 1 0 1 0 0 1 1 1 0 0]]\n",
            "Training dataset Y containing labels of two classes (0: blue, 1: red)\n",
            "[[0 1 0 0 1 0 1 0 0 0 1 0 0 0 0 0 0 1 1 1 1 0 0 0 0 1 0 1 0 0]]\n",
            "The shape of X is: (2, 30)\n",
            "The shape of Y is: (1, 30)\n",
            "I have m = 30 training examples!\n"
          ]
        }
      ],
      "source": [
        "m = 30\n",
        "\n",
        "X = np.random.randint(0, 2, (2, m))\n",
        "Y = np.logical_and(X[0] == 0, X[1] == 1).astype(int).reshape((1, m))\n",
        "\n",
        "print('Training dataset X containing (x1, x2) coordinates in the columns:')\n",
        "print(X)\n",
        "print('Training dataset Y containing labels of two classes (0: blue, 1: red)')\n",
        "print(Y)\n",
        "\n",
        "print ('The shape of X is: ' + str(X.shape))\n",
        "print ('The shape of Y is: ' + str(Y.shape))\n",
        "print ('I have m = %d training examples!' % (X.shape[1]))"
      ]
    },
    {
      "cell_type": "markdown",
      "metadata": {
        "id": "DVZusGZ2BriA"
      },
      "source": [
        "<a name='2.3'></a>\n",
        "### 2.3 - Define Activation Function\n",
        "\n",
        "The sigmoid function $(2)$ for a variable $z$ can be defined with the following code:"
      ]
    },
    {
      "cell_type": "code",
      "execution_count": 4,
      "metadata": {
        "tags": [
          "graded"
        ],
        "colab": {
          "base_uri": "https://localhost:8080/"
        },
        "id": "TPoXd3rwBriA",
        "outputId": "dd834ea9-179f-407e-c6c8-874b9116164f"
      },
      "outputs": [
        {
          "output_type": "stream",
          "name": "stdout",
          "text": [
            "sigmoid(-2) = 0.11920292202211755\n",
            "sigmoid(0) = 0.5\n",
            "sigmoid(3.5) = 0.9706877692486436\n"
          ]
        }
      ],
      "source": [
        "def sigmoid(z):\n",
        "    return 1/(1 + np.exp(-z))\n",
        "\n",
        "print(\"sigmoid(-2) = \" + str(sigmoid(-2)))\n",
        "print(\"sigmoid(0) = \" + str(sigmoid(0)))\n",
        "print(\"sigmoid(3.5) = \" + str(sigmoid(3.5)))"
      ]
    },
    {
      "cell_type": "markdown",
      "metadata": {
        "id": "d-wo27yMBriA"
      },
      "source": [
        "It can be applied to a `NumPy` array element by element:"
      ]
    },
    {
      "cell_type": "code",
      "execution_count": 5,
      "metadata": {
        "tags": [
          "graded"
        ],
        "colab": {
          "base_uri": "https://localhost:8080/"
        },
        "id": "sI5wDbOwBriA",
        "outputId": "affe5693-5cac-4697-d21c-3bd524d267b5"
      },
      "outputs": [
        {
          "output_type": "stream",
          "name": "stdout",
          "text": [
            "[0.11920292 0.5        0.97068777]\n"
          ]
        }
      ],
      "source": [
        "print(sigmoid(np.array([-2, 0, 3.5])))"
      ]
    },
    {
      "cell_type": "markdown",
      "metadata": {
        "id": "u8npr7ezBriB"
      },
      "source": [
        "<a name='3'></a>\n",
        "## 3 - Implementation of the Neural Network Model\n",
        "\n",
        "Implementation of the described neural network will be very similar to the previous lab. The differences will be only in the functions `forward_propagation` and `compute_cost`!"
      ]
    },
    {
      "cell_type": "markdown",
      "metadata": {
        "id": "HXXCfd_eBriB"
      },
      "source": [
        "<a name='3.1'></a>\n",
        "### 3.1 - Defining the Neural Network Structure"
      ]
    },
    {
      "cell_type": "markdown",
      "metadata": {
        "id": "3BtK2QbvBriB"
      },
      "source": [
        "Define two variables:\n",
        "- `n_x`: the size of the input layer\n",
        "- `n_y`: the size of the output layer\n",
        "\n",
        "using shapes of arrays `X` and `Y`."
      ]
    },
    {
      "cell_type": "code",
      "execution_count": 6,
      "metadata": {
        "tags": [
          "graded"
        ],
        "colab": {
          "base_uri": "https://localhost:8080/"
        },
        "id": "2AwGlW-wBriB",
        "outputId": "da8fd47a-7e6b-47ea-e7dd-8fb692a25dca"
      },
      "outputs": [
        {
          "output_type": "stream",
          "name": "stdout",
          "text": [
            "The size of the input layer is: n_x = 2\n",
            "The size of the output layer is: n_y = 1\n"
          ]
        }
      ],
      "source": [
        "def layer_sizes(X, Y):\n",
        "    \"\"\"\n",
        "    Arguments:\n",
        "    X -- input dataset of shape (input size, number of examples)\n",
        "    Y -- labels of shape (output size, number of examples)\n",
        "\n",
        "    Returns:\n",
        "    n_x -- the size of the input layer\n",
        "    n_y -- the size of the output layer\n",
        "    \"\"\"\n",
        "    n_x = X.shape[0]\n",
        "    n_y = Y.shape[0]\n",
        "\n",
        "    return (n_x, n_y)\n",
        "\n",
        "(n_x, n_y) = layer_sizes(X, Y)\n",
        "print(\"The size of the input layer is: n_x = \" + str(n_x))\n",
        "print(\"The size of the output layer is: n_y = \" + str(n_y))"
      ]
    },
    {
      "cell_type": "markdown",
      "metadata": {
        "id": "L8YNtKF7BriC"
      },
      "source": [
        "<a name='3.2'></a>\n",
        "### 3.2 - Initialize the Model's Parameters"
      ]
    },
    {
      "cell_type": "markdown",
      "metadata": {
        "id": "J4Qvc8jxBriC"
      },
      "source": [
        "Implement the function `initialize_parameters()`, initializing the weights array of shape $(n_y \\times n_x) = (1 \\times 1)$ with random values and the bias vector of shape $(n_y \\times 1) = (1 \\times 1)$ with zeros."
      ]
    },
    {
      "cell_type": "code",
      "execution_count": 7,
      "metadata": {
        "tags": [
          "graded"
        ],
        "colab": {
          "base_uri": "https://localhost:8080/"
        },
        "id": "jtKTlylxBriC",
        "outputId": "26562c80-419f-4dad-8b10-d7c0e7a45fa5"
      },
      "outputs": [
        {
          "output_type": "stream",
          "name": "stdout",
          "text": [
            "W = [[-0.00768836 -0.00230031]]\n",
            "b = [[0.]]\n"
          ]
        }
      ],
      "source": [
        "def initialize_parameters(n_x, n_y):\n",
        "    \"\"\"\n",
        "    Returns:\n",
        "    params -- python dictionary containing your parameters:\n",
        "                    W -- weight matrix of shape (n_y, n_x)\n",
        "                    b -- bias value set as a vector of shape (n_y, 1)\n",
        "    \"\"\"\n",
        "\n",
        "    W = np.random.randn(n_y, n_x) * 0.01\n",
        "    b = np.zeros((n_y, 1))\n",
        "\n",
        "    parameters = {\"W\": W,\n",
        "                  \"b\": b}\n",
        "\n",
        "    return parameters\n",
        "\n",
        "parameters = initialize_parameters(n_x, n_y)\n",
        "print(\"W = \" + str(parameters[\"W\"]))\n",
        "print(\"b = \" + str(parameters[\"b\"]))"
      ]
    },
    {
      "cell_type": "markdown",
      "metadata": {
        "id": "I2oLmA7sBriD"
      },
      "source": [
        "<a name='3.3'></a>\n",
        "### 3.3 - The Loop"
      ]
    },
    {
      "cell_type": "markdown",
      "metadata": {
        "id": "uMt13eShBriE"
      },
      "source": [
        "Implement `forward_propagation()` following the equation $(4)$ in the section [2.1](#2.1):\n",
        "\\begin{align}\n",
        "Z &=  W X + b,\\\\\n",
        "A &= \\sigma\\left(Z\\right).\n",
        "\\end{align}"
      ]
    },
    {
      "cell_type": "code",
      "execution_count": 8,
      "metadata": {
        "tags": [
          "graded"
        ],
        "colab": {
          "base_uri": "https://localhost:8080/"
        },
        "id": "DWHmNeIxBriE",
        "outputId": "ae058879-eefc-40c0-e97f-60ee3963b4a2"
      },
      "outputs": [
        {
          "output_type": "stream",
          "name": "stdout",
          "text": [
            "Output vector A: [[0.5        0.49942492 0.49807792 0.49750285 0.49942492 0.5\n",
            "  0.49942492 0.49807792 0.49807792 0.49750285 0.49942492 0.49807792\n",
            "  0.49807792 0.49750285 0.5        0.49750285 0.49807792 0.49942492\n",
            "  0.49942492 0.49942492 0.49942492 0.49807792 0.49750285 0.5\n",
            "  0.5        0.49942492 0.49750285 0.49942492 0.5        0.5       ]]\n"
          ]
        }
      ],
      "source": [
        "def forward_propagation(X, parameters):\n",
        "    \"\"\"\n",
        "    Argument:\n",
        "    X -- input data of size (n_x, m)\n",
        "    parameters -- python dictionary containing your parameters (output of initialization function)\n",
        "\n",
        "    Returns:\n",
        "    A -- The output\n",
        "    \"\"\"\n",
        "    W = parameters[\"W\"]\n",
        "    b = parameters[\"b\"]\n",
        "\n",
        "    # Forward Propagation to calculate Z.\n",
        "    Z = np.matmul(W, X) + b\n",
        "    A = sigmoid(Z)\n",
        "\n",
        "    return A\n",
        "\n",
        "A = forward_propagation(X, parameters)\n",
        "\n",
        "print(\"Output vector A:\", A)"
      ]
    },
    {
      "cell_type": "markdown",
      "metadata": {
        "id": "Ill71Qx1BriE"
      },
      "source": [
        "Your weights were just initialized with some random values, so the model has not been trained yet.\n",
        "\n",
        "Define a cost function $(5)$ which will be used to train the model:\n",
        "\n",
        "$$\\mathcal{L}\\left(W, b\\right)  = \\frac{1}{m}\\sum_{i=1}^{m}  \\large\\left(\\small -y^{(i)}\\log\\left(a^{(i)}\\right) - (1-y^{(i)})\\log\\left(1- a^{(i)}\\right)  \\large  \\right) \\small.$$"
      ]
    },
    {
      "cell_type": "code",
      "execution_count": 9,
      "metadata": {
        "tags": [
          "graded"
        ],
        "colab": {
          "base_uri": "https://localhost:8080/"
        },
        "id": "v-qdf4A9BriF",
        "outputId": "38c8fb36-401b-4c90-d212-9e1828827349"
      },
      "outputs": [
        {
          "output_type": "stream",
          "name": "stdout",
          "text": [
            "cost = 0.6916391611507908\n"
          ]
        }
      ],
      "source": [
        "def compute_cost(A, Y):\n",
        "    \"\"\"\n",
        "    Computes the log loss cost function\n",
        "\n",
        "    Arguments:\n",
        "    A -- The output of the neural network of shape (n_y, number of examples)\n",
        "    Y -- \"true\" labels vector of shape (n_y, number of examples)\n",
        "\n",
        "    Returns:\n",
        "    cost -- log loss\n",
        "\n",
        "    \"\"\"\n",
        "    # Number of examples.\n",
        "    m = Y.shape[1]\n",
        "\n",
        "    # Compute the cost function.\n",
        "    logprobs = - np.multiply(np.log(A),Y) - np.multiply(np.log(1 - A),1 - Y)\n",
        "    cost = 1/m * np.sum(logprobs)\n",
        "\n",
        "    return cost\n",
        "\n",
        "print(\"cost = \" + str(compute_cost(A, Y)))"
      ]
    },
    {
      "cell_type": "markdown",
      "metadata": {
        "tags": [
          "graded"
        ],
        "id": "nlfrpX-5BriF"
      },
      "source": [
        "Calculate partial derivatives as shown in $(8)$:\n",
        "\n",
        "\\begin{align}\n",
        "\\frac{\\partial \\mathcal{L} }{ \\partial W } &= \\frac{1}{m}\\left(A - Y\\right)X^T,\\\\\n",
        "\\frac{\\partial \\mathcal{L} }{ \\partial b } &= \\frac{1}{m}\\left(A - Y\\right)\\mathbf{1}.\n",
        "\\end{align}"
      ]
    },
    {
      "cell_type": "code",
      "execution_count": 10,
      "metadata": {
        "colab": {
          "base_uri": "https://localhost:8080/"
        },
        "id": "RzFAGoxkBriF",
        "outputId": "47b940a5-2717-4760-c514-fcdcd0b8af82"
      },
      "outputs": [
        {
          "output_type": "stream",
          "name": "stdout",
          "text": [
            "dW = [[ 0.21571875 -0.06735779]]\n",
            "db = [[0.16552706]]\n"
          ]
        }
      ],
      "source": [
        "def backward_propagation(A, X, Y):\n",
        "    \"\"\"\n",
        "    Implements the backward propagation, calculating gradients\n",
        "\n",
        "    Arguments:\n",
        "    A -- the output of the neural network of shape (n_y, number of examples)\n",
        "    X -- input data of shape (n_x, number of examples)\n",
        "    Y -- \"true\" labels vector of shape (n_y, number of examples)\n",
        "\n",
        "    Returns:\n",
        "    grads -- python dictionary containing gradients with respect to different parameters\n",
        "    \"\"\"\n",
        "    m = X.shape[1]\n",
        "\n",
        "    # Backward propagation: calculate partial derivatives denoted as dW, db for simplicity.\n",
        "    dZ = A - Y\n",
        "    dW = 1/m * np.dot(dZ, X.T)\n",
        "    db = 1/m * np.sum(dZ, axis = 1, keepdims = True)\n",
        "\n",
        "    grads = {\"dW\": dW,\n",
        "             \"db\": db}\n",
        "\n",
        "    return grads\n",
        "\n",
        "grads = backward_propagation(A, X, Y)\n",
        "\n",
        "print(\"dW = \" + str(grads[\"dW\"]))\n",
        "print(\"db = \" + str(grads[\"db\"]))"
      ]
    },
    {
      "cell_type": "markdown",
      "metadata": {
        "id": "O8FHXOIABriG"
      },
      "source": [
        "Update parameters as shown in $(9)$:\n",
        "\n",
        "\\begin{align}\n",
        "W &= W - \\alpha \\frac{\\partial \\mathcal{L} }{ \\partial W },\\\\\n",
        "b &= b - \\alpha \\frac{\\partial \\mathcal{L} }{ \\partial b }.\\end{align}"
      ]
    },
    {
      "cell_type": "code",
      "execution_count": 11,
      "metadata": {
        "colab": {
          "base_uri": "https://localhost:8080/"
        },
        "id": "YHaEwHu1BriL",
        "outputId": "eb7e699e-c433-4807-f071-d8889b4d3db6"
      },
      "outputs": [
        {
          "output_type": "stream",
          "name": "stdout",
          "text": [
            "W updated = [[-0.26655087  0.07852904]]\n",
            "b updated = [[-0.19863247]]\n"
          ]
        }
      ],
      "source": [
        "def update_parameters(parameters, grads, learning_rate=1.2):\n",
        "    \"\"\"\n",
        "    Updates parameters using the gradient descent update rule\n",
        "\n",
        "    Arguments:\n",
        "    parameters -- python dictionary containing parameters\n",
        "    grads -- python dictionary containing gradients\n",
        "    learning_rate -- learning rate parameter for gradient descent\n",
        "\n",
        "    Returns:\n",
        "    parameters -- python dictionary containing updated parameters\n",
        "    \"\"\"\n",
        "    # Retrieve each parameter from the dictionary \"parameters\".\n",
        "    W = parameters[\"W\"]\n",
        "    b = parameters[\"b\"]\n",
        "\n",
        "    # Retrieve each gradient from the dictionary \"grads\".\n",
        "    dW = grads[\"dW\"]\n",
        "    db = grads[\"db\"]\n",
        "\n",
        "    # Update rule for each parameter.\n",
        "    W = W - learning_rate * dW\n",
        "    b = b - learning_rate * db\n",
        "\n",
        "    parameters = {\"W\": W,\n",
        "                  \"b\": b}\n",
        "\n",
        "    return parameters\n",
        "\n",
        "parameters_updated = update_parameters(parameters, grads)\n",
        "\n",
        "print(\"W updated = \" + str(parameters_updated[\"W\"]))\n",
        "print(\"b updated = \" + str(parameters_updated[\"b\"]))"
      ]
    },
    {
      "cell_type": "markdown",
      "metadata": {
        "id": "KloVbsTTBriL"
      },
      "source": [
        "<a name='3.4'></a>\n",
        "### 3.4 - Integrate parts 3.1, 3.2 and 3.3 in nn_model() and make predictions"
      ]
    },
    {
      "cell_type": "markdown",
      "metadata": {
        "id": "GO61ImAHBriL"
      },
      "source": [
        "Build your neural network model in `nn_model()`."
      ]
    },
    {
      "cell_type": "code",
      "execution_count": 12,
      "metadata": {
        "tags": [
          "graded"
        ],
        "id": "3zroUpMIBriM"
      },
      "outputs": [],
      "source": [
        "def nn_model(X, Y, num_iterations=10, learning_rate=1.2, print_cost=False):\n",
        "    \"\"\"\n",
        "    Arguments:\n",
        "    X -- dataset of shape (n_x, number of examples)\n",
        "    Y -- labels of shape (n_y, number of examples)\n",
        "    num_iterations -- number of iterations in the loop\n",
        "    learning_rate -- learning rate parameter for gradient descent\n",
        "    print_cost -- if True, print the cost every iteration\n",
        "\n",
        "    Returns:\n",
        "    parameters -- parameters learnt by the model. They can then be used to make predictions.\n",
        "    \"\"\"\n",
        "\n",
        "    n_x = layer_sizes(X, Y)[0]\n",
        "    n_y = layer_sizes(X, Y)[1]\n",
        "\n",
        "    parameters = initialize_parameters(n_x, n_y)\n",
        "\n",
        "    # Loop\n",
        "    for i in range(0, num_iterations):\n",
        "\n",
        "        # Forward propagation. Inputs: \"X, parameters\". Outputs: \"A\".\n",
        "        A = forward_propagation(X, parameters)\n",
        "\n",
        "        # Cost function. Inputs: \"A, Y\". Outputs: \"cost\".\n",
        "        cost = compute_cost(A, Y)\n",
        "\n",
        "        # Backpropagation. Inputs: \"A, X, Y\". Outputs: \"grads\".\n",
        "        grads = backward_propagation(A, X, Y)\n",
        "\n",
        "        # Gradient descent parameter update. Inputs: \"parameters, grads, learning_rate\". Outputs: \"parameters\".\n",
        "        parameters = update_parameters(parameters, grads, learning_rate)\n",
        "\n",
        "        # Print the cost every iteration.\n",
        "        if print_cost:\n",
        "            print (\"Cost after iteration %i: %f\" %(i, cost))\n",
        "\n",
        "    return parameters"
      ]
    },
    {
      "cell_type": "code",
      "execution_count": 24,
      "metadata": {
        "tags": [
          "graded"
        ],
        "colab": {
          "base_uri": "https://localhost:8080/"
        },
        "id": "OozC-2NOBriM",
        "outputId": "1c290af6-835f-4955-fca1-bcbd20700462"
      },
      "outputs": [
        {
          "output_type": "stream",
          "name": "stdout",
          "text": [
            "Cost after iteration 0: 0.695677\n",
            "Cost after iteration 1: 0.611358\n",
            "Cost after iteration 2: 0.557101\n",
            "Cost after iteration 3: 0.515465\n",
            "Cost after iteration 4: 0.480888\n",
            "Cost after iteration 5: 0.451211\n",
            "Cost after iteration 6: 0.425326\n",
            "Cost after iteration 7: 0.402521\n",
            "Cost after iteration 8: 0.382269\n",
            "Cost after iteration 9: 0.364160\n",
            "Cost after iteration 10: 0.347864\n",
            "Cost after iteration 11: 0.333112\n",
            "Cost after iteration 12: 0.319685\n",
            "Cost after iteration 13: 0.307404\n",
            "Cost after iteration 14: 0.296120\n",
            "Cost after iteration 15: 0.285707\n",
            "Cost after iteration 16: 0.276061\n",
            "Cost after iteration 17: 0.267096\n",
            "Cost after iteration 18: 0.258736\n",
            "Cost after iteration 19: 0.250916\n",
            "Cost after iteration 20: 0.243584\n",
            "Cost after iteration 21: 0.236690\n",
            "Cost after iteration 22: 0.230194\n",
            "Cost after iteration 23: 0.224060\n",
            "Cost after iteration 24: 0.218257\n",
            "Cost after iteration 25: 0.212757\n",
            "Cost after iteration 26: 0.207534\n",
            "Cost after iteration 27: 0.202568\n",
            "Cost after iteration 28: 0.197838\n",
            "Cost after iteration 29: 0.193328\n",
            "Cost after iteration 30: 0.189021\n",
            "Cost after iteration 31: 0.184903\n",
            "Cost after iteration 32: 0.180962\n",
            "Cost after iteration 33: 0.177186\n",
            "Cost after iteration 34: 0.173564\n",
            "Cost after iteration 35: 0.170087\n",
            "Cost after iteration 36: 0.166746\n",
            "Cost after iteration 37: 0.163533\n",
            "Cost after iteration 38: 0.160440\n",
            "Cost after iteration 39: 0.157460\n",
            "Cost after iteration 40: 0.154588\n",
            "Cost after iteration 41: 0.151817\n",
            "Cost after iteration 42: 0.149142\n",
            "Cost after iteration 43: 0.146559\n",
            "Cost after iteration 44: 0.144061\n",
            "Cost after iteration 45: 0.141646\n",
            "Cost after iteration 46: 0.139308\n",
            "Cost after iteration 47: 0.137045\n",
            "Cost after iteration 48: 0.134852\n",
            "Cost after iteration 49: 0.132727\n",
            "W = [[-3.57055583  3.23938087]]\n",
            "b = [[-1.58199055]]\n"
          ]
        }
      ],
      "source": [
        "parameters = nn_model(X, Y, num_iterations=50, learning_rate=1.2, print_cost=True)\n",
        "print(\"W = \" + str(parameters[\"W\"]))\n",
        "print(\"b = \" + str(parameters[\"b\"]))"
      ]
    },
    {
      "cell_type": "markdown",
      "metadata": {
        "id": "9QC3X8EfBriM"
      },
      "source": [
        "You can see that after about $40$ iterations the cost function does keep decreasing, but not as much. It is a sign that it might be reasonable to stop training there. The final model parameters can be used to find the boundary line and for making predictions. Let's visualize the boundary line."
      ]
    },
    {
      "cell_type": "code",
      "execution_count": 14,
      "metadata": {
        "tags": [
          "graded"
        ],
        "colab": {
          "base_uri": "https://localhost:8080/",
          "height": 430
        },
        "id": "DhdJsxQzBriM",
        "outputId": "81a76784-3c42-49be-d9c8-96a9ee3a3ad4"
      },
      "outputs": [
        {
          "output_type": "display_data",
          "data": {
            "text/plain": [
              "<Figure size 640x480 with 1 Axes>"
            ],
            "image/png": "[encoded data removed]"
          },
          "metadata": {}
        }
      ],
      "source": [
        "def plot_decision_boundary(X, Y, parameters):\n",
        "    W = parameters[\"W\"]\n",
        "    b = parameters[\"b\"]\n",
        "\n",
        "    fig, ax = plt.subplots()\n",
        "    plt.scatter(X[0, :], X[1, :], c=Y, cmap=colors.ListedColormap(['blue', 'red']));\n",
        "\n",
        "    x_line = np.arange(np.min(X[0,:]),np.max(X[0,:])*1.1, 0.1)\n",
        "    ax.plot(x_line, - W[0,0] / W[0,1] * x_line + -b[0,0] / W[0,1] , color=\"black\")\n",
        "    plt.plot()\n",
        "    plt.show()\n",
        "\n",
        "plot_decision_boundary(X, Y, parameters)"
      ]
    },
    {
      "cell_type": "markdown",
      "metadata": {
        "id": "CUod1pRABriM"
      },
      "source": [
        "And make some predictions:"
      ]
    },
    {
      "cell_type": "code",
      "execution_count": 25,
      "metadata": {
        "colab": {
          "base_uri": "https://localhost:8080/"
        },
        "id": "X1V_-sTPBriM",
        "outputId": "c51e0ea1-c1a5-4190-d819-bb4ac7bf0595"
      },
      "outputs": [
        {
          "output_type": "stream",
          "name": "stdout",
          "text": [
            "Coordinates (in the columns):\n",
            "[[1 1 0 0]\n",
            " [0 1 0 1]]\n",
            "Predictions:\n",
            "[[False False False  True]]\n"
          ]
        }
      ],
      "source": [
        "def predict(X, parameters):\n",
        "    \"\"\"\n",
        "    Using the learned parameters, predicts a class for each example in X\n",
        "\n",
        "    Arguments:\n",
        "    parameters -- python dictionary containing your parameters\n",
        "    X -- input data of size (n_x, m)\n",
        "\n",
        "    Returns\n",
        "    predictions -- vector of predictions of our model (blue: False / red: True)\n",
        "    \"\"\"\n",
        "\n",
        "    # Computes probabilities using forward propagation, and classifies to 0/1 using 0.5 as the threshold.\n",
        "    A = forward_propagation(X, parameters)\n",
        "    predictions = A > 0.5\n",
        "\n",
        "    return predictions\n",
        "\n",
        "X_pred = np.array([[1, 1, 0, 0],\n",
        "                   [0, 1, 0, 1]])\n",
        "Y_pred = predict(X_pred, parameters)\n",
        "\n",
        "print(f\"Coordinates (in the columns):\\n{X_pred}\")\n",
        "print(f\"Predictions:\\n{Y_pred}\")"
      ]
    },
    {
      "cell_type": "markdown",
      "metadata": {
        "id": "rSimXGZgBriN"
      },
      "source": [
        "Pretty good for such a simple neural network!"
      ]
    },
    {
      "cell_type": "markdown",
      "metadata": {
        "id": "wozCArLeBriN"
      },
      "source": [
        "<a name='4'></a>\n",
        "## 4 - Performance on a Larger Dataset\n",
        "\n",
        "Construct a larger and more complex dataset with the function `make_blobs` from the `sklearn.datasets` library:"
      ]
    },
    {
      "cell_type": "code",
      "execution_count": 26,
      "metadata": {
        "colab": {
          "base_uri": "https://localhost:8080/",
          "height": 430
        },
        "id": "OzszaMDVBriN",
        "outputId": "9e53f625-1b72-4249-da25-ffaca3a17b32"
      },
      "outputs": [
        {
          "output_type": "display_data",
          "data": {
            "text/plain": [
              "<Figure size 640x480 with 1 Axes>"
            ],
            "image/png": "[encoded data removed]"
          },
          "metadata": {}
        }
      ],
      "source": [
        "# Dataset\n",
        "n_samples = 1000\n",
        "samples, labels = make_blobs(n_samples=n_samples,\n",
        "                             centers=([2.5, 3], [6.7, 7.9]),\n",
        "                             cluster_std=1.4,\n",
        "                             random_state=0)\n",
        "\n",
        "X_larger = np.transpose(samples)\n",
        "Y_larger = labels.reshape((1,n_samples))\n",
        "\n",
        "plt.scatter(X_larger[0, :], X_larger[1, :], c=Y_larger, cmap=colors.ListedColormap(['blue', 'red']));"
      ]
    },
    {
      "cell_type": "markdown",
      "metadata": {
        "id": "0LrDMhSVBriN"
      },
      "source": [
        "And train your neural network for $100$ iterations."
      ]
    },
    {
      "cell_type": "code",
      "execution_count": 29,
      "metadata": {
        "colab": {
          "base_uri": "https://localhost:8080/"
        },
        "id": "SjFgHUTyBriN",
        "outputId": "5cd3a5e3-d0c0-435f-9f87-9fd15cfcf530"
      },
      "outputs": [
        {
          "output_type": "stream",
          "name": "stdout",
          "text": [
            "Cost after iteration 0: 0.720472\n",
            "Cost after iteration 1: 4.312623\n",
            "Cost after iteration 2: 0.842426\n",
            "Cost after iteration 3: nan\n",
            "Cost after iteration 4: 2.300008\n",
            "Cost after iteration 5: 4.940395\n",
            "Cost after iteration 6: nan\n",
            "Cost after iteration 7: nan\n",
            "Cost after iteration 8: 0.726779\n",
            "Cost after iteration 9: 5.916904\n",
            "Cost after iteration 10: nan\n",
            "Cost after iteration 11: nan\n",
            "Cost after iteration 12: 0.370478\n",
            "Cost after iteration 13: 3.583375\n",
            "Cost after iteration 14: nan\n",
            "Cost after iteration 15: nan\n",
            "Cost after iteration 16: 0.758837\n",
            "Cost after iteration 17: 4.217628\n",
            "Cost after iteration 18: nan\n",
            "Cost after iteration 19: nan\n",
            "Cost after iteration 20: 0.495755\n",
            "Cost after iteration 21: 2.934256\n",
            "Cost after iteration 22: nan\n",
            "Cost after iteration 23: nan\n",
            "Cost after iteration 24: 0.647905\n",
            "Cost after iteration 25: 2.448590\n",
            "Cost after iteration 26: nan\n",
            "Cost after iteration 27: nan\n",
            "Cost after iteration 28: 0.611368\n",
            "Cost after iteration 29: 1.671854\n",
            "Cost after iteration 30: nan\n",
            "Cost after iteration 31: nan\n",
            "Cost after iteration 32: 0.424117\n",
            "Cost after iteration 33: 0.855515\n",
            "Cost after iteration 34: nan\n",
            "Cost after iteration 35: 1.951194\n",
            "Cost after iteration 36: 0.172624\n",
            "Cost after iteration 37: 0.732580\n",
            "Cost after iteration 38: 0.696506\n",
            "Cost after iteration 39: nan\n",
            "Cost after iteration 40: 1.116568\n",
            "Cost after iteration 41: 0.375915\n",
            "Cost after iteration 42: nan\n",
            "Cost after iteration 43: 0.059601\n",
            "Cost after iteration 44: 0.058950\n",
            "Cost after iteration 45: 0.063770\n",
            "Cost after iteration 46: 0.061636\n",
            "Cost after iteration 47: 0.070698\n",
            "Cost after iteration 48: 0.065340\n",
            "Cost after iteration 49: 0.080642\n",
            "Cost after iteration 50: 0.069873\n",
            "Cost after iteration 51: 0.093700\n",
            "Cost after iteration 52: 0.075153\n",
            "Cost after iteration 53: 0.110160\n",
            "Cost after iteration 54: 0.081318\n",
            "Cost after iteration 55: 0.131018\n",
            "Cost after iteration 56: 0.088841\n",
            "Cost after iteration 57: 0.158792\n",
            "Cost after iteration 58: 0.098835\n",
            "Cost after iteration 59: 0.199573\n",
            "Cost after iteration 60: 0.113926\n",
            "Cost after iteration 61: 0.269471\n",
            "Cost after iteration 62: 0.140794\n",
            "Cost after iteration 63: 0.417107\n",
            "Cost after iteration 64: 0.192866\n",
            "Cost after iteration 65: 0.768611\n",
            "Cost after iteration 66: 0.223035\n",
            "Cost after iteration 67: 0.979086\n",
            "Cost after iteration 68: 0.170148\n",
            "Cost after iteration 69: 0.564007\n",
            "Cost after iteration 70: 0.167009\n",
            "Cost after iteration 71: 0.530215\n",
            "Cost after iteration 72: 0.148517\n",
            "Cost after iteration 73: 0.407716\n",
            "Cost after iteration 74: 0.117721\n",
            "Cost after iteration 75: 0.246618\n",
            "Cost after iteration 76: 0.078962\n",
            "Cost after iteration 77: 0.107802\n",
            "Cost after iteration 78: 0.053267\n",
            "Cost after iteration 79: 0.054323\n",
            "Cost after iteration 80: 0.045356\n",
            "Cost after iteration 81: 0.044674\n",
            "Cost after iteration 82: 0.042977\n",
            "Cost after iteration 83: 0.042596\n",
            "Cost after iteration 84: 0.042166\n",
            "Cost after iteration 85: 0.041995\n",
            "Cost after iteration 86: 0.041849\n",
            "Cost after iteration 87: 0.041762\n",
            "Cost after iteration 88: 0.041689\n",
            "Cost after iteration 89: 0.041631\n",
            "Cost after iteration 90: 0.041577\n",
            "Cost after iteration 91: 0.041528\n",
            "Cost after iteration 92: 0.041481\n",
            "Cost after iteration 93: 0.041435\n",
            "Cost after iteration 94: 0.041391\n",
            "Cost after iteration 95: 0.041346\n",
            "Cost after iteration 96: 0.041302\n",
            "Cost after iteration 97: 0.041259\n",
            "Cost after iteration 98: 0.041215\n",
            "Cost after iteration 99: 0.041172\n",
            "W = [[1.01766587 1.12828644]]\n",
            "b = [[-10.61359727]]\n"
          ]
        },
        {
          "output_type": "stream",
          "name": "stderr",
          "text": [
            "<ipython-input-9-35081b5c8ab6>:17: RuntimeWarning: divide by zero encountered in log\n",
            "  logprobs = - np.multiply(np.log(A),Y) - np.multiply(np.log(1 - A),1 - Y)\n",
            "<ipython-input-9-35081b5c8ab6>:17: RuntimeWarning: invalid value encountered in multiply\n",
            "  logprobs = - np.multiply(np.log(A),Y) - np.multiply(np.log(1 - A),1 - Y)\n"
          ]
        }
      ],
      "source": [
        "parameters_larger = nn_model(X_larger, Y_larger, num_iterations=100, learning_rate=1.2, print_cost=True)\n",
        "print(\"W = \" + str(parameters_larger[\"W\"]))\n",
        "print(\"b = \" + str(parameters_larger[\"b\"]))"
      ]
    },
    {
      "cell_type": "markdown",
      "metadata": {
        "id": "2XjMV8poBriO"
      },
      "source": [
        "Plot the decision boundary:"
      ]
    },
    {
      "cell_type": "code",
      "execution_count": 28,
      "metadata": {
        "colab": {
          "base_uri": "https://localhost:8080/",
          "height": 430
        },
        "id": "dz0bGn_xBriO",
        "outputId": "5cfa50f4-9282-44bd-9e8d-5ad920f89066"
      },
      "outputs": [
        {
          "output_type": "display_data",
          "data": {
            "text/plain": [
              "<Figure size 640x480 with 1 Axes>"
            ],
            "image/png": "[encoded data removed]"
          },
          "metadata": {}
        }
      ],
      "source": [
        "plot_decision_boundary(X_larger, Y_larger, parameters_larger)"
      ]
    },
    {
      "cell_type": "markdown",
      "metadata": {
        "id": "fsPU_vXqBriO"
      },
      "source": [
        "Try to change values of the parameters `num_iterations` and `learning_rate` and see if the results will be different."
      ]
    },
    {
      "cell_type": "markdown",
      "metadata": {
        "id": "7a4LOtIBBriO"
      },
      "source": [
        "Congrats on finishing the lab!"
      ]
    },
    {
      "cell_type": "code",
      "execution_count": null,
      "metadata": {
        "tags": [
          "graded"
        ],
        "id": "Pr-6iNF8BriP"
      },
      "outputs": [],
      "source": []
    }
  ],
  "metadata": {
    "accelerator": "GPU",
    "colab": {
      "provenance": [],
      "include_colab_link": true
    },
    "coursera": {
      "schema_names": [
        "AI4MC1-1"
      ]
    },
    "grader_version": "1",
    "kernelspec": {
      "display_name": "Python 3 (ipykernel)",
      "language": "python",
      "name": "python3"
    },
    "language_info": {
      "codemirror_mode": {
        "name": "ipython",
        "version": 3
      },
      "file_extension": ".py",
      "mimetype": "text/x-python",
      "name": "python",
      "nbconvert_exporter": "python",
      "pygments_lexer": "ipython3",
      "version": "3.10.6"
    },
    "toc": {
      "base_numbering": 1,
      "nav_menu": {},
      "number_sections": true,
      "sideBar": true,
      "skip_h1_title": false,
      "title_cell": "Table of Contents",
      "title_sidebar": "Contents",
      "toc_cell": false,
      "toc_position": {},
      "toc_section_display": true,
      "toc_window_display": false
    }
  },
  "nbformat": 4,
  "nbformat_minor": 0
}