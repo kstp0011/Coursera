{
  "cells": [
    {
      "cell_type": "markdown",
      "metadata": {
        "id": "view-in-github",
        "colab_type": "text"
      },
      "source": [
        "<a href=\"https://colab.research.google.com/github/kstp0011/Coursera/blob/main/Calculus%20for%20Machine%20Learning%20and%20Data%20Science/W3/C2_W3_Lab_1_Regression_with_Perceptron.ipynb\" target=\"_parent\"><img src=\"https://colab.research.google.com/assets/colab-badge.svg\" alt=\"Open In Colab\"/></a>"
      ]
    },
    {
      "cell_type": "markdown",
      "metadata": {
        "id": "EAt-K2qgcIou"
      },
      "source": [
        "# Regression with Perceptron"
      ]
    },
    {
      "cell_type": "markdown",
      "metadata": {
        "id": "FZYK-0rin5x7"
      },
      "source": [
        "In the week 2 assignment, you implemented the gradient descent method to build a linear regression model, predicting sales given a TV marketing budget. In this lab, you will construct a neural network corresponding to the same simple linear regression model. Then you will train the network, implementing the gradient descent method. After that you will increase the complexity of the neural network to build a multiple linear regression model, predicting house prices based on their size and quality.\n",
        "\n",
        "*Note*: The same models were discussed in Course 1 \"Linear Algebra\" week 3 assignment, but model training with backward propagation was omitted."
      ]
    },
    {
      "cell_type": "markdown",
      "metadata": {
        "id": "mElUMtQPY0ph"
      },
      "source": [
        "# Table of Contents\n",
        "\n",
        "- [ 1 - Simple Linear Regression](#1)\n",
        "  - [ 1.1 - Simple Linear Regression Model](#1.1)\n",
        "  - [ 1.2 - Neural Network Model with a Single Perceptron and One Input Node](#1.2)\n",
        "  - [ 1.3 - Dataset](#1.3)\n",
        "- [ 2 - Implementation of the Neural Network Model for Linear Regression](#2)\n",
        "  - [ 2.1 - Defining the Neural Network Structure](#2.1)\n",
        "  - [ 2.2 - Initialize the Model's Parameters](#2.2)\n",
        "  - [ 2.3 - The Loop](#2.3)\n",
        "  - [ 2.4 - Integrate parts 2.1, 2.2 and 2.3 in nn_model() and make predictions](#2.4)\n",
        "- [ 3 - Multiple Linear Regression](#3)\n",
        "  - [ 3.1 - Multipe Linear Regression Model](#3.1)\n",
        "  - [ 3.2 - Neural Network Model with a Single Perceptron and Two Input Nodes](#3.2)\n",
        "  - [ 3.3 - Dataset](#3.3)\n",
        "  - [ 3.4 - Performance of the Neural Network Model for Multiple Linear Regression](#3.4)"
      ]
    },
    {
      "cell_type": "markdown",
      "metadata": {
        "id": "XI8PBrk_2Z4V"
      },
      "source": [
        "## Packages\n",
        "\n",
        "Let's first import all the required packages."
      ]
    },
    {
      "cell_type": "code",
      "execution_count": 1,
      "metadata": {
        "tags": [
          "graded"
        ],
        "id": "3bhg9TZLY0pi"
      },
      "outputs": [],
      "source": [
        "import numpy as np\n",
        "import matplotlib.pyplot as plt\n",
        "# A library for data manipulation and analysis.\n",
        "import pandas as pd\n",
        "\n",
        "# Output of plotting commands is displayed inline within the Jupyter notebook.\n",
        "%matplotlib inline\n",
        "\n",
        "# Set a seed so that the results are consistent.\n",
        "np.random.seed(3)"
      ]
    },
    {
      "cell_type": "markdown",
      "metadata": {
        "id": "LkntVn4CY0pj"
      },
      "source": [
        "<a name='1'></a>\n",
        "## 1 - Simple Linear Regression"
      ]
    },
    {
      "cell_type": "markdown",
      "metadata": {
        "id": "rln8cUhpY0pk"
      },
      "source": [
        "<a name='1.1'></a>\n",
        "### 1.1 - Simple Linear Regression Model\n",
        "\n",
        "You can describe a simple linear regression model as\n",
        "\n",
        "$$\\hat{y} = wx + b,\\tag{1}$$\n",
        "\n",
        "where $\\hat{y}$ is a prediction of dependent variable $y$ based on independent variable $x$ using a line equation with the slope $w$ and intercept $b$.\n",
        "\n",
        "Given a set of training data points $(x_1, y_1)$, ..., $(x_m, y_m)$, you will find the \"best\" fitting line - such parameters $w$ and $b$ that the differences between original values $y_i$ and predicted values $\\hat{y}_i = wx_i + b$ are minimum."
      ]
    },
    {
      "cell_type": "markdown",
      "metadata": {
        "id": "ua0Ec9AiY0pl"
      },
      "source": [
        "<a name='1.2'></a>\n",
        "### 1.2 - Neural Network Model with a Single Perceptron and One Input Node\n",
        "\n",
        "The simplest neural network model that describes the above problem can be realized by using one **perceptron**. The **input** and **output** layers will have one **node** each ($x$ for input and $\\hat{y} = z$ for output):\n",
        "\n",
        "<img src=\"images/nn_model_linear_regression_simple.png\" style=\"width:400px;\">\n",
        "\n",
        "**Weight** ($w$) and **bias** ($b$) are the parameters that will get updated when you **train** the model. They are initialized to some random values or set to 0 and updated as the training progresses.\n",
        "\n",
        "For each training example $x^{(i)}$, the prediction $\\hat{y}^{(i)}$ can be calculated as:\n",
        "\n",
        "\\begin{align}\n",
        "z^{(i)} &=  w x^{(i)} + b,\\\\\n",
        "\\hat{y}^{(i)} &= z^{(i)},\n",
        "\\tag{2}\\end{align}\n",
        "\n",
        "where $i = 1, \\dots, m$.\n",
        "\n",
        "You can organise all training examples as a vector $X$ of size ($1 \\times m$) and perform scalar multiplication of $X$ ($1 \\times m$) by a scalar $w$, adding $b$, which will be broadcasted to a vector of size ($1 \\times m$):\n",
        "\n",
        "\\begin{align}\n",
        "Z &=  w X + b,\\\\\n",
        "\\hat{Y} &= Z,\n",
        "\\tag{3}\\end{align}\n",
        "\n",
        "This set of calculations is called **forward propagation**."
      ]
    },
    {
      "cell_type": "markdown",
      "metadata": {
        "id": "rvLt0APwY0pm"
      },
      "source": [
        "For each training example you can measure the difference between original values $y^{(i)}$ and predicted values $\\hat{y}^{(i)}$ with the **loss function** $L\\left(w, b\\right)  = \\frac{1}{2}\\left(\\hat{y}^{(i)} - y^{(i)}\\right)^2$. Division by $2$ is taken just for scaling purposes, you will see the reason below, calculating partial derivatives. To compare the resulting vector of the predictions $\\hat{Y}$ ($1 \\times m$) with the vector $Y$ of original values $y^{(i)}$, you can take an average of the loss function values for each of the training examples:\n",
        "\n",
        "$$\\mathcal{L}\\left(w, b\\right)  = \\frac{1}{2m}\\sum_{i=1}^{m} \\left(\\hat{y}^{(i)} - y^{(i)}\\right)^2.\\tag{4}$$\n",
        "\n",
        "This function is called the sum of squares **cost function**. The aim is to optimize the cost function during the training, which will minimize the differences between original values $y^{(i)}$ and predicted values $\\hat{y}^{(i)}$.\n",
        "\n",
        "When your weights were just initialized with some random values, and no training was done yet, you can't expect good results. You need to calculate the adjustments for the weight and bias, minimizing the cost function. This process is called **backward propagation**.\n",
        "\n",
        "According to the gradient descent algorithm, you can calculate partial derivatives as:\n",
        "\n",
        "\\begin{align}\n",
        "\\frac{\\partial \\mathcal{L} }{ \\partial w } &=\n",
        "\\frac{1}{m}\\sum_{i=1}^{m} \\left(\\hat{y}^{(i)} - y^{(i)}\\right)x^{(i)},\\\\\n",
        "\\frac{\\partial \\mathcal{L} }{ \\partial b } &=\n",
        "\\frac{1}{m}\\sum_{i=1}^{m} \\left(\\hat{y}^{(i)} - y^{(i)}\\right).\n",
        "\\tag{5}\\end{align}\n",
        "\n",
        "You can see how the additional division by $2$ in the equation $(4)$ helped to simplify the results of the partial derivatives. Then update the parameters iteratively using the expressions\n",
        "\n",
        "\\begin{align}\n",
        "w &= w - \\alpha \\frac{\\partial \\mathcal{L} }{ \\partial w },\\\\\n",
        "b &= b - \\alpha \\frac{\\partial \\mathcal{L} }{ \\partial b },\n",
        "\\tag{6}\\end{align}\n",
        "\n",
        "where $\\alpha$ is the learning rate. Then repeat the process until the cost function stops decreasing.\n",
        "\n",
        "The general **methodology** to build a neural network is to:\n",
        "1. Define the neural network structure ( # of input units,  # of hidden units, etc).\n",
        "2. Initialize the model's parameters\n",
        "3. Loop:\n",
        "    - Implement forward propagation (calculate the perceptron output),\n",
        "    - Implement backward propagation (to get the required corrections for the parameters),\n",
        "    - Update parameters.\n",
        "4. Make predictions.\n",
        "\n",
        "You often build helper functions to compute steps 1-3 and then merge them into one function `nn_model()`. Once you've built `nn_model()` and learnt the right parameters, you can make predictions on new data."
      ]
    },
    {
      "cell_type": "markdown",
      "metadata": {
        "id": "y13v4iuMY0pn"
      },
      "source": [
        "<a name='1.3'></a>\n",
        "### 1.3 - Dataset\n",
        "\n",
        "Load the [Kaggle dataset](https://www.kaggle.com/code/devzohaib/simple-linear-regression/notebook), saved in a file `data/tvmarketing.csv`. It has two fields: TV marketing expenses (`TV`) and sales amount (`Sales`)."
      ]
    },
    {
      "cell_type": "code",
      "source": [
        "!mkdir data"
      ],
      "metadata": {
        "id": "07rf4qHucHf6"
      },
      "execution_count": 3,
      "outputs": []
    },
    {
      "cell_type": "code",
      "execution_count": 77,
      "metadata": {
        "tags": [
          "graded"
        ],
        "id": "HCktNmHmY0pn"
      },
      "outputs": [],
      "source": [
        "path = \"data/tvmarketing.csv\"\n",
        "\n",
        "adv = pd.read_csv(path)"
      ]
    },
    {
      "cell_type": "markdown",
      "metadata": {
        "id": "y9Yxzf10Y0po"
      },
      "source": [
        "Print some part of the dataset."
      ]
    },
    {
      "cell_type": "code",
      "execution_count": 78,
      "metadata": {
        "colab": {
          "base_uri": "https://localhost:8080/",
          "height": 206
        },
        "id": "h_TI6JHpY0po",
        "outputId": "6a3c3ed1-af8b-457f-b11d-39216f16273c"
      },
      "outputs": [
        {
          "output_type": "execute_result",
          "data": {
            "text/plain": [
              "      TV  Sales\n",
              "0  230.1   22.1\n",
              "1   44.5   10.4\n",
              "2   17.2    9.3\n",
              "3  151.5   18.5\n",
              "4  180.8   12.9"
            ],
            "text/html": [
              "\n",
              "  <div id=\"df-92321124-7fa6-4de4-a914-5a254598a866\" class=\"colab-df-container\">\n",
              "    <div>\n",
              "<style scoped>\n",
              "    .dataframe tbody tr th:only-of-type {\n",
              "        vertical-align: middle;\n",
              "    }\n",
              "\n",
              "    .dataframe tbody tr th {\n",
              "        vertical-align: top;\n",
              "    }\n",
              "\n",
              "    .dataframe thead th {\n",
              "        text-align: right;\n",
              "    }\n",
              "</style>\n",
              "<table border=\"1\" class=\"dataframe\">\n",
              "  <thead>\n",
              "    <tr style=\"text-align: right;\">\n",
              "      <th></th>\n",
              "      <th>TV</th>\n",
              "      <th>Sales</th>\n",
              "    </tr>\n",
              "  </thead>\n",
              "  <tbody>\n",
              "    <tr>\n",
              "      <th>0</th>\n",
              "      <td>230.1</td>\n",
              "      <td>22.1</td>\n",
              "    </tr>\n",
              "    <tr>\n",
              "      <th>1</th>\n",
              "      <td>44.5</td>\n",
              "      <td>10.4</td>\n",
              "    </tr>\n",
              "    <tr>\n",
              "      <th>2</th>\n",
              "      <td>17.2</td>\n",
              "      <td>9.3</td>\n",
              "    </tr>\n",
              "    <tr>\n",
              "      <th>3</th>\n",
              "      <td>151.5</td>\n",
              "      <td>18.5</td>\n",
              "    </tr>\n",
              "    <tr>\n",
              "      <th>4</th>\n",
              "      <td>180.8</td>\n",
              "      <td>12.9</td>\n",
              "    </tr>\n",
              "  </tbody>\n",
              "</table>\n",
              "</div>\n",
              "    <div class=\"colab-df-buttons\">\n",
              "\n",
              "  <div class=\"colab-df-container\">\n",
              "    <button class=\"colab-df-convert\" onclick=\"convertToInteractive('df-92321124-7fa6-4de4-a914-5a254598a866')\"\n",
              "            title=\"Convert this dataframe to an interactive table.\"\n",
              "            style=\"display:none;\">\n",
              "\n",
              "  <svg xmlns=\"http://www.w3.org/2000/svg\" height=\"24px\" viewBox=\"0 -960 960 960\">\n",
              "    <path d=\"M120-120v-720h720v720H120Zm60-500h600v-160H180v160Zm220 220h160v-160H400v160Zm0 220h160v-160H400v160ZM180-400h160v-160H180v160Zm440 0h160v-160H620v160ZM180-180h160v-160H180v160Zm440 0h160v-160H620v160Z\"/>\n",
              "  </svg>\n",
              "    </button>\n",
              "\n",
              "  <style>\n",
              "    .colab-df-container {\n",
              "      display:flex;\n",
              "      gap: 12px;\n",
              "    }\n",
              "\n",
              "    .colab-df-convert {\n",
              "      background-color: #E8F0FE;\n",
              "      border: none;\n",
              "      border-radius: 50%;\n",
              "      cursor: pointer;\n",
              "      display: none;\n",
              "      fill: #1967D2;\n",
              "      height: 32px;\n",
              "      padding: 0 0 0 0;\n",
              "      width: 32px;\n",
              "    }\n",
              "\n",
              "    .colab-df-convert:hover {\n",
              "      background-color: #E2EBFA;\n",
              "      box-shadow: 0px 1px 2px rgba(60, 64, 67, 0.3), 0px 1px 3px 1px rgba(60, 64, 67, 0.15);\n",
              "      fill: #174EA6;\n",
              "    }\n",
              "\n",
              "    .colab-df-buttons div {\n",
              "      margin-bottom: 4px;\n",
              "    }\n",
              "\n",
              "    [theme=dark] .colab-df-convert {\n",
              "      background-color: #3B4455;\n",
              "      fill: #D2E3FC;\n",
              "    }\n",
              "\n",
              "    [theme=dark] .colab-df-convert:hover {\n",
              "      background-color: #434B5C;\n",
              "      box-shadow: 0px 1px 3px 1px rgba(0, 0, 0, 0.15);\n",
              "      filter: drop-shadow(0px 1px 2px rgba(0, 0, 0, 0.3));\n",
              "      fill: #FFFFFF;\n",
              "    }\n",
              "  </style>\n",
              "\n",
              "    <script>\n",
              "      const buttonEl =\n",
              "        document.querySelector('#df-92321124-7fa6-4de4-a914-5a254598a866 button.colab-df-convert');\n",
              "      buttonEl.style.display =\n",
              "        google.colab.kernel.accessAllowed ? 'block' : 'none';\n",
              "\n",
              "      async function convertToInteractive(key) {\n",
              "        const element = document.querySelector('#df-92321124-7fa6-4de4-a914-5a254598a866');\n",
              "        const dataTable =\n",
              "          await google.colab.kernel.invokeFunction('convertToInteractive',\n",
              "                                                    [key], {});\n",
              "        if (!dataTable) return;\n",
              "\n",
              "        const docLinkHtml = 'Like what you see? Visit the ' +\n",
              "          '<a target=\"_blank\" href=https://colab.research.google.com/notebooks/data_table.ipynb>data table notebook</a>'\n",
              "          + ' to learn more about interactive tables.';\n",
              "        element.innerHTML = '';\n",
              "        dataTable['output_type'] = 'display_data';\n",
              "        await google.colab.output.renderOutput(dataTable, element);\n",
              "        const docLink = document.createElement('div');\n",
              "        docLink.innerHTML = docLinkHtml;\n",
              "        element.appendChild(docLink);\n",
              "      }\n",
              "    </script>\n",
              "  </div>\n",
              "\n",
              "\n",
              "<div id=\"df-6b730e9b-0836-4f43-902f-53f1bef5ccaf\">\n",
              "  <button class=\"colab-df-quickchart\" onclick=\"quickchart('df-6b730e9b-0836-4f43-902f-53f1bef5ccaf')\"\n",
              "            title=\"Suggest charts\"\n",
              "            style=\"display:none;\">\n",
              "\n",
              "<svg xmlns=\"http://www.w3.org/2000/svg\" height=\"24px\"viewBox=\"0 0 24 24\"\n",
              "     width=\"24px\">\n",
              "    <g>\n",
              "        <path d=\"M19 3H5c-1.1 0-2 .9-2 2v14c0 1.1.9 2 2 2h14c1.1 0 2-.9 2-2V5c0-1.1-.9-2-2-2zM9 17H7v-7h2v7zm4 0h-2V7h2v10zm4 0h-2v-4h2v4z\"/>\n",
              "    </g>\n",
              "</svg>\n",
              "  </button>\n",
              "\n",
              "<style>\n",
              "  .colab-df-quickchart {\n",
              "      --bg-color: #E8F0FE;\n",
              "      --fill-color: #1967D2;\n",
              "      --hover-bg-color: #E2EBFA;\n",
              "      --hover-fill-color: #174EA6;\n",
              "      --disabled-fill-color: #AAA;\n",
              "      --disabled-bg-color: #DDD;\n",
              "  }\n",
              "\n",
              "  [theme=dark] .colab-df-quickchart {\n",
              "      --bg-color: #3B4455;\n",
              "      --fill-color: #D2E3FC;\n",
              "      --hover-bg-color: #434B5C;\n",
              "      --hover-fill-color: #FFFFFF;\n",
              "      --disabled-bg-color: #3B4455;\n",
              "      --disabled-fill-color: #666;\n",
              "  }\n",
              "\n",
              "  .colab-df-quickchart {\n",
              "    background-color: var(--bg-color);\n",
              "    border: none;\n",
              "    border-radius: 50%;\n",
              "    cursor: pointer;\n",
              "    display: none;\n",
              "    fill: var(--fill-color);\n",
              "    height: 32px;\n",
              "    padding: 0;\n",
              "    width: 32px;\n",
              "  }\n",
              "\n",
              "  .colab-df-quickchart:hover {\n",
              "    background-color: var(--hover-bg-color);\n",
              "    box-shadow: 0 1px 2px rgba(60, 64, 67, 0.3), 0 1px 3px 1px rgba(60, 64, 67, 0.15);\n",
              "    fill: var(--button-hover-fill-color);\n",
              "  }\n",
              "\n",
              "  .colab-df-quickchart-complete:disabled,\n",
              "  .colab-df-quickchart-complete:disabled:hover {\n",
              "    background-color: var(--disabled-bg-color);\n",
              "    fill: var(--disabled-fill-color);\n",
              "    box-shadow: none;\n",
              "  }\n",
              "\n",
              "  .colab-df-spinner {\n",
              "    border: 2px solid var(--fill-color);\n",
              "    border-color: transparent;\n",
              "    border-bottom-color: var(--fill-color);\n",
              "    animation:\n",
              "      spin 1s steps(1) infinite;\n",
              "  }\n",
              "\n",
              "  @keyframes spin {\n",
              "    0% {\n",
              "      border-color: transparent;\n",
              "      border-bottom-color: var(--fill-color);\n",
              "      border-left-color: var(--fill-color);\n",
              "    }\n",
              "    20% {\n",
              "      border-color: transparent;\n",
              "      border-left-color: var(--fill-color);\n",
              "      border-top-color: var(--fill-color);\n",
              "    }\n",
              "    30% {\n",
              "      border-color: transparent;\n",
              "      border-left-color: var(--fill-color);\n",
              "      border-top-color: var(--fill-color);\n",
              "      border-right-color: var(--fill-color);\n",
              "    }\n",
              "    40% {\n",
              "      border-color: transparent;\n",
              "      border-right-color: var(--fill-color);\n",
              "      border-top-color: var(--fill-color);\n",
              "    }\n",
              "    60% {\n",
              "      border-color: transparent;\n",
              "      border-right-color: var(--fill-color);\n",
              "    }\n",
              "    80% {\n",
              "      border-color: transparent;\n",
              "      border-right-color: var(--fill-color);\n",
              "      border-bottom-color: var(--fill-color);\n",
              "    }\n",
              "    90% {\n",
              "      border-color: transparent;\n",
              "      border-bottom-color: var(--fill-color);\n",
              "    }\n",
              "  }\n",
              "</style>\n",
              "\n",
              "  <script>\n",
              "    async function quickchart(key) {\n",
              "      const quickchartButtonEl =\n",
              "        document.querySelector('#' + key + ' button');\n",
              "      quickchartButtonEl.disabled = true;  // To prevent multiple clicks.\n",
              "      quickchartButtonEl.classList.add('colab-df-spinner');\n",
              "      try {\n",
              "        const charts = await google.colab.kernel.invokeFunction(\n",
              "            'suggestCharts', [key], {});\n",
              "      } catch (error) {\n",
              "        console.error('Error during call to suggestCharts:', error);\n",
              "      }\n",
              "      quickchartButtonEl.classList.remove('colab-df-spinner');\n",
              "      quickchartButtonEl.classList.add('colab-df-quickchart-complete');\n",
              "    }\n",
              "    (() => {\n",
              "      let quickchartButtonEl =\n",
              "        document.querySelector('#df-6b730e9b-0836-4f43-902f-53f1bef5ccaf button');\n",
              "      quickchartButtonEl.style.display =\n",
              "        google.colab.kernel.accessAllowed ? 'block' : 'none';\n",
              "    })();\n",
              "  </script>\n",
              "</div>\n",
              "\n",
              "    </div>\n",
              "  </div>\n"
            ],
            "application/vnd.google.colaboratory.intrinsic+json": {
              "type": "dataframe",
              "variable_name": "adv",
              "summary": "{\n  \"name\": \"adv\",\n  \"rows\": 200,\n  \"fields\": [\n    {\n      \"column\": \"TV\",\n      \"properties\": {\n        \"dtype\": \"number\",\n        \"std\": 85.8542363149081,\n        \"min\": 0.7,\n        \"max\": 296.4,\n        \"num_unique_values\": 190,\n        \"samples\": [\n          287.6,\n          286.0,\n          78.2\n        ],\n        \"semantic_type\": \"\",\n        \"description\": \"\"\n      }\n    },\n    {\n      \"column\": \"Sales\",\n      \"properties\": {\n        \"dtype\": \"number\",\n        \"std\": 5.217456565710477,\n        \"min\": 1.6,\n        \"max\": 27.0,\n        \"num_unique_values\": 121,\n        \"samples\": [\n          11.4,\n          21.2,\n          12.9\n        ],\n        \"semantic_type\": \"\",\n        \"description\": \"\"\n      }\n    }\n  ]\n}"
            }
          },
          "metadata": {},
          "execution_count": 78
        }
      ],
      "source": [
        "adv.head()"
      ]
    },
    {
      "cell_type": "markdown",
      "metadata": {
        "id": "TDIh6aUEY0po"
      },
      "source": [
        "And plot it:"
      ]
    },
    {
      "cell_type": "code",
      "execution_count": 79,
      "metadata": {
        "colab": {
          "base_uri": "https://localhost:8080/",
          "height": 466
        },
        "id": "oqYGx-OUY0pp",
        "outputId": "37fec101-428c-4ecd-974c-3e45862ed4ce"
      },
      "outputs": [
        {
          "output_type": "execute_result",
          "data": {
            "text/plain": [
              "<Axes: xlabel='TV', ylabel='Sales'>"
            ]
          },
          "metadata": {},
          "execution_count": 79
        },
        {
          "output_type": "display_data",
          "data": {
            "text/plain": [
              "<Figure size 640x480 with 1 Axes>"
            ],
            "image/png": "[encoded data removed]"
          },
          "metadata": {}
        }
      ],
      "source": [
        "adv.plot(x='TV', y='Sales', kind='scatter', c='black')"
      ]
    },
    {
      "cell_type": "markdown",
      "metadata": {
        "id": "XDUDB3s-Y0pp"
      },
      "source": [
        "The fields `TV` and `Sales` have different units. Remember that in the week 2 assignment to make gradient descent algorithm efficient, you needed to normalize each of them: subtract the mean value of the array from each of the elements in the array and divide them by the standard deviation.\n",
        "\n",
        "Column-wise normalization of the dataset can be done for all of the fields at once and is implemented in the following code:"
      ]
    },
    {
      "cell_type": "code",
      "execution_count": 7,
      "metadata": {
        "colab": {
          "base_uri": "https://localhost:8080/"
        },
        "id": "hMp4rgIyY0pp",
        "outputId": "f870ca87-0c48-4d7d-b1c1-58347e9a1ebb"
      },
      "outputs": [
        {
          "output_type": "stream",
          "name": "stderr",
          "text": [
            "/usr/local/lib/python3.11/dist-packages/numpy/_core/fromnumeric.py:3800: FutureWarning: The behavior of DataFrame.std with axis=None is deprecated, in a future version this will reduce over both axes and return a scalar. To retain the old behavior, pass axis=0 (or do not pass axis)\n",
            "  return std(axis=axis, dtype=dtype, out=out, ddof=ddof, **kwargs)\n"
          ]
        }
      ],
      "source": [
        "adv_norm = (adv - np.mean(adv))/np.std(adv)\n",
        "# din't work properly anymore, use the normalize function below"
      ]
    },
    {
      "cell_type": "markdown",
      "metadata": {
        "id": "m6aFPQkYY0pp"
      },
      "source": [
        "Plotting the data, you can see that it looks similar after normalization, but the values on the axes have changed:"
      ]
    },
    {
      "cell_type": "code",
      "source": [
        "def normalize_df(df):\n",
        "    num_cols = df.shape[1]\n",
        "    df = df.copy()\n",
        "    for i in range(num_cols):\n",
        "        df.iloc[:,i] = (df.iloc[:,i] - np.mean(df.iloc[:,i]))/np.std(df.iloc[:,i])\n",
        "    return df\n",
        "\n",
        "adv_norm = normalize_df(adv)\n",
        "adv_norm.plot(x='TV', y='Sales', kind='scatter', c='black')"
      ],
      "metadata": {
        "colab": {
          "base_uri": "https://localhost:8080/",
          "height": 466
        },
        "id": "Wq786RvQj7AF",
        "outputId": "fde323c8-2a9f-434a-ca21-f637c416a020"
      },
      "execution_count": 81,
      "outputs": [
        {
          "output_type": "execute_result",
          "data": {
            "text/plain": [
              "<Axes: xlabel='TV', ylabel='Sales'>"
            ]
          },
          "metadata": {},
          "execution_count": 81
        },
        {
          "output_type": "display_data",
          "data": {
            "text/plain": [
              "<Figure size 640x480 with 1 Axes>"
            ],
            "image/png": "[encoded data removed]"
          },
          "metadata": {}
        }
      ]
    },
    {
      "cell_type": "markdown",
      "metadata": {
        "id": "fv2mC7zVY0pq"
      },
      "source": [
        "Save the fields into variables `X_norm` and `Y_norm` and reshape them to row vectors:"
      ]
    },
    {
      "cell_type": "code",
      "execution_count": 82,
      "metadata": {
        "colab": {
          "base_uri": "https://localhost:8080/"
        },
        "id": "DD9Px5FtY0pq",
        "outputId": "95ba0e45-925c-439a-d3fa-9522f0ecf281"
      },
      "outputs": [
        {
          "output_type": "stream",
          "name": "stdout",
          "text": [
            "The shape of X_norm: (1, 200)\n",
            "The shape of Y_norm: (1, 200)\n",
            "I have m = 200 training examples!\n"
          ]
        }
      ],
      "source": [
        "X_norm = adv_norm['TV']\n",
        "Y_norm = adv_norm['Sales']\n",
        "\n",
        "X_norm = np.array(X_norm).reshape((1, len(X_norm)))\n",
        "Y_norm = np.array(Y_norm).reshape((1, len(Y_norm)))\n",
        "\n",
        "print ('The shape of X_norm: ' + str(X_norm.shape))\n",
        "print ('The shape of Y_norm: ' + str(Y_norm.shape))\n",
        "print ('I have m = %d training examples!' % (X_norm.shape[1]))"
      ]
    },
    {
      "cell_type": "markdown",
      "metadata": {
        "id": "rQg6jNfmY0pq"
      },
      "source": [
        "<a name='2'></a>\n",
        "## 2 - Implementation of the Neural Network Model for Linear Regression\n",
        "\n",
        "Setup the neural network in a way which will allow to extend this simple case of a model with a single perceptron and one input node to more complicated structures later."
      ]
    },
    {
      "cell_type": "markdown",
      "metadata": {
        "id": "fIsWw_w9Y0pq"
      },
      "source": [
        "<a name='2.1'></a>\n",
        "### 2.1 - Defining the Neural Network Structure"
      ]
    },
    {
      "cell_type": "markdown",
      "metadata": {
        "id": "6TQ0Hly3Y0pq"
      },
      "source": [
        "Define two variables:\n",
        "- `n_x`: the size of the input layer\n",
        "- `n_y`: the size of the output layer\n",
        "\n",
        "using shapes of arrays `X` and `Y`."
      ]
    },
    {
      "cell_type": "code",
      "execution_count": 83,
      "metadata": {
        "tags": [
          "graded"
        ],
        "colab": {
          "base_uri": "https://localhost:8080/"
        },
        "id": "rqAryRhRY0pq",
        "outputId": "ad4b54eb-b7da-4577-de4c-a1a9d111ab4c"
      },
      "outputs": [
        {
          "output_type": "stream",
          "name": "stdout",
          "text": [
            "The size of the input layer is: n_x = 1\n",
            "The size of the output layer is: n_y = 1\n"
          ]
        }
      ],
      "source": [
        "def layer_sizes(X, Y):\n",
        "    \"\"\"\n",
        "    Arguments:\n",
        "    X -- input dataset of shape (input size, number of examples)\n",
        "    Y -- labels of shape (output size, number of examples)\n",
        "\n",
        "    Returns:\n",
        "    n_x -- the size of the input layer\n",
        "    n_y -- the size of the output layer\n",
        "    \"\"\"\n",
        "    n_x = X.shape[0]\n",
        "    n_y = Y.shape[0]\n",
        "\n",
        "    return (n_x, n_y)\n",
        "\n",
        "(n_x, n_y) = layer_sizes(X_norm, Y_norm)\n",
        "print(\"The size of the input layer is: n_x = \" + str(n_x))\n",
        "print(\"The size of the output layer is: n_y = \" + str(n_y))"
      ]
    },
    {
      "cell_type": "markdown",
      "metadata": {
        "id": "pyUxh4csY0pq"
      },
      "source": [
        "<a name='2.2'></a>\n",
        "### 2.2 - Initialize the Model's Parameters"
      ]
    },
    {
      "cell_type": "markdown",
      "metadata": {
        "id": "jQPRwKINY0pr"
      },
      "source": [
        "Implement the function `initialize_parameters()`, initializing the weights array of shape $(n_y \\times n_x) = (1 \\times 1)$ with random values and the bias vector of shape $(n_y \\times 1) = (1 \\times 1)$ with zeros."
      ]
    },
    {
      "cell_type": "code",
      "execution_count": 84,
      "metadata": {
        "tags": [
          "graded"
        ],
        "colab": {
          "base_uri": "https://localhost:8080/"
        },
        "id": "4nR18E_gY0pr",
        "outputId": "6b7f6c01-8eb7-4a63-cef8-fc75f6eb9278"
      },
      "outputs": [
        {
          "output_type": "stream",
          "name": "stdout",
          "text": [
            "W = [[0.00050034]]\n",
            "b = [[0.]]\n"
          ]
        }
      ],
      "source": [
        "def initialize_parameters(n_x, n_y):\n",
        "    \"\"\"\n",
        "    Returns:\n",
        "    params -- python dictionary containing your parameters:\n",
        "                    W -- weight matrix of shape (n_y, n_x)\n",
        "                    b -- bias value set as a vector of shape (n_y, 1)\n",
        "    \"\"\"\n",
        "\n",
        "    W = np.random.randn(n_y, n_x) * 0.01\n",
        "    b = np.zeros((n_y, 1))\n",
        "\n",
        "    parameters = {\"W\": W,\n",
        "                  \"b\": b}\n",
        "\n",
        "    return parameters\n",
        "\n",
        "parameters = initialize_parameters(n_x, n_y)\n",
        "print(\"W = \" + str(parameters[\"W\"]))\n",
        "print(\"b = \" + str(parameters[\"b\"]))"
      ]
    },
    {
      "cell_type": "markdown",
      "metadata": {
        "id": "Rc5PZZfBY0pr"
      },
      "source": [
        "<a name='2.3'></a>\n",
        "### 2.3 - The Loop"
      ]
    },
    {
      "cell_type": "markdown",
      "metadata": {
        "id": "6HHnmBbHY0pr"
      },
      "source": [
        "Implement `forward_propagation()` following the equation $(3)$ in the section [1.2](#1.2):\n",
        "\\begin{align}\n",
        "Z &=  w X + b\\\\\n",
        "\\hat{Y} &= Z,\n",
        "\\end{align}"
      ]
    },
    {
      "cell_type": "code",
      "execution_count": 85,
      "metadata": {
        "tags": [
          "graded"
        ],
        "colab": {
          "base_uri": "https://localhost:8080/"
        },
        "id": "MfegZ7q6Y0pr",
        "outputId": "c990b6b9-fa01-4ebf-9032-2fa4baadbe04"
      },
      "outputs": [
        {
          "output_type": "stream",
          "name": "stdout",
          "text": [
            "Some elements of output vector Y_hat: [ 4.85252413e-04 -5.99090937e-04 -7.58587561e-04  2.60423517e-05\n",
            "  1.97223710e-04]\n"
          ]
        }
      ],
      "source": [
        "def forward_propagation(X, parameters):\n",
        "    \"\"\"\n",
        "    Argument:\n",
        "    X -- input data of size (n_x, m)\n",
        "    parameters -- python dictionary containing your parameters (output of initialization function)\n",
        "\n",
        "    Returns:\n",
        "    Y_hat -- The output\n",
        "    \"\"\"\n",
        "    W = parameters[\"W\"]\n",
        "    b = parameters[\"b\"]\n",
        "\n",
        "    # Forward Propagation to calculate Z.\n",
        "    Z = np.matmul(W, X) + b\n",
        "    Y_hat = Z\n",
        "\n",
        "    return Y_hat\n",
        "\n",
        "Y_hat = forward_propagation(X_norm, parameters)\n",
        "\n",
        "print(\"Some elements of output vector Y_hat:\", Y_hat[0, 0:5])"
      ]
    },
    {
      "cell_type": "markdown",
      "metadata": {
        "id": "8q6uJGUKY0pr"
      },
      "source": [
        "Your weights were just initialized with some random values, so the model has not been trained yet.\n",
        "\n",
        "Define a cost function $(4)$ which will be used to train the model:\n",
        "\n",
        "$$\\mathcal{L}\\left(w, b\\right)  = \\frac{1}{2m}\\sum_{i=1}^{m} \\left(\\hat{y}^{(i)} - y^{(i)}\\right)^2$$"
      ]
    },
    {
      "cell_type": "code",
      "execution_count": 86,
      "metadata": {
        "tags": [
          "graded"
        ],
        "colab": {
          "base_uri": "https://localhost:8080/"
        },
        "id": "UcRVvDpoY0ps",
        "outputId": "7e3fccdd-a9c2-4586-b7d1-e295fe89c3fd"
      },
      "outputs": [
        {
          "output_type": "stream",
          "name": "stdout",
          "text": [
            "cost = 0.4996087497985124\n"
          ]
        }
      ],
      "source": [
        "def compute_cost(Y_hat, Y):\n",
        "    \"\"\"\n",
        "    Computes the cost function as a sum of squares\n",
        "\n",
        "    Arguments:\n",
        "    Y_hat -- The output of the neural network of shape (n_y, number of examples)\n",
        "    Y -- \"true\" labels vector of shape (n_y, number of examples)\n",
        "\n",
        "    Returns:\n",
        "    cost -- sum of squares scaled by 1/(2*number of examples)\n",
        "\n",
        "    \"\"\"\n",
        "    # Number of examples.\n",
        "    m = Y_hat.shape[1]\n",
        "\n",
        "    # Compute the cost function.\n",
        "    cost = np.sum((Y_hat - Y)**2)/(2*m)\n",
        "\n",
        "    return cost\n",
        "\n",
        "print(\"cost = \" + str(compute_cost(Y_hat, Y_norm)))"
      ]
    },
    {
      "cell_type": "markdown",
      "metadata": {
        "tags": [
          "graded"
        ],
        "id": "5ypoIDlNY0ps"
      },
      "source": [
        "Calculate partial derivatives as shown in $(5)$:\n",
        "\n",
        "\\begin{align}\n",
        "\\frac{\\partial \\mathcal{L} }{ \\partial w } &=\n",
        "\\frac{1}{m}\\sum_{i=1}^{m} \\left(\\hat{y}^{(i)} - y^{(i)}\\right)x^{(i)},\\\\\n",
        "\\frac{\\partial \\mathcal{L} }{ \\partial b } &=\n",
        "\\frac{1}{m}\\sum_{i=1}^{m} \\left(\\hat{y}^{(i)} - y^{(i)}\\right).\n",
        "\\end{align}"
      ]
    },
    {
      "cell_type": "code",
      "execution_count": 87,
      "metadata": {
        "colab": {
          "base_uri": "https://localhost:8080/"
        },
        "id": "6pPXQlVKY0ps",
        "outputId": "f0f1d377-bbe4-45cd-d642-b4255bedf170"
      },
      "outputs": [
        {
          "output_type": "stream",
          "name": "stdout",
          "text": [
            "dW = [[-0.78172409]]\n",
            "db = [[1.73194792e-16]]\n"
          ]
        }
      ],
      "source": [
        "def backward_propagation(Y_hat, X, Y):\n",
        "    \"\"\"\n",
        "    Implements the backward propagation, calculating gradients\n",
        "\n",
        "    Arguments:\n",
        "    Y_hat -- the output of the neural network of shape (n_y, number of examples)\n",
        "    X -- input data of shape (n_x, number of examples)\n",
        "    Y -- \"true\" labels vector of shape (n_y, number of examples)\n",
        "\n",
        "    Returns:\n",
        "    grads -- python dictionary containing gradients with respect to different parameters\n",
        "    \"\"\"\n",
        "    m = X.shape[1]\n",
        "\n",
        "    # Backward propagation: calculate partial derivatives denoted as dW, db for simplicity.\n",
        "    dZ = Y_hat - Y\n",
        "    dW = 1/m * np.dot(dZ, X.T)\n",
        "    db = 1/m * np.sum(dZ, axis = 1, keepdims = True)\n",
        "\n",
        "    grads = {\"dW\": dW,\n",
        "             \"db\": db}\n",
        "\n",
        "    return grads\n",
        "\n",
        "grads = backward_propagation(Y_hat, X_norm, Y_norm)\n",
        "\n",
        "print(\"dW = \" + str(grads[\"dW\"]))\n",
        "print(\"db = \" + str(grads[\"db\"]))"
      ]
    },
    {
      "cell_type": "markdown",
      "metadata": {
        "id": "wAFNZwB2Y0ps"
      },
      "source": [
        "Update parameters as shown in $(6)$:\n",
        "\n",
        "\\begin{align}\n",
        "w &= w - \\alpha \\frac{\\partial \\mathcal{L} }{ \\partial w },\\\\\n",
        "b &= b - \\alpha \\frac{\\partial \\mathcal{L} }{ \\partial b }.\n",
        "\\end{align}\n"
      ]
    },
    {
      "cell_type": "code",
      "execution_count": 88,
      "metadata": {
        "colab": {
          "base_uri": "https://localhost:8080/"
        },
        "id": "-P3hag1nY0pt",
        "outputId": "d9e106e1-18b1-4e84-a8da-5e8d8d728a34"
      },
      "outputs": [
        {
          "output_type": "stream",
          "name": "stdout",
          "text": [
            "W updated = [[0.93856924]]\n",
            "b updated = [[-2.0783375e-16]]\n"
          ]
        }
      ],
      "source": [
        "def update_parameters(parameters, grads, learning_rate=1.2):\n",
        "    \"\"\"\n",
        "    Updates parameters using the gradient descent update rule\n",
        "\n",
        "    Arguments:\n",
        "    parameters -- python dictionary containing parameters\n",
        "    grads -- python dictionary containing gradients\n",
        "    learning_rate -- learning rate parameter for gradient descent\n",
        "\n",
        "    Returns:\n",
        "    parameters -- python dictionary containing updated parameters\n",
        "    \"\"\"\n",
        "    # Retrieve each parameter from the dictionary \"parameters\".\n",
        "    W = parameters[\"W\"]\n",
        "    b = parameters[\"b\"]\n",
        "\n",
        "    # Retrieve each gradient from the dictionary \"grads\".\n",
        "    dW = grads[\"dW\"]\n",
        "    db = grads[\"db\"]\n",
        "\n",
        "    # Update rule for each parameter.\n",
        "    W = W - learning_rate * dW\n",
        "    b = b - learning_rate * db\n",
        "\n",
        "    parameters = {\"W\": W,\n",
        "                  \"b\": b}\n",
        "\n",
        "    return parameters\n",
        "\n",
        "parameters_updated = update_parameters(parameters, grads)\n",
        "\n",
        "print(\"W updated = \" + str(parameters_updated[\"W\"]))\n",
        "print(\"b updated = \" + str(parameters_updated[\"b\"]))"
      ]
    },
    {
      "cell_type": "markdown",
      "metadata": {
        "id": "nm15hZN6Y0pt"
      },
      "source": [
        "<a name='2.4'></a>\n",
        "### 2.4 - Integrate parts 2.1, 2.2 and 2.3 in nn_model() and make predictions"
      ]
    },
    {
      "cell_type": "markdown",
      "metadata": {
        "id": "S50tIBVhY0pt"
      },
      "source": [
        "Build your neural network model in `nn_model()`."
      ]
    },
    {
      "cell_type": "code",
      "execution_count": 89,
      "metadata": {
        "tags": [
          "graded"
        ],
        "id": "Wx8mYyT6Y0py"
      },
      "outputs": [],
      "source": [
        "def nn_model(X, Y, num_iterations=10, learning_rate=1.2, print_cost=False):\n",
        "    \"\"\"\n",
        "    Arguments:\n",
        "    X -- dataset of shape (n_x, number of examples)\n",
        "    Y -- labels of shape (n_y, number of examples)\n",
        "    num_iterations -- number of iterations in the loop\n",
        "    learning_rate -- learning rate parameter for gradient descent\n",
        "    print_cost -- if True, print the cost every iteration\n",
        "\n",
        "    Returns:\n",
        "    parameters -- parameters learnt by the model. They can then be used to make predictions.\n",
        "    \"\"\"\n",
        "\n",
        "    n_x = layer_sizes(X, Y)[0]\n",
        "    n_y = layer_sizes(X, Y)[1]\n",
        "\n",
        "    parameters = initialize_parameters(n_x, n_y)\n",
        "\n",
        "    # Loop\n",
        "    for i in range(0, num_iterations):\n",
        "\n",
        "        # Forward propagation. Inputs: \"X, parameters\". Outputs: \"Y_hat\".\n",
        "        Y_hat = forward_propagation(X, parameters)\n",
        "\n",
        "        # Cost function. Inputs: \"Y_hat, Y\". Outputs: \"cost\".\n",
        "        cost = compute_cost(Y_hat, Y)\n",
        "\n",
        "        # Backpropagation. Inputs: \"Y_hat, X, Y\". Outputs: \"grads\".\n",
        "        grads = backward_propagation(Y_hat, X, Y)\n",
        "\n",
        "        # Gradient descent parameter update. Inputs: \"parameters, grads, learning_rate\". Outputs: \"parameters\".\n",
        "        parameters = update_parameters(parameters, grads, learning_rate)\n",
        "\n",
        "        # Print the cost every iteration.\n",
        "        if print_cost:\n",
        "            print (\"Cost after iteration %i: %f\" %(i, cost))\n",
        "\n",
        "    return parameters"
      ]
    },
    {
      "cell_type": "code",
      "execution_count": 90,
      "metadata": {
        "tags": [
          "graded"
        ],
        "colab": {
          "base_uri": "https://localhost:8080/"
        },
        "id": "_v-LbioQY0py",
        "outputId": "1548cc9d-c03d-4086-fa5e-24ce543a8219"
      },
      "outputs": [
        {
          "output_type": "stream",
          "name": "stdout",
          "text": [
            "Cost after iteration 0: 0.503174\n",
            "Cost after iteration 1: 0.206427\n",
            "Cost after iteration 2: 0.194557\n",
            "Cost after iteration 3: 0.194082\n",
            "Cost after iteration 4: 0.194063\n",
            "Cost after iteration 5: 0.194063\n",
            "Cost after iteration 6: 0.194062\n",
            "Cost after iteration 7: 0.194062\n",
            "Cost after iteration 8: 0.194062\n",
            "Cost after iteration 9: 0.194062\n",
            "Cost after iteration 10: 0.194062\n",
            "Cost after iteration 11: 0.194062\n",
            "Cost after iteration 12: 0.194062\n",
            "Cost after iteration 13: 0.194062\n",
            "Cost after iteration 14: 0.194062\n",
            "Cost after iteration 15: 0.194062\n",
            "Cost after iteration 16: 0.194062\n",
            "Cost after iteration 17: 0.194062\n",
            "Cost after iteration 18: 0.194062\n",
            "Cost after iteration 19: 0.194062\n",
            "Cost after iteration 20: 0.194062\n",
            "Cost after iteration 21: 0.194062\n",
            "Cost after iteration 22: 0.194062\n",
            "Cost after iteration 23: 0.194062\n",
            "Cost after iteration 24: 0.194062\n",
            "Cost after iteration 25: 0.194062\n",
            "Cost after iteration 26: 0.194062\n",
            "Cost after iteration 27: 0.194062\n",
            "Cost after iteration 28: 0.194062\n",
            "Cost after iteration 29: 0.194062\n",
            "W = [[0.78222442]]\n",
            "b = [[-3.0908609e-16]]\n"
          ]
        }
      ],
      "source": [
        "parameters_simple = nn_model(X_norm, Y_norm, num_iterations=30, learning_rate=1.2, print_cost=True)\n",
        "print(\"W = \" + str(parameters_simple[\"W\"]))\n",
        "print(\"b = \" + str(parameters_simple[\"b\"]))"
      ]
    },
    {
      "cell_type": "markdown",
      "metadata": {
        "id": "Y4Vr6R-qY0pz"
      },
      "source": [
        "You can see that after a few iterations the cost function does not change anymore (the model converges).\n",
        "\n",
        "*Note*: This is a very simple model. In reality the models do not converge that quickly.\n",
        "\n",
        "The final model parameters can be used for making predictions, but don't forget about normalization and denormalization."
      ]
    },
    {
      "cell_type": "code",
      "execution_count": 167,
      "metadata": {
        "tags": [
          "graded"
        ],
        "colab": {
          "base_uri": "https://localhost:8080/"
        },
        "id": "8L7fpzyDY0pz",
        "outputId": "3b984800-bad7-4f37-b265-66a28bc4d272"
      },
      "outputs": [
        {
          "output_type": "stream",
          "name": "stdout",
          "text": [
            "TV marketing expenses:\n",
            "[ 50 120 280]\n",
            "Predictions of sales:\n",
            "[ 9.40942557 12.7369904  20.34285287]\n"
          ]
        }
      ],
      "source": [
        "def predict(X, Y, parameters, X_pred):\n",
        "\n",
        "    # Retrieve each parameter from the dictionary \"parameters\".\n",
        "    W = parameters[\"W\"]\n",
        "    b = parameters[\"b\"]\n",
        "\n",
        "    # Use the same mean and standard deviation of the original training array X.\n",
        "    if isinstance(X, pd.Series):\n",
        "        X_mean = np.mean(X)\n",
        "        X_std = np.std(X)\n",
        "        X_pred_norm = ((X_pred - X_mean)/X_std).reshape((1, len(X_pred)))\n",
        "    else:\n",
        "        n_X = X.shape[1]\n",
        "        X_mean = np.mean(X, axis=0).to_numpy().reshape((n_X, 1))\n",
        "        X_std = np.std(X, axis=0).to_numpy().reshape((n_X, 1))\n",
        "        X_pred_norm = ((X_pred - X_mean)/X_std)\n",
        "    # Make predictions.\n",
        "    Y_pred_norm = np.matmul(W, X_pred_norm) + b\n",
        "    # Use the same mean and standard deviation of the original training array Y.\n",
        "    Y_pred = Y_pred_norm * np.std(Y) + np.mean(Y)\n",
        "\n",
        "    return Y_pred[0]\n",
        "\n",
        "X_pred = np.array([50, 120, 280])\n",
        "Y_pred = predict(adv[\"TV\"], adv[\"Sales\"], parameters_simple, X_pred)\n",
        "print(f\"TV marketing expenses:\\n{X_pred}\")\n",
        "print(f\"Predictions of sales:\\n{Y_pred}\")"
      ]
    },
    {
      "cell_type": "markdown",
      "metadata": {
        "id": "l63czMlBY0pz"
      },
      "source": [
        "Let's plot the linear regression line and some predictions. The regression line is red and the predicted points are blue."
      ]
    },
    {
      "cell_type": "code",
      "execution_count": 103,
      "metadata": {
        "colab": {
          "base_uri": "https://localhost:8080/",
          "height": 449
        },
        "id": "fK4wNP3YY0pz",
        "outputId": "04268265-3113-483e-cf04-a205ce12cd62"
      },
      "outputs": [
        {
          "output_type": "display_data",
          "data": {
            "text/plain": [
              "<Figure size 640x480 with 1 Axes>"
            ],
            "image/png": "[encoded data removed]"
          },
          "metadata": {}
        }
      ],
      "source": [
        "fig, ax = plt.subplots()\n",
        "plt.scatter(adv[\"TV\"], adv[\"Sales\"], color=\"black\")\n",
        "\n",
        "plt.xlabel(\"$x$\")\n",
        "plt.ylabel(\"$y$\")\n",
        "\n",
        "X_line = np.arange(np.min(adv[\"TV\"]),np.max(adv[\"TV\"])*1.1, 0.1)\n",
        "Y_line = predict(adv[\"TV\"], adv[\"Sales\"], parameters_simple, X_line)\n",
        "ax.plot(X_line, Y_line, \"r\")\n",
        "ax.plot(X_pred, Y_pred, \"bo\")\n",
        "plt.plot()\n",
        "plt.show()"
      ]
    },
    {
      "cell_type": "markdown",
      "metadata": {
        "id": "Dn-1PkmkY0pz"
      },
      "source": [
        "Now let's increase the number of the input nodes to build a multiple linear regression model."
      ]
    },
    {
      "cell_type": "markdown",
      "metadata": {
        "id": "_skKvgDcY0p0"
      },
      "source": [
        "<a name='3'></a>\n",
        "## 3 - Multiple Linear Regression"
      ]
    },
    {
      "cell_type": "markdown",
      "metadata": {
        "id": "sjsKLl0xY0p0"
      },
      "source": [
        "<a name='3.1'></a>\n",
        "### 3.1 - Multipe Linear Regression Model\n",
        "\n",
        "You can write a multiple linear regression model with two independent variables $x_1$, $x_2$ as\n",
        "\n",
        "$$\\hat{y} = w_1x_1 + w_2x_2 + b = Wx + b,\\tag{7}$$\n",
        "\n",
        "where $Wx$ is the dot product of the input vector $x = \\begin{bmatrix} x_1 & x_2\\end{bmatrix}$ and the parameters vector $W = \\begin{bmatrix} w_1 & w_2\\end{bmatrix}$, scalar parameter $b$ is the intercept. The goal of the training process is to find the \"best\" parameters $w_1$, $w_2$ and $b$ such that the differences between original values $y_i$ and predicted values $\\hat{y}_i$ are minimum for the given training examples."
      ]
    },
    {
      "cell_type": "markdown",
      "metadata": {
        "id": "D-3URGnEY0p0"
      },
      "source": [
        "<a name='3.2'></a>\n",
        "### 3.2 - Neural Network Model with a Single Perceptron and Two Input Nodes\n",
        "\n",
        "To describe the multiple regression problem, you can still use a model with one perceptron, but this time you need two input nodes, as shown in the following scheme:\n",
        "\n",
        "<img src=\"images/nn_model_linear_regression_multiple.png\" style=\"width:420px;\">\n",
        "\n",
        "The perceptron output calculation for every training example $x^{(i)} = \\begin{bmatrix} x_1^{(i)} & x_2^{(i)}\\end{bmatrix}$ can be written with dot product:\n",
        "\n",
        "$$z^{(i)} = w_1x_1^{(i)} + w_2x_2^{(i)} + b = Wx^{(i)} + b,\\tag{8}$$\n",
        "\n",
        "where weights are in the vector $W = \\begin{bmatrix} w_1 & w_2\\end{bmatrix}$ and bias $b$ is a scalar. The output layer will have the same single node $\\hat{y} = z$.\n",
        "\n",
        "Organise all training examples in a matrix $X$ of a shape ($2 \\times m$), putting $x_1^{(i)}$ and $x_2^{(i)}$ into columns. Then matrix multiplication of $W$ ($1 \\times 2$) and $X$ ($2 \\times m$) will give a ($1 \\times m$) vector\n",
        "\n",
        "$$WX =\n",
        "\\begin{bmatrix} w_1 & w_2\\end{bmatrix}\n",
        "\\begin{bmatrix}\n",
        "x_1^{(1)} & x_1^{(2)} & \\dots & x_1^{(m)} \\\\\n",
        "x_2^{(1)} & x_2^{(2)} & \\dots & x_2^{(m)} \\\\ \\end{bmatrix}\n",
        "=\\begin{bmatrix}\n",
        "w_1x_1^{(1)} + w_2x_2^{(1)} &\n",
        "w_1x_1^{(2)} + w_2x_2^{(2)} & \\dots &\n",
        "w_1x_1^{(m)} + w_2x_2^{(m)}\\end{bmatrix}.$$\n",
        "\n",
        "And the model can be written as\n",
        "\n",
        "\\begin{align}\n",
        "Z &=  W X + b,\\\\\n",
        "\\hat{Y} &= Z,\n",
        "\\tag{9}\\end{align}\n",
        "\n",
        "where $b$ is broadcasted to the vector of size ($1 \\times m$). These are the calculations to perform in the forward propagation step. Cost function will remain the same (see equation $(4)$ in the section [1.2](#1.2)):\n",
        "\n",
        "$$\\mathcal{L}\\left(w, b\\right)  = \\frac{1}{2m}\\sum_{i=1}^{m} \\left(\\hat{y}^{(i)} - y^{(i)}\\right)^2.$$"
      ]
    },
    {
      "cell_type": "markdown",
      "metadata": {
        "id": "vXgboDpOY0p0"
      },
      "source": [
        "To implement the gradient descent algorithm, you can calculate cost function partial derivatives as:\n",
        "\n",
        "\\begin{align}\n",
        "\\frac{\\partial \\mathcal{L} }{ \\partial w_1 } &=\n",
        "\\frac{1}{m}\\sum_{i=1}^{m} \\left(\\hat{y}^{(i)} - y^{(i)}\\right)x_1^{(i)},\\\\\n",
        "\\frac{\\partial \\mathcal{L} }{ \\partial w_2 } &=\n",
        "\\frac{1}{m}\\sum_{i=1}^{m} \\left(\\hat{y}^{(i)} - y^{(i)}\\right)x_2^{(i)},\\tag{10}\\\\\n",
        "\\frac{\\partial \\mathcal{L} }{ \\partial b } &=\n",
        "\\frac{1}{m}\\sum_{i=1}^{m} \\left(\\hat{y}^{(i)} - y^{(i)}\\right).\n",
        "\\end{align}\n",
        "\n",
        "After performing the forward propagation as shown in $(9)$, the variable $\\hat{Y}$ will contain the predictions in the array of size ($1 \\times m$). The original values $y^{(i)}$ will be kept in the array $Y$ of the same size. Thus, $\\left(\\hat{Y} - Y\\right)$ will be a ($1 \\times m$) array containing differences $\\left(\\hat{y}^{(i)} - y^{(i)}\\right)$. Matrix $X$ of size ($2 \\times m$) has all $x_1^{(i)}$ values in the first row and $x_2^{(i)}$ in the second row. Thus, the sums in the first two equations of $(10)$ can be calculated as matrix multiplication of $\\left(\\hat{Y} - Y\\right)$ of a shape ($1 \\times m$) and $X^T$ of a shape ($m \\times 2$), resulting in the ($1 \\times 2$) array:\n",
        "\n",
        "$$\\frac{\\partial \\mathcal{L} }{ \\partial W } =\n",
        "\\begin{bmatrix} \\frac{\\partial \\mathcal{L} }{ \\partial w_1 } &\n",
        "\\frac{\\partial \\mathcal{L} }{ \\partial w_2 }\\end{bmatrix} = \\frac{1}{m}\\left(\\hat{Y} - Y\\right)X^T.\\tag{11}$$\n",
        "\n",
        "Similarly for $\\frac{\\partial \\mathcal{L} }{ \\partial b }$:\n",
        "\n",
        "$$\\frac{\\partial \\mathcal{L} }{ \\partial b } = \\frac{1}{m}\\left(\\hat{Y} - Y\\right)\\mathbf{1}.\\tag{12}$$\n",
        "\n",
        "where $\\mathbf{1}$ is just a ($m \\times 1$) vector of ones.\n",
        "\n",
        "\n",
        "See how linear algebra and calculus work together to make calculations so nice and tidy! You can now update the parameters using matrix form of $W$:\n",
        "\n",
        "\\begin{align}\n",
        "W &= W - \\alpha \\frac{\\partial \\mathcal{L} }{ \\partial W },\\\\\n",
        "b &= b - \\alpha \\frac{\\partial \\mathcal{L} }{ \\partial b },\n",
        "\\tag{13}\\end{align}\n",
        "\n",
        "where $\\alpha$ is a learning rate. Repeat the process in a loop until the cost function stops decreasing."
      ]
    },
    {
      "cell_type": "markdown",
      "metadata": {
        "id": "fsdE1XAFY0p0"
      },
      "source": [
        "<a name='3.3'></a>\n",
        "### 3.3 - Dataset\n",
        "\n",
        "Let's build a linear regression model for a Kaggle dataset [House Prices](https://www.kaggle.com/c/house-prices-advanced-regression-techniques), saved in a file `data/house_prices_train.csv`. You will use two fields - ground living area (`GrLivArea`, square feet) and rates of the overall quality of material and finish (`OverallQual`, 1-10) to predict sales price (`SalePrice`, dollars).\n",
        "\n",
        "To open the dataset you can use `pandas` function `read_csv`:"
      ]
    },
    {
      "cell_type": "code",
      "execution_count": 104,
      "metadata": {
        "id": "lhwXj5F-Y0p1"
      },
      "outputs": [],
      "source": [
        "df = pd.read_csv('data/house_prices_train.csv')"
      ]
    },
    {
      "cell_type": "markdown",
      "metadata": {
        "id": "I68n9Z-sY0p1"
      },
      "source": [
        "Select the required fields and save them in the variables `X_multi`, `Y_multi`:"
      ]
    },
    {
      "cell_type": "code",
      "execution_count": 105,
      "metadata": {
        "id": "tDkbuu0YY0p1"
      },
      "outputs": [],
      "source": [
        "X_multi = df[['GrLivArea', 'OverallQual']]\n",
        "Y_multi = df['SalePrice']"
      ]
    },
    {
      "cell_type": "markdown",
      "metadata": {
        "id": "tbFxyF7NY0p2"
      },
      "source": [
        "Preview the data:"
      ]
    },
    {
      "cell_type": "code",
      "execution_count": 126,
      "metadata": {
        "scrolled": false,
        "id": "0SUcLwqMY0p2",
        "colab": {
          "base_uri": "https://localhost:8080/"
        },
        "outputId": "26fa51df-1ad7-4907-e159-c2b74b32b75c"
      },
      "outputs": [
        {
          "output_type": "stream",
          "name": "stdout",
          "text": [
            "X:\n",
            "          GrLivArea  OverallQual\n",
            "count  1460.000000  1460.000000\n",
            "mean   1515.463699     6.099315\n",
            "std     525.480383     1.382997\n",
            "min     334.000000     1.000000\n",
            "25%    1129.500000     5.000000\n",
            "50%    1464.000000     6.000000\n",
            "75%    1776.750000     7.000000\n",
            "max    5642.000000    10.000000\n",
            "Y:\n",
            " count      1460.000000\n",
            "mean     180921.195890\n",
            "std       79442.502883\n",
            "min       34900.000000\n",
            "25%      129975.000000\n",
            "50%      163000.000000\n",
            "75%      214000.000000\n",
            "max      755000.000000\n",
            "Name: SalePrice, dtype: float64\n"
          ]
        }
      ],
      "source": [
        "print(\"X:\\n\", X_multi.describe())\n",
        "print(\"Y:\\n\", Y_multi.describe())"
      ]
    },
    {
      "cell_type": "markdown",
      "metadata": {
        "id": "yndbymWkY0p3"
      },
      "source": [
        "Normalize the data:"
      ]
    },
    {
      "cell_type": "code",
      "execution_count": 121,
      "metadata": {
        "id": "cKkpQRnsY0p3"
      },
      "outputs": [],
      "source": [
        "X_multi_norm = (X_multi - X_multi.mean())/X_multi.std()\n",
        "Y_multi_norm = (Y_multi - Y_multi.mean())/Y_multi.std()"
      ]
    },
    {
      "cell_type": "code",
      "source": [
        "print(\"X:\\n\", X_multi_norm.describe())\n",
        "print(\"Y:\\n\", Y_multi_norm.describe())"
      ],
      "metadata": {
        "colab": {
          "base_uri": "https://localhost:8080/"
        },
        "id": "W3x6eVsm4FUB",
        "outputId": "7d37eeae-d623-4345-8c03-4a2f7f3db12e"
      },
      "execution_count": 127,
      "outputs": [
        {
          "output_type": "stream",
          "name": "stdout",
          "text": [
            "X:\n",
            "           GrLivArea   OverallQual\n",
            "count  1.460000e+03  1.460000e+03\n",
            "mean  -1.411352e-16  9.976799e-17\n",
            "std    1.000000e+00  1.000000e+00\n",
            "min   -2.248350e+00 -3.687150e+00\n",
            "25%   -7.344969e-01 -7.948791e-01\n",
            "50%   -9.793648e-02 -7.181151e-02\n",
            "75%    4.972332e-01  6.512561e-01\n",
            "max    7.852884e+00  2.820459e+00\n",
            "Y:\n",
            " count    1.460000e+03\n",
            "mean     1.314017e-16\n",
            "std      1.000000e+00\n",
            "min     -1.838074e+00\n",
            "25%     -6.412965e-01\n",
            "50%     -2.255870e-01\n",
            "75%      4.163867e-01\n",
            "max      7.226343e+00\n",
            "Name: SalePrice, dtype: float64\n"
          ]
        }
      ]
    },
    {
      "cell_type": "markdown",
      "metadata": {
        "id": "fhUqovKSY0p3"
      },
      "source": [
        "Convert results to the `NumPy` arrays, transpose `X_multi_norm` to get an array of a shape ($2 \\times m$) and reshape `Y_multi_norm` to bring it to the shape ($1 \\times m$):"
      ]
    },
    {
      "cell_type": "code",
      "execution_count": 128,
      "metadata": {
        "id": "nyVjIKrcY0p4",
        "colab": {
          "base_uri": "https://localhost:8080/"
        },
        "outputId": "cfc0aded-019e-4b49-f75e-9a2d14f43bd2"
      },
      "outputs": [
        {
          "output_type": "stream",
          "name": "stdout",
          "text": [
            "The shape of X: (2, 1460)\n",
            "The shape of Y: (1, 1460)\n",
            "I have m = 1460 training examples!\n"
          ]
        }
      ],
      "source": [
        "X_multi_norm = np.array(X_multi_norm).T\n",
        "Y_multi_norm = np.array(Y_multi_norm).reshape((1, len(Y_multi_norm)))\n",
        "\n",
        "print ('The shape of X: ' + str(X_multi_norm.shape))\n",
        "print ('The shape of Y: ' + str(Y_multi_norm.shape))\n",
        "print ('I have m = %d training examples!' % (X_multi_norm.shape[1]))"
      ]
    },
    {
      "cell_type": "markdown",
      "metadata": {
        "id": "9EBVd8eRY0p4"
      },
      "source": [
        "### 3.4 - Performance of the Neural Network Model for Multiple Linear Regression\n",
        "\n",
        "Now... you do not need to change anything in your neural network implementation! Go through the code in section [2](#2) and see that if you pass new datasets `X_multi_norm` and `Y_multi_norm`, the input layer size $n_x$ will get equal to $2$ and the rest of the implementation will remain exactly the same, even the backward propagation!\n",
        "\n",
        "Train the model for $100$ iterations:"
      ]
    },
    {
      "cell_type": "code",
      "execution_count": 129,
      "metadata": {
        "id": "W3k7Z1JqY0p4",
        "colab": {
          "base_uri": "https://localhost:8080/"
        },
        "outputId": "41ad050a-4439-46b5-ab81-35e5abd1b096"
      },
      "outputs": [
        {
          "output_type": "stream",
          "name": "stdout",
          "text": [
            "Cost after iteration 0: 0.515928\n",
            "Cost after iteration 1: 0.449395\n",
            "Cost after iteration 2: 0.396180\n",
            "Cost after iteration 3: 0.352587\n",
            "Cost after iteration 4: 0.316595\n",
            "Cost after iteration 5: 0.286805\n",
            "Cost after iteration 6: 0.262128\n",
            "Cost after iteration 7: 0.241683\n",
            "Cost after iteration 8: 0.224741\n",
            "Cost after iteration 9: 0.210703\n",
            "Cost after iteration 10: 0.199070\n",
            "Cost after iteration 11: 0.189430\n",
            "Cost after iteration 12: 0.181443\n",
            "Cost after iteration 13: 0.174824\n",
            "Cost after iteration 14: 0.169339\n",
            "Cost after iteration 15: 0.164794\n",
            "Cost after iteration 16: 0.161028\n",
            "Cost after iteration 17: 0.157907\n",
            "Cost after iteration 18: 0.155321\n",
            "Cost after iteration 19: 0.153178\n",
            "Cost after iteration 20: 0.151403\n",
            "Cost after iteration 21: 0.149931\n",
            "Cost after iteration 22: 0.148712\n",
            "Cost after iteration 23: 0.147701\n",
            "Cost after iteration 24: 0.146864\n",
            "Cost after iteration 25: 0.146170\n",
            "Cost after iteration 26: 0.145596\n",
            "Cost after iteration 27: 0.145119\n",
            "Cost after iteration 28: 0.144724\n",
            "Cost after iteration 29: 0.144397\n",
            "Cost after iteration 30: 0.144126\n",
            "Cost after iteration 31: 0.143902\n",
            "Cost after iteration 32: 0.143716\n",
            "Cost after iteration 33: 0.143561\n",
            "Cost after iteration 34: 0.143434\n",
            "Cost after iteration 35: 0.143328\n",
            "Cost after iteration 36: 0.143240\n",
            "Cost after iteration 37: 0.143167\n",
            "Cost after iteration 38: 0.143107\n",
            "Cost after iteration 39: 0.143057\n",
            "Cost after iteration 40: 0.143016\n",
            "Cost after iteration 41: 0.142981\n",
            "Cost after iteration 42: 0.142953\n",
            "Cost after iteration 43: 0.142929\n",
            "Cost after iteration 44: 0.142910\n",
            "Cost after iteration 45: 0.142894\n",
            "Cost after iteration 46: 0.142880\n",
            "Cost after iteration 47: 0.142869\n",
            "Cost after iteration 48: 0.142860\n",
            "Cost after iteration 49: 0.142852\n",
            "Cost after iteration 50: 0.142846\n",
            "Cost after iteration 51: 0.142841\n",
            "Cost after iteration 52: 0.142836\n",
            "Cost after iteration 53: 0.142833\n",
            "Cost after iteration 54: 0.142830\n",
            "Cost after iteration 55: 0.142827\n",
            "Cost after iteration 56: 0.142825\n",
            "Cost after iteration 57: 0.142824\n",
            "Cost after iteration 58: 0.142822\n",
            "Cost after iteration 59: 0.142821\n",
            "Cost after iteration 60: 0.142820\n",
            "Cost after iteration 61: 0.142819\n",
            "Cost after iteration 62: 0.142819\n",
            "Cost after iteration 63: 0.142818\n",
            "Cost after iteration 64: 0.142818\n",
            "Cost after iteration 65: 0.142817\n",
            "Cost after iteration 66: 0.142817\n",
            "Cost after iteration 67: 0.142817\n",
            "Cost after iteration 68: 0.142817\n",
            "Cost after iteration 69: 0.142816\n",
            "Cost after iteration 70: 0.142816\n",
            "Cost after iteration 71: 0.142816\n",
            "Cost after iteration 72: 0.142816\n",
            "Cost after iteration 73: 0.142816\n",
            "Cost after iteration 74: 0.142816\n",
            "Cost after iteration 75: 0.142816\n",
            "Cost after iteration 76: 0.142816\n",
            "Cost after iteration 77: 0.142816\n",
            "Cost after iteration 78: 0.142816\n",
            "Cost after iteration 79: 0.142816\n",
            "Cost after iteration 80: 0.142816\n",
            "Cost after iteration 81: 0.142816\n",
            "Cost after iteration 82: 0.142816\n",
            "Cost after iteration 83: 0.142816\n",
            "Cost after iteration 84: 0.142816\n",
            "Cost after iteration 85: 0.142816\n",
            "Cost after iteration 86: 0.142816\n",
            "Cost after iteration 87: 0.142816\n",
            "Cost after iteration 88: 0.142816\n",
            "Cost after iteration 89: 0.142816\n",
            "Cost after iteration 90: 0.142816\n",
            "Cost after iteration 91: 0.142816\n",
            "Cost after iteration 92: 0.142816\n",
            "Cost after iteration 93: 0.142816\n",
            "Cost after iteration 94: 0.142816\n",
            "Cost after iteration 95: 0.142816\n",
            "Cost after iteration 96: 0.142816\n",
            "Cost after iteration 97: 0.142816\n",
            "Cost after iteration 98: 0.142816\n",
            "Cost after iteration 99: 0.142816\n",
            "W = [[0.36946641 0.57182175]]\n",
            "b = [[1.2921171e-16]]\n"
          ]
        }
      ],
      "source": [
        "parameters_multi = nn_model(X_multi_norm, Y_multi_norm, num_iterations=100, print_cost=True)\n",
        "\n",
        "print(\"W = \" + str(parameters_multi[\"W\"]))\n",
        "print(\"b = \" + str(parameters_multi[\"b\"]))\n",
        "\n",
        "W_multi = parameters_multi[\"W\"]\n",
        "b_multi = parameters_multi[\"b\"]"
      ]
    },
    {
      "cell_type": "markdown",
      "metadata": {
        "id": "s0be5ciPY0p4"
      },
      "source": [
        "Now you are ready to make predictions:"
      ]
    },
    {
      "cell_type": "code",
      "execution_count": 168,
      "metadata": {
        "id": "pz4Eh80DY0p4",
        "colab": {
          "base_uri": "https://localhost:8080/"
        },
        "outputId": "9179cf80-7f6a-43ce-c85a-2079dfd5e542"
      },
      "outputs": [
        {
          "output_type": "stream",
          "name": "stdout",
          "text": [
            "Ground living area, square feet:\n",
            "[1710 1200 2200]\n",
            "Rates of the overall quality of material and finish, 1-10:\n",
            "[7 6 8]\n",
            "Predictions of sales price, $:\n",
            "[221372. 160038. 281588.]\n"
          ]
        }
      ],
      "source": [
        "X_pred_multi = np.array([[1710, 7], [1200, 6], [2200, 8]]).T\n",
        "Y_pred_multi = predict(X_multi, Y_multi, parameters_multi, X_pred_multi)\n",
        "\n",
        "print(f\"Ground living area, square feet:\\n{X_pred_multi[0]}\")\n",
        "print(f\"Rates of the overall quality of material and finish, 1-10:\\n{X_pred_multi[1]}\")\n",
        "print(f\"Predictions of sales price, $:\\n{np.round(Y_pred_multi)}\")"
      ]
    },
    {
      "cell_type": "code",
      "source": [
        "GrLivArea_parameters = {\n",
        "    \"W\": [[parameters_multi[\"W\"][0][0]]],\n",
        "    \"b\": parameters_multi[\"b\"],\n",
        "}\n",
        "\n",
        "fig, ax = plt.subplots()\n",
        "plt.scatter(X_multi['GrLivArea'], Y_multi, color=\"black\")\n",
        "\n",
        "plt.xlabel(\"$x$\")\n",
        "plt.ylabel(\"$y$\")\n",
        "\n",
        "X_line = np.arange(np.min(X_multi['GrLivArea']),np.max(X_multi['GrLivArea'])*1.1, 0.1)\n",
        "Y_line = predict(X_multi['GrLivArea'], Y_multi, GrLivArea_parameters, X_line)\n",
        "ax.plot(X_line, Y_line, \"r\")\n",
        "ax.plot(X_pred_multi[0], Y_pred_multi, \"bo\")\n",
        "plt.plot()\n",
        "plt.show()"
      ],
      "metadata": {
        "colab": {
          "base_uri": "https://localhost:8080/",
          "height": 449
        },
        "id": "Y0sANKWXD390",
        "outputId": "cada2748-1489-4ca8-b099-7bb9e5502654"
      },
      "execution_count": 213,
      "outputs": [
        {
          "output_type": "display_data",
          "data": {
            "text/plain": [
              "<Figure size 640x480 with 1 Axes>"
            ],
            "image/png": "[encoded data removed]"
          },
          "metadata": {}
        }
      ]
    },
    {
      "cell_type": "code",
      "source": [
        "OverallQual_parameters = {\n",
        "    \"W\": [[parameters_multi[\"W\"][0][1]]],\n",
        "    \"b\": parameters_multi[\"b\"],\n",
        "}\n",
        "\n",
        "fig, ax = plt.subplots()\n",
        "plt.scatter(X_multi['OverallQual'], Y_multi, color=\"black\")\n",
        "\n",
        "plt.xlabel(\"$x$\")\n",
        "plt.ylabel(\"$y$\")\n",
        "\n",
        "X_line = np.arange(np.min(X_multi['OverallQual']),np.max(X_multi['OverallQual'])*1.1, 0.1)\n",
        "Y_line = predict(X_multi['OverallQual'], Y_multi, OverallQual_parameters, X_line)\n",
        "ax.plot(X_line, Y_line, \"r\")\n",
        "ax.plot(X_pred_multi[1], Y_pred_multi, \"bo\")\n",
        "plt.plot()\n",
        "plt.show()"
      ],
      "metadata": {
        "colab": {
          "base_uri": "https://localhost:8080/",
          "height": 449
        },
        "id": "Jaf91ZRrGO1U",
        "outputId": "0bf45e0d-190b-4abc-e9fa-36409b4dc30f"
      },
      "execution_count": 214,
      "outputs": [
        {
          "output_type": "display_data",
          "data": {
            "text/plain": [
              "<Figure size 640x480 with 1 Axes>"
            ],
            "image/png": "[encoded data removed]"
          },
          "metadata": {}
        }
      ]
    },
    {
      "cell_type": "markdown",
      "metadata": {
        "id": "QJV2XHTmY0p5"
      },
      "source": [
        "Congrats on finishing this lab!"
      ]
    },
    {
      "cell_type": "code",
      "execution_count": null,
      "metadata": {
        "id": "W-wyRLZHY0p5"
      },
      "outputs": [],
      "source": []
    }
  ],
  "metadata": {
    "colab": {
      "provenance": [],
      "include_colab_link": true
    },
    "coursera": {
      "schema_names": [
        "AI4MC1-1"
      ]
    },
    "grader_version": "1",
    "kernelspec": {
      "display_name": "Python 3",
      "name": "python3"
    },
    "language_info": {
      "codemirror_mode": {
        "name": "ipython",
        "version": 3
      },
      "file_extension": ".py",
      "mimetype": "text/x-python",
      "name": "python",
      "nbconvert_exporter": "python",
      "pygments_lexer": "ipython3",
      "version": "3.10.6"
    },
    "toc": {
      "base_numbering": 1,
      "nav_menu": {},
      "number_sections": true,
      "sideBar": true,
      "skip_h1_title": false,
      "title_cell": "Table of Contents",
      "title_sidebar": "Contents",
      "toc_cell": false,
      "toc_position": {},
      "toc_section_display": true,
      "toc_window_display": false
    }
  },
  "nbformat": 4,
  "nbformat_minor": 0
}