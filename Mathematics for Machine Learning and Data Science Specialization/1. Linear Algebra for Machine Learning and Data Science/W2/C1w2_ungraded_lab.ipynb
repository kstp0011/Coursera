{
  "cells": [
    {
      "cell_type": "markdown",
      "metadata": {
        "id": "view-in-github",
        "colab_type": "text"
      },
      "source": [
        "<a href=\"https://colab.research.google.com/github/kstp0011/Coursera/blob/main/Linear%20Algebra%20for%20Machine%20Learning%20and%20Data%20Science/W2/C1w2_ungraded_lab.ipynb\" target=\"_parent\"><img src=\"https://colab.research.google.com/assets/colab-badge.svg\" alt=\"Open In Colab\"/></a>"
      ]
    },
    {
      "cell_type": "markdown",
      "id": "signed-sight",
      "metadata": {
        "id": "signed-sight"
      },
      "source": [
        "# Solving Linear Systems: 3 variables"
      ]
    },
    {
      "cell_type": "markdown",
      "id": "representative-velvet",
      "metadata": {
        "id": "representative-velvet"
      },
      "source": [
        "In this lab, you will keep developing your skills using Python to solve systems of linear equations. In this notebook you will:\n",
        "\n",
        "- Use `NumPy` linear algebra package to find the solutions to the system of linear equations\n",
        "- Perform row reduction to bring matrix into row echelon form\n",
        "- Find the solution for the system of linear equations using row reduced matrix\n",
        "- Evaluate the determinant of the matrix to see again the connection between matrix singularity and the number of solutions of the linear system"
      ]
    },
    {
      "cell_type": "markdown",
      "id": "automated-bishop",
      "metadata": {
        "id": "automated-bishop"
      },
      "source": [
        "# Table of Contents\n",
        "- [ 1 - Representing and Solving a System of Linear Equations using Matrices](#1)\n",
        "  - [ 1.1 - System of Linear Equations](#1.1)\n",
        "  - [ 1.2 - Solving Systems of Linear Equations using Matrices](#1.2)\n",
        "  - [ 1.3 - Evaluating the Determinant of a Matrix](#1.3)\n",
        "- [ 2 - Solving System of Linear Equations using Row Reduction](#2)\n",
        "  - [ 2.1 - Preparation for Row Reduction](#2.1)\n",
        "  - [ 2.2 - Functions for Elementary Operations](#2.2)\n",
        "  - [ 2.3 - Row Reduction and Solution of the Linear System](#2.3)\n",
        "- [ 3 - System of Linear Equations with No Solutions](#3)\n",
        "- [ 4 - System of Linear Equations with Infinite Number of Solutions](#4)"
      ]
    },
    {
      "cell_type": "markdown",
      "id": "persistent-sweden",
      "metadata": {
        "id": "persistent-sweden"
      },
      "source": [
        "## Packages\n",
        "\n",
        "Load the `NumPy` package to access its functions."
      ]
    },
    {
      "cell_type": "code",
      "execution_count": null,
      "id": "metropolitan-shape",
      "metadata": {
        "id": "metropolitan-shape"
      },
      "outputs": [],
      "source": [
        "import numpy as np"
      ]
    },
    {
      "cell_type": "markdown",
      "id": "chief-istanbul",
      "metadata": {
        "id": "chief-istanbul"
      },
      "source": [
        "<a name='1'></a>\n",
        "## 1 - Representing and Solving a System of Linear Equations using Matrices"
      ]
    },
    {
      "cell_type": "markdown",
      "id": "advance-count",
      "metadata": {
        "id": "advance-count"
      },
      "source": [
        "<a name='1.1'></a>\n",
        "### 1.1 - System of Linear Equations\n",
        "\n",
        "Here is a **system of linear equations** (or **linear system**) with three equations and three unknown variables:\n",
        "\n",
        "\n",
        "$$\\begin{cases}\n",
        "4x_1-3x_2+x_3=-10, \\\\ 2x_1+x_2+3x_3=0, \\\\ -x_1+2x_2-5x_3=17, \\end{cases}\\tag{1}$$\n",
        "\n",
        "**To solve** this system of linear equations means to find such values of the variables $x_1$, $x_2$, $x_3$, that all of its equations are simultaneously satisfied."
      ]
    },
    {
      "cell_type": "markdown",
      "id": "sharp-strike",
      "metadata": {
        "id": "sharp-strike"
      },
      "source": [
        "<a name='1.2'></a>\n",
        "### 1.2 - Solving Systems of Linear Equations using Matrices\n",
        "\n",
        "Let's prepare to solve the linear system $(1)$ using `NumPy`. $A$ will be a matrix, each row will represent one equation in the system and each column will correspond to the variable $x_1$, $x_2$, $x_3$. And $b$ is a 1-D array of the free (right side) coefficients:"
      ]
    },
    {
      "cell_type": "code",
      "execution_count": null,
      "id": "tired-filing",
      "metadata": {
        "colab": {
          "base_uri": "https://localhost:8080/"
        },
        "id": "tired-filing",
        "outputId": "67e92433-0da5-4510-fef2-1b8143438637"
      },
      "outputs": [
        {
          "output_type": "stream",
          "name": "stdout",
          "text": [
            "Matrix A:\n",
            "[[ 4. -3.  1.]\n",
            " [ 2.  1.  3.]\n",
            " [-1.  2. -5.]]\n",
            "\n",
            "Array b:\n",
            "[-10.   0.  17.]\n"
          ]
        }
      ],
      "source": [
        "A = np.array([\n",
        "        [4, -3, 1],\n",
        "        [2, 1, 3],\n",
        "        [-1, 2, -5]\n",
        "    ], dtype=np.dtype(float))\n",
        "\n",
        "b = np.array([-10, 0, 17], dtype=np.dtype(float))\n",
        "\n",
        "print(\"Matrix A:\")\n",
        "print(A)\n",
        "print(\"\\nArray b:\")\n",
        "print(b)"
      ]
    },
    {
      "cell_type": "markdown",
      "id": "premium-soviet",
      "metadata": {
        "id": "premium-soviet"
      },
      "source": [
        "Check the dimensions of $A$ and $b$ using `shape()` function:"
      ]
    },
    {
      "cell_type": "code",
      "execution_count": null,
      "id": "political-aberdeen",
      "metadata": {
        "colab": {
          "base_uri": "https://localhost:8080/"
        },
        "id": "political-aberdeen",
        "outputId": "8baef05b-6782-493f-9c4f-8aae46ef7223"
      },
      "outputs": [
        {
          "output_type": "stream",
          "name": "stdout",
          "text": [
            "Shape of A: (3, 3)\n",
            "Shape of b: (3,)\n"
          ]
        }
      ],
      "source": [
        "print(f\"Shape of A: {np.shape(A)}\")\n",
        "print(f\"Shape of b: {np.shape(b)}\")"
      ]
    },
    {
      "cell_type": "markdown",
      "id": "complimentary-testimony",
      "metadata": {
        "id": "complimentary-testimony"
      },
      "source": [
        "Now use `np.linalg.solve(A, b)` function to find the solution of the system $(1)$. The result will be saved in the 1-D array $x$. The elements will correspond to the values of $x_1$, $x_2$ and $x_3$:"
      ]
    },
    {
      "cell_type": "code",
      "execution_count": null,
      "id": "broke-vietnamese",
      "metadata": {
        "colab": {
          "base_uri": "https://localhost:8080/"
        },
        "id": "broke-vietnamese",
        "outputId": "e8a79d18-a9ee-4d0a-ad34-fc2c4f5741d8"
      },
      "outputs": [
        {
          "output_type": "stream",
          "name": "stdout",
          "text": [
            "Solution: [ 1.  4. -2.]\n"
          ]
        }
      ],
      "source": [
        "x = np.linalg.solve(A, b)\n",
        "\n",
        "print(f\"Solution: {x}\")"
      ]
    },
    {
      "cell_type": "markdown",
      "id": "correct-insert",
      "metadata": {
        "id": "correct-insert"
      },
      "source": [
        "Try to substitute those values of $x_1$, $x_2$ and $x_3$ into the original system of equations to check its consistency."
      ]
    },
    {
      "cell_type": "markdown",
      "id": "applicable-senator",
      "metadata": {
        "id": "applicable-senator"
      },
      "source": [
        "<a name='1.3'></a>\n",
        "### 1.3 - Evaluating the Determinant of a Matrix\n",
        "\n",
        "Matrix $A$ corresponding to the linear system $(1)$ is a **square matrix** - it has the same number of rows and columns. In the case of a square matrix it is possible to calculate its determinant - a real number that characterizes some properties of the matrix. A linear system containing three equations with three unknown variables will have one solution if and only if the matrix $A$ has a non-zero determinant.\n",
        "\n",
        "Let's calculate the determinant using `np.linalg.det(A)` function:"
      ]
    },
    {
      "cell_type": "code",
      "execution_count": null,
      "id": "median-potato",
      "metadata": {
        "colab": {
          "base_uri": "https://localhost:8080/"
        },
        "id": "median-potato",
        "outputId": "087f705a-e561-4f40-81c2-2be8160793a7"
      },
      "outputs": [
        {
          "output_type": "stream",
          "name": "stdout",
          "text": [
            "Determinant of matrix A: -60.00\n"
          ]
        }
      ],
      "source": [
        "d = np.linalg.det(A)\n",
        "\n",
        "print(f\"Determinant of matrix A: {d:.2f}\")"
      ]
    },
    {
      "cell_type": "markdown",
      "id": "congressional-church",
      "metadata": {
        "id": "congressional-church"
      },
      "source": [
        "Please, note that its value is non-zero, as expected."
      ]
    },
    {
      "cell_type": "markdown",
      "id": "handed-tolerance",
      "metadata": {
        "id": "handed-tolerance"
      },
      "source": [
        "<a name='2'></a>\n",
        "## 2 - Solving System of Linear Equations using Row Reduction"
      ]
    },
    {
      "cell_type": "markdown",
      "id": "intense-closer",
      "metadata": {
        "id": "intense-closer"
      },
      "source": [
        "<a name='2.1'></a>\n",
        "### 2.1 - Preparation for Row Reduction\n",
        "\n",
        "You can see how easy it is to use contemporary packages to solve linear equations. However, for a deeper understanding of mathematical concepts, it is important to practice some solution techniques manually. The programming approach can still help here to reduce the number of arithmetical calculations, and focus on the method itself.\n",
        "\n",
        "Here you can practice the row reduction method for the linear system with three variables. To apply it, first, unify matrix $A$ and array $b$ into one matrix using `np.hstack()` function. Note that the shape of the originally defined array $b$ was $(3,)$, to stack it with the $(3, 3)$ matrix you need to transform it so that it has the same number of dimensions. You can use `.reshape((3, 1))` function:"
      ]
    },
    {
      "cell_type": "code",
      "execution_count": null,
      "id": "diverse-mayor",
      "metadata": {
        "colab": {
          "base_uri": "https://localhost:8080/"
        },
        "id": "diverse-mayor",
        "outputId": "aa6e6be9-3f10-4998-878e-f002409a58d4"
      },
      "outputs": [
        {
          "output_type": "stream",
          "name": "stdout",
          "text": [
            "[[  4.  -3.   1. -10.]\n",
            " [  2.   1.   3.   0.]\n",
            " [ -1.   2.  -5.  17.]]\n"
          ]
        }
      ],
      "source": [
        "A_system = np.hstack((A, b.reshape((3, 1))))\n",
        "\n",
        "print(A_system)"
      ]
    },
    {
      "cell_type": "markdown",
      "id": "needed-organ",
      "metadata": {
        "id": "needed-organ"
      },
      "source": [
        "<a name='2.2'></a>\n",
        "### 2.2 - Functions for Elementary Operations\n",
        "\n",
        "Let's review **elementary operations**, which do not change the solution set of a linear system:\n",
        "\n",
        "- Multiply any row by a non-zero number\n",
        "- Add two rows and exchange one of the original rows with the result of the addition\n",
        "- Swap rows\n",
        "\n",
        "In the case of larger systems you will need to apply elementary operations multiple times. Thus, it is convenient to define the corresponding Python functions. Investigate them in the following code cells with the examples:"
      ]
    },
    {
      "cell_type": "code",
      "execution_count": null,
      "id": "unlimited-promotion",
      "metadata": {
        "colab": {
          "base_uri": "https://localhost:8080/"
        },
        "id": "unlimited-promotion",
        "outputId": "2bcf0065-a361-4e22-ce84-307f9701ebab"
      },
      "outputs": [
        {
          "output_type": "stream",
          "name": "stdout",
          "text": [
            "Original matrix:\n",
            "[[  4.  -3.   1. -10.]\n",
            " [  2.   1.   3.   0.]\n",
            " [ -1.   2.  -5.  17.]]\n",
            "\n",
            "Matrix after its third row is multiplied by 2:\n",
            "[[  4.  -3.   1. -10.]\n",
            " [  2.   1.   3.   0.]\n",
            " [ -2.   4. -10.  34.]]\n"
          ]
        }
      ],
      "source": [
        "# exchange row_num of the matrix M with its multiple by row_num_multiple\n",
        "# Note: for simplicity, you can drop check if  row_num_multiple has non-zero value, which makes the operation valid\n",
        "def MultiplyRow(M, row_num, row_num_multiple):\n",
        "    # .copy() function is required here to keep the original matrix without any changes\n",
        "    M_new = M.copy()\n",
        "    M_new[row_num] = M_new[row_num] * row_num_multiple\n",
        "    return M_new\n",
        "\n",
        "print(\"Original matrix:\")\n",
        "print(A_system)\n",
        "print(\"\\nMatrix after its third row is multiplied by 2:\")\n",
        "# remember that indexing in Python starts from 0, thus index 2 will correspond to the third row\n",
        "print(MultiplyRow(A_system,2,2))"
      ]
    },
    {
      "cell_type": "code",
      "execution_count": null,
      "id": "governmental-underwear",
      "metadata": {
        "colab": {
          "base_uri": "https://localhost:8080/"
        },
        "id": "governmental-underwear",
        "outputId": "4255d68f-8ae3-46e4-8581-fe22a14429cf"
      },
      "outputs": [
        {
          "output_type": "stream",
          "name": "stdout",
          "text": [
            "Original matrix:\n",
            "[[  4.  -3.   1. -10.]\n",
            " [  2.   1.   3.   0.]\n",
            " [ -1.   2.  -5.  17.]]\n",
            "\n",
            "Matrix after exchange of the third row with the sum of itself and second row multiplied by 1/2:\n",
            "[[  4.   -3.    1.  -10. ]\n",
            " [  2.    1.    3.    0. ]\n",
            " [  0.    2.5  -3.5  17. ]]\n"
          ]
        }
      ],
      "source": [
        "# multiply row_num_1 by row_num_1_multiple and add it to the row_num_2,\n",
        "# exchanging row_num_2 of the matrix M in the result\n",
        "def AddRows(M, row_num_1, row_num_2, row_num_1_multiple):\n",
        "    M_new = M.copy()\n",
        "    M_new[row_num_2] = row_num_1_multiple * M_new[row_num_1] + M_new[row_num_2]\n",
        "    return M_new\n",
        "\n",
        "print(\"Original matrix:\")\n",
        "print(A_system)\n",
        "print(\"\\nMatrix after exchange of the third row with the sum of itself and second row multiplied by 1/2:\")\n",
        "print(AddRows(A_system,1,2,1/2))"
      ]
    },
    {
      "cell_type": "code",
      "execution_count": null,
      "id": "musical-humanity",
      "metadata": {
        "colab": {
          "base_uri": "https://localhost:8080/"
        },
        "id": "musical-humanity",
        "outputId": "b6d56e38-1d55-42f4-a33e-86cb585630d6"
      },
      "outputs": [
        {
          "output_type": "stream",
          "name": "stdout",
          "text": [
            "Original matrix:\n",
            "[[  4.  -3.   1. -10.]\n",
            " [  2.   1.   3.   0.]\n",
            " [ -1.   2.  -5.  17.]]\n",
            "\n",
            "Matrix after exchange its first and third rows:\n",
            "[[ -1.   2.  -5.  17.]\n",
            " [  2.   1.   3.   0.]\n",
            " [  4.  -3.   1. -10.]]\n"
          ]
        }
      ],
      "source": [
        "# exchange row_num_1 and row_num_2 of the matrix M\n",
        "def SwapRows(M, row_num_1, row_num_2):\n",
        "    M_new = M.copy()\n",
        "    M_new[[row_num_1, row_num_2]] = M_new[[row_num_2, row_num_1]]\n",
        "    return M_new\n",
        "\n",
        "print(\"Original matrix:\")\n",
        "print(A_system)\n",
        "print(\"\\nMatrix after exchange its first and third rows:\")\n",
        "print(SwapRows(A_system,0,2))"
      ]
    },
    {
      "cell_type": "markdown",
      "id": "hybrid-circuit",
      "metadata": {
        "id": "hybrid-circuit"
      },
      "source": [
        "<a name='2.3'></a>\n",
        "### 2.3 - Row Reduction and Solution of the Linear System\n",
        "\n",
        "Now you can use the defined operations to bring the matrix into row reduced form. To do this manually, it is convenient to have $1$ or $-1$ value in the first element of the first row (the arithmetics of operations is easier then). Performing calculations in Python, won't provide much of a benefit, but it is better to do that for illustration purposes. So, let's swap the first and third rows:"
      ]
    },
    {
      "cell_type": "code",
      "execution_count": null,
      "id": "together-dancing",
      "metadata": {
        "colab": {
          "base_uri": "https://localhost:8080/"
        },
        "id": "together-dancing",
        "outputId": "cd52f0c9-9818-4431-a4e5-51317e882d1d"
      },
      "outputs": [
        {
          "output_type": "stream",
          "name": "stdout",
          "text": [
            "[[ -1.   2.  -5.  17.]\n",
            " [  2.   1.   3.   0.]\n",
            " [  4.  -3.   1. -10.]]\n"
          ]
        }
      ],
      "source": [
        "A_ref = SwapRows(A_system,0,2)\n",
        "# Note: ref is an abbreviation of the row echelon form (row reduced form)\n",
        "print(A_ref)"
      ]
    },
    {
      "cell_type": "markdown",
      "id": "composite-pocket",
      "metadata": {
        "id": "composite-pocket"
      },
      "source": [
        "Now you would need to make such elementary operations, that the first elements in the second and third row become equal to zero:"
      ]
    },
    {
      "cell_type": "code",
      "execution_count": null,
      "id": "involved-messenger",
      "metadata": {
        "colab": {
          "base_uri": "https://localhost:8080/"
        },
        "id": "involved-messenger",
        "outputId": "85d33151-4bb3-4d0c-f145-ba2822c54518"
      },
      "outputs": [
        {
          "output_type": "stream",
          "name": "stdout",
          "text": [
            "[[ -1.   2.  -5.  17.]\n",
            " [  0.   5.  -7.  34.]\n",
            " [  4.  -3.   1. -10.]]\n"
          ]
        }
      ],
      "source": [
        "# multiply row 0 of the new matrix A_ref by 2 and add it to the row 1\n",
        "A_ref = AddRows(A_ref,0,1,2)\n",
        "print(A_ref)"
      ]
    },
    {
      "cell_type": "code",
      "execution_count": null,
      "id": "aboriginal-hydrogen",
      "metadata": {
        "colab": {
          "base_uri": "https://localhost:8080/"
        },
        "id": "aboriginal-hydrogen",
        "outputId": "047c7904-1059-432c-fd2d-e9e681446fdc"
      },
      "outputs": [
        {
          "output_type": "stream",
          "name": "stdout",
          "text": [
            "[[ -1.   2.  -5.  17.]\n",
            " [  0.   5.  -7.  34.]\n",
            " [  0.   5. -19.  58.]]\n"
          ]
        }
      ],
      "source": [
        "# multiply row 0 of the new matrix A_ref by 4 and add it to the row 2\n",
        "A_ref = AddRows(A_ref,0,2,4)\n",
        "print(A_ref)"
      ]
    },
    {
      "cell_type": "markdown",
      "id": "later-colonial",
      "metadata": {
        "id": "later-colonial"
      },
      "source": [
        "The next step will be to perform an operation by putting the second element in the third row equal to zero:"
      ]
    },
    {
      "cell_type": "code",
      "execution_count": null,
      "id": "brutal-scott",
      "metadata": {
        "colab": {
          "base_uri": "https://localhost:8080/"
        },
        "id": "brutal-scott",
        "outputId": "c9d0dc9c-82e8-4e93-f0eb-cf5c9951f4c2"
      },
      "outputs": [
        {
          "output_type": "stream",
          "name": "stdout",
          "text": [
            "[[ -1.   2.  -5.  17.]\n",
            " [  0.   5.  -7.  34.]\n",
            " [  0.   0. -12.  24.]]\n"
          ]
        }
      ],
      "source": [
        "# multiply row 1 of the new matrix A_ref by -1 and add it to the row 2\n",
        "A_ref = AddRows(A_ref,1,2,-1)\n",
        "print(A_ref)"
      ]
    },
    {
      "cell_type": "markdown",
      "id": "south-taste",
      "metadata": {
        "id": "south-taste"
      },
      "source": [
        "It is easy now to find the value of $x_3$ from the third row, as it corresponds to the equation $-12x_3=24$. Let's divide the row by -12:"
      ]
    },
    {
      "cell_type": "code",
      "execution_count": null,
      "id": "great-address",
      "metadata": {
        "colab": {
          "base_uri": "https://localhost:8080/"
        },
        "id": "great-address",
        "outputId": "c4dd27be-9c8c-448c-f8cc-5fe0053c6380"
      },
      "outputs": [
        {
          "output_type": "stream",
          "name": "stdout",
          "text": [
            "[[-1.  2. -5. 17.]\n",
            " [ 0.  5. -7. 34.]\n",
            " [-0. -0.  1. -2.]]\n"
          ]
        }
      ],
      "source": [
        "# multiply row 2 of the new matrix A_ref by -1/12\n",
        "A_ref = MultiplyRow(A_ref,2,-1/12)\n",
        "print(A_ref)"
      ]
    },
    {
      "cell_type": "markdown",
      "id": "committed-jaguar",
      "metadata": {
        "id": "committed-jaguar"
      },
      "source": [
        "Now the second row of the matrix corresponds to the equation $5x_2-7x_3=34$ and the first row to the equation $-x_1+2x_2-5x_3=17$. Referring to the elements of the matrix, you can find the values of $x_2$ and $x_1$:"
      ]
    },
    {
      "cell_type": "code",
      "execution_count": null,
      "id": "complicated-price",
      "metadata": {
        "colab": {
          "base_uri": "https://localhost:8080/"
        },
        "id": "complicated-price",
        "outputId": "c09bc735-aa80-4f4f-845a-c2c881fd168c"
      },
      "outputs": [
        {
          "output_type": "stream",
          "name": "stdout",
          "text": [
            "1.0 4.0 -2\n"
          ]
        }
      ],
      "source": [
        "x_3 = -2\n",
        "x_2 = (A_ref[1,3] - A_ref[1,2] * x_3) / A_ref[1,1]\n",
        "x_1 = (A_ref[0,3] - A_ref[0,2] * x_3 - A_ref[0,1] * x_2) / A_ref[0,0]\n",
        "\n",
        "print(x_1, x_2, x_3)"
      ]
    },
    {
      "cell_type": "markdown",
      "id": "accomplished-north",
      "metadata": {
        "id": "accomplished-north"
      },
      "source": [
        "<a name='3'></a>\n",
        "## 3 - System of Linear Equations with No Solutions\n",
        "\n",
        "Given another system of linear equations:\n",
        "\n",
        "$$\\begin{cases}\n",
        "x_1+x_2+x_3=2, \\\\ x_2-3x_3=1, \\\\ 2x_1+x_2+5x_3=0, \\end{cases}\\tag{2}$$\n",
        "\n",
        "let's find the determinant of the corresponding matrix."
      ]
    },
    {
      "cell_type": "code",
      "execution_count": null,
      "id": "military-boost",
      "metadata": {
        "colab": {
          "base_uri": "https://localhost:8080/"
        },
        "id": "military-boost",
        "outputId": "3bcadec1-b9f0-48fa-b146-a92b482abcac"
      },
      "outputs": [
        {
          "output_type": "stream",
          "name": "stdout",
          "text": [
            "Determinant of matrix A_2: 0.00\n"
          ]
        }
      ],
      "source": [
        "A_2= np.array([\n",
        "        [1, 1, 1],\n",
        "        [0, 1, -3],\n",
        "        [2, 1, 5]\n",
        "    ], dtype=np.dtype(float))\n",
        "\n",
        "b_2 = np.array([2, 1, 0], dtype=np.dtype(float))\n",
        "\n",
        "d_2 = np.linalg.det(A_2)\n",
        "\n",
        "print(f\"Determinant of matrix A_2: {d_2:.2f}\")"
      ]
    },
    {
      "cell_type": "markdown",
      "id": "certain-territory",
      "metadata": {
        "id": "certain-territory"
      },
      "source": [
        "It is equal to zero, thus the system cannot have one unique solution. It will have either infinitely many solutions or none. The consistency of it will depend on the free coefficients (right side coefficients). You can uncomment and run the code in the following cell to check that the `np.linalg.solve()` function will give an error due to singularity."
      ]
    },
    {
      "cell_type": "code",
      "execution_count": null,
      "id": "significant-modern",
      "metadata": {
        "colab": {
          "base_uri": "https://localhost:8080/",
          "height": 287
        },
        "id": "significant-modern",
        "outputId": "f924aec1-8cca-4175-8cda-8d4b0fea67d3"
      },
      "outputs": [
        {
          "output_type": "error",
          "ename": "LinAlgError",
          "evalue": "Singular matrix",
          "traceback": [
            "\u001b[0;31m---------------------------------------------------------------------------\u001b[0m",
            "\u001b[0;31mLinAlgError\u001b[0m                               Traceback (most recent call last)",
            "\u001b[0;32m<ipython-input-19-3791e4783a0f>\u001b[0m in \u001b[0;36m<cell line: 0>\u001b[0;34m()\u001b[0m\n\u001b[0;32m----> 1\u001b[0;31m \u001b[0mx_2\u001b[0m \u001b[0;34m=\u001b[0m \u001b[0mnp\u001b[0m\u001b[0;34m.\u001b[0m\u001b[0mlinalg\u001b[0m\u001b[0;34m.\u001b[0m\u001b[0msolve\u001b[0m\u001b[0;34m(\u001b[0m\u001b[0mA_2\u001b[0m\u001b[0;34m,\u001b[0m \u001b[0mb_2\u001b[0m\u001b[0;34m)\u001b[0m\u001b[0;34m\u001b[0m\u001b[0;34m\u001b[0m\u001b[0m\n\u001b[0m",
            "\u001b[0;32m/usr/local/lib/python3.11/dist-packages/numpy/linalg/_linalg.py\u001b[0m in \u001b[0;36msolve\u001b[0;34m(a, b)\u001b[0m\n\u001b[1;32m    408\u001b[0m     with errstate(call=_raise_linalgerror_singular, invalid='call',\n\u001b[1;32m    409\u001b[0m                   over='ignore', divide='ignore', under='ignore'):\n\u001b[0;32m--> 410\u001b[0;31m         \u001b[0mr\u001b[0m \u001b[0;34m=\u001b[0m \u001b[0mgufunc\u001b[0m\u001b[0;34m(\u001b[0m\u001b[0ma\u001b[0m\u001b[0;34m,\u001b[0m \u001b[0mb\u001b[0m\u001b[0;34m,\u001b[0m \u001b[0msignature\u001b[0m\u001b[0;34m=\u001b[0m\u001b[0msignature\u001b[0m\u001b[0;34m)\u001b[0m\u001b[0;34m\u001b[0m\u001b[0;34m\u001b[0m\u001b[0m\n\u001b[0m\u001b[1;32m    411\u001b[0m \u001b[0;34m\u001b[0m\u001b[0m\n\u001b[1;32m    412\u001b[0m     \u001b[0;32mreturn\u001b[0m \u001b[0mwrap\u001b[0m\u001b[0;34m(\u001b[0m\u001b[0mr\u001b[0m\u001b[0;34m.\u001b[0m\u001b[0mastype\u001b[0m\u001b[0;34m(\u001b[0m\u001b[0mresult_t\u001b[0m\u001b[0;34m,\u001b[0m \u001b[0mcopy\u001b[0m\u001b[0;34m=\u001b[0m\u001b[0;32mFalse\u001b[0m\u001b[0;34m)\u001b[0m\u001b[0;34m)\u001b[0m\u001b[0;34m\u001b[0m\u001b[0;34m\u001b[0m\u001b[0m\n",
            "\u001b[0;32m/usr/local/lib/python3.11/dist-packages/numpy/linalg/_linalg.py\u001b[0m in \u001b[0;36m_raise_linalgerror_singular\u001b[0;34m(err, flag)\u001b[0m\n\u001b[1;32m    102\u001b[0m \u001b[0;34m\u001b[0m\u001b[0m\n\u001b[1;32m    103\u001b[0m \u001b[0;32mdef\u001b[0m \u001b[0m_raise_linalgerror_singular\u001b[0m\u001b[0;34m(\u001b[0m\u001b[0merr\u001b[0m\u001b[0;34m,\u001b[0m \u001b[0mflag\u001b[0m\u001b[0;34m)\u001b[0m\u001b[0;34m:\u001b[0m\u001b[0;34m\u001b[0m\u001b[0;34m\u001b[0m\u001b[0m\n\u001b[0;32m--> 104\u001b[0;31m     \u001b[0;32mraise\u001b[0m \u001b[0mLinAlgError\u001b[0m\u001b[0;34m(\u001b[0m\u001b[0;34m\"Singular matrix\"\u001b[0m\u001b[0;34m)\u001b[0m\u001b[0;34m\u001b[0m\u001b[0;34m\u001b[0m\u001b[0m\n\u001b[0m\u001b[1;32m    105\u001b[0m \u001b[0;34m\u001b[0m\u001b[0m\n\u001b[1;32m    106\u001b[0m \u001b[0;32mdef\u001b[0m \u001b[0m_raise_linalgerror_nonposdef\u001b[0m\u001b[0;34m(\u001b[0m\u001b[0merr\u001b[0m\u001b[0;34m,\u001b[0m \u001b[0mflag\u001b[0m\u001b[0;34m)\u001b[0m\u001b[0;34m:\u001b[0m\u001b[0;34m\u001b[0m\u001b[0;34m\u001b[0m\u001b[0m\n",
            "\u001b[0;31mLinAlgError\u001b[0m: Singular matrix"
          ]
        }
      ],
      "source": [
        "x_2 = np.linalg.solve(A_2, b_2)"
      ]
    },
    {
      "cell_type": "markdown",
      "id": "artificial-compiler",
      "metadata": {
        "id": "artificial-compiler"
      },
      "source": [
        "You can check the system for consistency using ranks, but this is out of scope here (you can review this topic following the [link](https://www.onlinemath4all.com/solving-system-of-linear-equations-by-rank-method.html)). For now you can perform elementary operations to see that this particular system has no solutions:"
      ]
    },
    {
      "cell_type": "code",
      "execution_count": null,
      "id": "mineral-nelson",
      "metadata": {
        "colab": {
          "base_uri": "https://localhost:8080/"
        },
        "id": "mineral-nelson",
        "outputId": "9bcacd8d-d564-46c0-f407-4bb3d53b8245"
      },
      "outputs": [
        {
          "output_type": "stream",
          "name": "stdout",
          "text": [
            "[[ 1.  1.  1.  2.]\n",
            " [ 0.  1. -3.  1.]\n",
            " [ 2.  1.  5.  0.]]\n"
          ]
        }
      ],
      "source": [
        "A_2_system = np.hstack((A_2, b_2.reshape((3, 1))))\n",
        "print(A_2_system)"
      ]
    },
    {
      "cell_type": "code",
      "execution_count": null,
      "id": "polished-adaptation",
      "metadata": {
        "colab": {
          "base_uri": "https://localhost:8080/"
        },
        "id": "polished-adaptation",
        "outputId": "bd1d0797-76fd-4823-e6bc-b2777e6c9636"
      },
      "outputs": [
        {
          "output_type": "stream",
          "name": "stdout",
          "text": [
            "[[ 1.  1.  1.  2.]\n",
            " [ 0.  1. -3.  1.]\n",
            " [ 0. -1.  3. -4.]]\n"
          ]
        }
      ],
      "source": [
        "# multiply row 0 by -2 and add it to the row 1\n",
        "A_2_ref = AddRows(A_2_system,0,2,-2)\n",
        "print(A_2_ref)"
      ]
    },
    {
      "cell_type": "code",
      "execution_count": null,
      "id": "valid-balloon",
      "metadata": {
        "colab": {
          "base_uri": "https://localhost:8080/"
        },
        "id": "valid-balloon",
        "outputId": "065347d4-044c-4ff5-ec4a-659649bfb650"
      },
      "outputs": [
        {
          "output_type": "stream",
          "name": "stdout",
          "text": [
            "[[ 1.  1.  1.  2.]\n",
            " [ 0.  1. -3.  1.]\n",
            " [ 0.  0.  0. -3.]]\n"
          ]
        }
      ],
      "source": [
        "# add row 1 of the new matrix A_2_ref to the row 2\n",
        "A_2_ref = AddRows(A_2_ref,1,2,1)\n",
        "print(A_2_ref)"
      ]
    },
    {
      "cell_type": "markdown",
      "id": "breathing-value",
      "metadata": {
        "id": "breathing-value"
      },
      "source": [
        "The last row will correspond to the equation $0=-3$ which has no solution. Thus the whole linear system $(2)$ has no solution."
      ]
    },
    {
      "cell_type": "markdown",
      "id": "pointed-tolerance",
      "metadata": {
        "id": "pointed-tolerance"
      },
      "source": [
        "<a name='4'></a>\n",
        "## 4 - System of Linear Equations with Infinite Number of Solutions\n",
        "\n",
        "You can bring system $(2)$ to consistency by changing only the free coefficients:\n",
        "\n",
        "$$\\begin{cases}\n",
        "x_1+x_2+x_3=2, \\\\ x_2-3x_3=1, \\\\ 2x_1+x_2+5x_3=3. \\end{cases}\\tag{3}$$\n",
        "\n",
        "Define the new array of free coefficients:"
      ]
    },
    {
      "cell_type": "code",
      "execution_count": null,
      "id": "exceptional-secret",
      "metadata": {
        "id": "exceptional-secret"
      },
      "outputs": [],
      "source": [
        "b_3 = np.array([2, 1, 3])"
      ]
    },
    {
      "cell_type": "markdown",
      "id": "dramatic-handbook",
      "metadata": {
        "id": "dramatic-handbook"
      },
      "source": [
        "Prepare the new matrix, corresponding to the system $(3)$:"
      ]
    },
    {
      "cell_type": "code",
      "execution_count": null,
      "id": "radical-florida",
      "metadata": {
        "colab": {
          "base_uri": "https://localhost:8080/"
        },
        "id": "radical-florida",
        "outputId": "9fd2c5db-766a-42c6-852d-4fd15a0af14a"
      },
      "outputs": [
        {
          "output_type": "stream",
          "name": "stdout",
          "text": [
            "[[ 1.  1.  1.  2.]\n",
            " [ 0.  1. -3.  1.]\n",
            " [ 2.  1.  5.  3.]]\n"
          ]
        }
      ],
      "source": [
        "A_3_system = np.hstack((A_2, b_3.reshape((3, 1))))\n",
        "print(A_3_system)"
      ]
    },
    {
      "cell_type": "code",
      "execution_count": null,
      "id": "theoretical-consolidation",
      "metadata": {
        "colab": {
          "base_uri": "https://localhost:8080/"
        },
        "id": "theoretical-consolidation",
        "outputId": "f90fa4f5-af46-4160-9c93-96d898d660c9"
      },
      "outputs": [
        {
          "output_type": "stream",
          "name": "stdout",
          "text": [
            "[[ 1.  1.  1.  2.]\n",
            " [ 0.  1. -3.  1.]\n",
            " [ 0. -1.  3. -1.]]\n"
          ]
        }
      ],
      "source": [
        "# multiply row 0 of the new matrix A_3_system by -2 and add it to the row 2\n",
        "A_3_ref = AddRows(A_3_system,0,2,-2)\n",
        "print(A_3_ref)"
      ]
    },
    {
      "cell_type": "code",
      "execution_count": null,
      "id": "medieval-resource",
      "metadata": {
        "colab": {
          "base_uri": "https://localhost:8080/"
        },
        "id": "medieval-resource",
        "outputId": "b681faee-efea-47ea-93cf-7982e7a77045"
      },
      "outputs": [
        {
          "output_type": "stream",
          "name": "stdout",
          "text": [
            "[[ 1.  1.  1.  2.]\n",
            " [ 0.  1. -3.  1.]\n",
            " [ 0.  0.  0.  0.]]\n"
          ]
        }
      ],
      "source": [
        "# add row 1 of the new matrix A_3_ref to the row 2\n",
        "A_3_ref = AddRows(A_3_ref,1,2,1)\n",
        "print(A_3_ref)"
      ]
    },
    {
      "cell_type": "markdown",
      "id": "baking-jackson",
      "metadata": {
        "id": "baking-jackson"
      },
      "source": [
        "Thus from the corresponding linear system\n",
        "\n",
        "$$\\begin{cases}\n",
        "x_1+x_2+x_3=2, \\\\ x_2-3x_3=1, \\\\ 0=0, \\end{cases}\\tag{4}$$\n",
        "\n",
        "you can find that $x_2=1+3x_3$, substitute it into the first equation and find $x_1$. Thus the solutions of the linear system $(3)$ are:\n",
        "\n",
        "$$\\begin{cases}\n",
        "x_1=1-4x_3, \\\\ x_2=1+3x_3, \\end{cases}\\tag{5}$$\n",
        "\n",
        "where $x_3$ is any real number."
      ]
    },
    {
      "cell_type": "markdown",
      "id": "limiting-singing",
      "metadata": {
        "id": "limiting-singing"
      },
      "source": [
        "Well done! You used the `NumPy` functions to solve a system of equations and also got more experience in solving it manually. As expected, using a predefined function is much easier, but gives much less insight into what is happening under the hood. Remember that `np.linalg.solve` gives an error if there are no or infinitely many solutions, thus when implementing it you will have to think carefully so not to make your program crash."
      ]
    },
    {
      "cell_type": "code",
      "execution_count": null,
      "id": "remarkable-evening",
      "metadata": {
        "id": "remarkable-evening"
      },
      "outputs": [],
      "source": []
    }
  ],
  "metadata": {
    "kernelspec": {
      "display_name": "Python 3",
      "language": "python",
      "name": "python3"
    },
    "language_info": {
      "codemirror_mode": {
        "name": "ipython",
        "version": 3
      },
      "file_extension": ".py",
      "mimetype": "text/x-python",
      "name": "python",
      "nbconvert_exporter": "python",
      "pygments_lexer": "ipython3",
      "version": "3.8.8"
    },
    "colab": {
      "provenance": [],
      "include_colab_link": true
    }
  },
  "nbformat": 4,
  "nbformat_minor": 5
}